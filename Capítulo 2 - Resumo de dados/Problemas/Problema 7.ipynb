{
 "cells": [
  {
   "cell_type": "markdown",
   "id": "662116c3",
   "metadata": {},
   "source": [
    "## Problema 7"
   ]
  },
  {
   "cell_type": "markdown",
   "id": "4d78f71e",
   "metadata": {},
   "source": [
    "#### Você foi convidado para chefiar a seção de orçamentos ou a seção técnica da Companhia MB.\n",
    "#### Qual seria a sua decisão?"
   ]
  },
  {
   "cell_type": "code",
   "execution_count": 1,
   "id": "710c5e06",
   "metadata": {},
   "outputs": [],
   "source": [
    "import pandas as pd"
   ]
  },
  {
   "cell_type": "code",
   "execution_count": 2,
   "id": "db779ce4",
   "metadata": {},
   "outputs": [],
   "source": [
    "df_instrucao_tecnica = pd.DataFrame(\n",
    "    {\n",
    "        \"Instrução\":[\"Fundamental\",\"Médio\",\"Superior\",\"Total\"],\n",
    "        \"Frequência\":[15,30,5,50],\n",
    "        \"Porcentagem\":[15*100/50,30*100/50,5*100/50,50*100/50]\n",
    "    }\n",
    ")\n",
    "df_instrucao_orcamentos = pd.DataFrame(\n",
    "    {\n",
    "        \"Instrução\":[\"Fundamental\",\"Médio\",\"Superior\",\"Total\"],\n",
    "        \"Frequência\":[12,18,6,36],\n",
    "        \"Porcentagem\":[12*100/36,18*100/36,6*100/36,36*100/36]\n",
    "    }\n",
    ")\n",
    "df_salario_tecnica = pd.DataFrame(\n",
    "    {\n",
    "        \"Classe de Salários\":[\"7.50 |-- 10.50\",\"10.50 |-- 13.50\",\"13.50 |-- 16.50\",\"16.50 |-- 19.50\",\"Total\"],\n",
    "        \"Frequência\":[14,17,11,8,50],\n",
    "        \"Porcentagem\":[14*100/50,17*100/50,11*100/50,8*100/50,50*100/50]\n",
    "    }\n",
    ")\n",
    "df_salario_orcamentos = pd.DataFrame(\n",
    "    {\n",
    "        \"Classe de Salários\":[\"4.00 |-- 8.00\",\"8.00 |-- 12.00\",\"12.00 |-- 16.00\",\"16.00 |-- 20.00\",\"20.00 |-- 24.00\",\"Total\"],\n",
    "        \"Frequência\":[10,12,8,5,1,36],\n",
    "        \"Porcentagem\":[10*100/36,12*100/36,8*100/36,5*100/36,1*100/36,36*100/36]\n",
    "    }\n",
    ")"
   ]
  },
  {
   "cell_type": "code",
   "execution_count": 3,
   "id": "88cb058a",
   "metadata": {},
   "outputs": [
    {
     "data": {
      "text/html": [
       "<div>\n",
       "<style scoped>\n",
       "    .dataframe tbody tr th:only-of-type {\n",
       "        vertical-align: middle;\n",
       "    }\n",
       "\n",
       "    .dataframe tbody tr th {\n",
       "        vertical-align: top;\n",
       "    }\n",
       "\n",
       "    .dataframe thead th {\n",
       "        text-align: right;\n",
       "    }\n",
       "</style>\n",
       "<table border=\"1\" class=\"dataframe\">\n",
       "  <thead>\n",
       "    <tr style=\"text-align: right;\">\n",
       "      <th></th>\n",
       "      <th>Instrução</th>\n",
       "      <th>Frequência</th>\n",
       "      <th>Porcentagem</th>\n",
       "    </tr>\n",
       "  </thead>\n",
       "  <tbody>\n",
       "    <tr>\n",
       "      <th>0</th>\n",
       "      <td>Fundamental</td>\n",
       "      <td>15</td>\n",
       "      <td>30.0</td>\n",
       "    </tr>\n",
       "    <tr>\n",
       "      <th>1</th>\n",
       "      <td>Médio</td>\n",
       "      <td>30</td>\n",
       "      <td>60.0</td>\n",
       "    </tr>\n",
       "    <tr>\n",
       "      <th>2</th>\n",
       "      <td>Superior</td>\n",
       "      <td>5</td>\n",
       "      <td>10.0</td>\n",
       "    </tr>\n",
       "    <tr>\n",
       "      <th>3</th>\n",
       "      <td>Total</td>\n",
       "      <td>50</td>\n",
       "      <td>100.0</td>\n",
       "    </tr>\n",
       "  </tbody>\n",
       "</table>\n",
       "</div>"
      ],
      "text/plain": [
       "     Instrução  Frequência  Porcentagem\n",
       "0  Fundamental          15         30.0\n",
       "1        Médio          30         60.0\n",
       "2     Superior           5         10.0\n",
       "3        Total          50        100.0"
      ]
     },
     "execution_count": 3,
     "metadata": {},
     "output_type": "execute_result"
    }
   ],
   "source": [
    "df_instrucao_tecnica"
   ]
  },
  {
   "cell_type": "code",
   "execution_count": 4,
   "id": "a986965b",
   "metadata": {},
   "outputs": [
    {
     "data": {
      "text/html": [
       "<div>\n",
       "<style scoped>\n",
       "    .dataframe tbody tr th:only-of-type {\n",
       "        vertical-align: middle;\n",
       "    }\n",
       "\n",
       "    .dataframe tbody tr th {\n",
       "        vertical-align: top;\n",
       "    }\n",
       "\n",
       "    .dataframe thead th {\n",
       "        text-align: right;\n",
       "    }\n",
       "</style>\n",
       "<table border=\"1\" class=\"dataframe\">\n",
       "  <thead>\n",
       "    <tr style=\"text-align: right;\">\n",
       "      <th></th>\n",
       "      <th>Instrução</th>\n",
       "      <th>Frequência</th>\n",
       "      <th>Porcentagem</th>\n",
       "    </tr>\n",
       "  </thead>\n",
       "  <tbody>\n",
       "    <tr>\n",
       "      <th>0</th>\n",
       "      <td>Fundamental</td>\n",
       "      <td>12</td>\n",
       "      <td>33.333333</td>\n",
       "    </tr>\n",
       "    <tr>\n",
       "      <th>1</th>\n",
       "      <td>Médio</td>\n",
       "      <td>18</td>\n",
       "      <td>50.000000</td>\n",
       "    </tr>\n",
       "    <tr>\n",
       "      <th>2</th>\n",
       "      <td>Superior</td>\n",
       "      <td>6</td>\n",
       "      <td>16.666667</td>\n",
       "    </tr>\n",
       "    <tr>\n",
       "      <th>3</th>\n",
       "      <td>Total</td>\n",
       "      <td>36</td>\n",
       "      <td>100.000000</td>\n",
       "    </tr>\n",
       "  </tbody>\n",
       "</table>\n",
       "</div>"
      ],
      "text/plain": [
       "     Instrução  Frequência  Porcentagem\n",
       "0  Fundamental          12    33.333333\n",
       "1        Médio          18    50.000000\n",
       "2     Superior           6    16.666667\n",
       "3        Total          36   100.000000"
      ]
     },
     "execution_count": 4,
     "metadata": {},
     "output_type": "execute_result"
    }
   ],
   "source": [
    "df_instrucao_orcamentos"
   ]
  },
  {
   "cell_type": "code",
   "execution_count": 5,
   "id": "9849e6eb",
   "metadata": {},
   "outputs": [
    {
     "data": {
      "text/html": [
       "<div>\n",
       "<style scoped>\n",
       "    .dataframe tbody tr th:only-of-type {\n",
       "        vertical-align: middle;\n",
       "    }\n",
       "\n",
       "    .dataframe tbody tr th {\n",
       "        vertical-align: top;\n",
       "    }\n",
       "\n",
       "    .dataframe thead th {\n",
       "        text-align: right;\n",
       "    }\n",
       "</style>\n",
       "<table border=\"1\" class=\"dataframe\">\n",
       "  <thead>\n",
       "    <tr style=\"text-align: right;\">\n",
       "      <th></th>\n",
       "      <th>Classe de Salários</th>\n",
       "      <th>Frequência</th>\n",
       "      <th>Porcentagem</th>\n",
       "    </tr>\n",
       "  </thead>\n",
       "  <tbody>\n",
       "    <tr>\n",
       "      <th>0</th>\n",
       "      <td>7.50 |-- 10.50</td>\n",
       "      <td>14</td>\n",
       "      <td>28.0</td>\n",
       "    </tr>\n",
       "    <tr>\n",
       "      <th>1</th>\n",
       "      <td>10.50 |-- 13.50</td>\n",
       "      <td>17</td>\n",
       "      <td>34.0</td>\n",
       "    </tr>\n",
       "    <tr>\n",
       "      <th>2</th>\n",
       "      <td>13.50 |-- 16.50</td>\n",
       "      <td>11</td>\n",
       "      <td>22.0</td>\n",
       "    </tr>\n",
       "    <tr>\n",
       "      <th>3</th>\n",
       "      <td>16.50 |-- 19.50</td>\n",
       "      <td>8</td>\n",
       "      <td>16.0</td>\n",
       "    </tr>\n",
       "    <tr>\n",
       "      <th>4</th>\n",
       "      <td>Total</td>\n",
       "      <td>50</td>\n",
       "      <td>100.0</td>\n",
       "    </tr>\n",
       "  </tbody>\n",
       "</table>\n",
       "</div>"
      ],
      "text/plain": [
       "  Classe de Salários  Frequência  Porcentagem\n",
       "0     7.50 |-- 10.50          14         28.0\n",
       "1    10.50 |-- 13.50          17         34.0\n",
       "2    13.50 |-- 16.50          11         22.0\n",
       "3    16.50 |-- 19.50           8         16.0\n",
       "4              Total          50        100.0"
      ]
     },
     "execution_count": 5,
     "metadata": {},
     "output_type": "execute_result"
    }
   ],
   "source": [
    "df_salario_tecnica"
   ]
  },
  {
   "cell_type": "code",
   "execution_count": 6,
   "id": "9438560a",
   "metadata": {},
   "outputs": [
    {
     "data": {
      "text/html": [
       "<div>\n",
       "<style scoped>\n",
       "    .dataframe tbody tr th:only-of-type {\n",
       "        vertical-align: middle;\n",
       "    }\n",
       "\n",
       "    .dataframe tbody tr th {\n",
       "        vertical-align: top;\n",
       "    }\n",
       "\n",
       "    .dataframe thead th {\n",
       "        text-align: right;\n",
       "    }\n",
       "</style>\n",
       "<table border=\"1\" class=\"dataframe\">\n",
       "  <thead>\n",
       "    <tr style=\"text-align: right;\">\n",
       "      <th></th>\n",
       "      <th>Classe de Salários</th>\n",
       "      <th>Frequência</th>\n",
       "      <th>Porcentagem</th>\n",
       "    </tr>\n",
       "  </thead>\n",
       "  <tbody>\n",
       "    <tr>\n",
       "      <th>0</th>\n",
       "      <td>4.00 |-- 8.00</td>\n",
       "      <td>10</td>\n",
       "      <td>27.777778</td>\n",
       "    </tr>\n",
       "    <tr>\n",
       "      <th>1</th>\n",
       "      <td>8.00 |-- 12.00</td>\n",
       "      <td>12</td>\n",
       "      <td>33.333333</td>\n",
       "    </tr>\n",
       "    <tr>\n",
       "      <th>2</th>\n",
       "      <td>12.00 |-- 16.00</td>\n",
       "      <td>8</td>\n",
       "      <td>22.222222</td>\n",
       "    </tr>\n",
       "    <tr>\n",
       "      <th>3</th>\n",
       "      <td>16.00 |-- 20.00</td>\n",
       "      <td>5</td>\n",
       "      <td>13.888889</td>\n",
       "    </tr>\n",
       "    <tr>\n",
       "      <th>4</th>\n",
       "      <td>20.00 |-- 24.00</td>\n",
       "      <td>1</td>\n",
       "      <td>2.777778</td>\n",
       "    </tr>\n",
       "    <tr>\n",
       "      <th>5</th>\n",
       "      <td>Total</td>\n",
       "      <td>36</td>\n",
       "      <td>100.000000</td>\n",
       "    </tr>\n",
       "  </tbody>\n",
       "</table>\n",
       "</div>"
      ],
      "text/plain": [
       "  Classe de Salários  Frequência  Porcentagem\n",
       "0      4.00 |-- 8.00          10    27.777778\n",
       "1     8.00 |-- 12.00          12    33.333333\n",
       "2    12.00 |-- 16.00           8    22.222222\n",
       "3    16.00 |-- 20.00           5    13.888889\n",
       "4    20.00 |-- 24.00           1     2.777778\n",
       "5              Total          36   100.000000"
      ]
     },
     "execution_count": 6,
     "metadata": {},
     "output_type": "execute_result"
    }
   ],
   "source": [
    "df_salario_orcamentos"
   ]
  },
  {
   "cell_type": "markdown",
   "id": "a6cc020a",
   "metadata": {},
   "source": [
    "R: Eu escolheria a área técnica.\n",
    "O grau de instrução é um pouco mais baixo mas os salários são um pouco mais altos na base da pirâmide.\n",
    "Isso significa que os funcionários dessa área são mais bem pagos."
   ]
  }
 ],
 "metadata": {
  "kernelspec": {
   "display_name": "Python 3 (ipykernel)",
   "language": "python",
   "name": "python3"
  },
  "language_info": {
   "codemirror_mode": {
    "name": "ipython",
    "version": 3
   },
   "file_extension": ".py",
   "mimetype": "text/x-python",
   "name": "python",
   "nbconvert_exporter": "python",
   "pygments_lexer": "ipython3",
   "version": "3.10.2"
  }
 },
 "nbformat": 4,
 "nbformat_minor": 5
}
