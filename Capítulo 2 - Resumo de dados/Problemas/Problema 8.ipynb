{
 "cells": [
  {
   "cell_type": "markdown",
   "id": "662116c3",
   "metadata": {},
   "source": [
    "## Problema 8"
   ]
  },
  {
   "cell_type": "markdown",
   "id": "4d78f71e",
   "metadata": {},
   "source": [
    "#### Construa um histograma, um ramo-e-folhas e um gráfico de dispersão unidimensional para o Conjunto de Dados 2 (CD-Municípios)"
   ]
  },
  {
   "cell_type": "code",
   "execution_count": 1,
   "id": "4a175f03",
   "metadata": {},
   "outputs": [],
   "source": [
    "import pandas as pd\n",
    "import matplotlib.pyplot as plt\n",
    "import numpy as np"
   ]
  },
  {
   "cell_type": "code",
   "execution_count": 2,
   "id": "5da7cd72",
   "metadata": {},
   "outputs": [
    {
     "data": {
      "text/html": [
       "<div>\n",
       "<style scoped>\n",
       "    .dataframe tbody tr th:only-of-type {\n",
       "        vertical-align: middle;\n",
       "    }\n",
       "\n",
       "    .dataframe tbody tr th {\n",
       "        vertical-align: top;\n",
       "    }\n",
       "\n",
       "    .dataframe thead th {\n",
       "        text-align: right;\n",
       "    }\n",
       "</style>\n",
       "<table border=\"1\" class=\"dataframe\">\n",
       "  <thead>\n",
       "    <tr style=\"text-align: right;\">\n",
       "      <th></th>\n",
       "      <th>N</th>\n",
       "      <th>Município</th>\n",
       "      <th>População</th>\n",
       "    </tr>\n",
       "  </thead>\n",
       "  <tbody>\n",
       "    <tr>\n",
       "      <th>5</th>\n",
       "      <td>1</td>\n",
       "      <td>São Paulo(SP)</td>\n",
       "      <td>988.8</td>\n",
       "    </tr>\n",
       "    <tr>\n",
       "      <th>6</th>\n",
       "      <td>2</td>\n",
       "      <td>Rio de Janeiro(RJ)</td>\n",
       "      <td>556.9</td>\n",
       "    </tr>\n",
       "    <tr>\n",
       "      <th>7</th>\n",
       "      <td>3</td>\n",
       "      <td>Salvador(BA)</td>\n",
       "      <td>224.6</td>\n",
       "    </tr>\n",
       "    <tr>\n",
       "      <th>8</th>\n",
       "      <td>4</td>\n",
       "      <td>Belo Horizonte(MG)</td>\n",
       "      <td>210.9</td>\n",
       "    </tr>\n",
       "    <tr>\n",
       "      <th>9</th>\n",
       "      <td>5</td>\n",
       "      <td>Fortaleza(CE)</td>\n",
       "      <td>201.5</td>\n",
       "    </tr>\n",
       "    <tr>\n",
       "      <th>10</th>\n",
       "      <td>6</td>\n",
       "      <td>Brasília(DF)</td>\n",
       "      <td>187.7</td>\n",
       "    </tr>\n",
       "    <tr>\n",
       "      <th>11</th>\n",
       "      <td>7</td>\n",
       "      <td>Curitiba(PR)</td>\n",
       "      <td>151.6</td>\n",
       "    </tr>\n",
       "    <tr>\n",
       "      <th>12</th>\n",
       "      <td>8</td>\n",
       "      <td>Recife(PE)</td>\n",
       "      <td>135.8</td>\n",
       "    </tr>\n",
       "    <tr>\n",
       "      <th>13</th>\n",
       "      <td>9</td>\n",
       "      <td>Porto Alegre(RS)</td>\n",
       "      <td>129.8</td>\n",
       "    </tr>\n",
       "    <tr>\n",
       "      <th>14</th>\n",
       "      <td>10</td>\n",
       "      <td>Manaus(AM)</td>\n",
       "      <td>119.4</td>\n",
       "    </tr>\n",
       "    <tr>\n",
       "      <th>15</th>\n",
       "      <td>11</td>\n",
       "      <td>Belém(PA)</td>\n",
       "      <td>116</td>\n",
       "    </tr>\n",
       "    <tr>\n",
       "      <th>16</th>\n",
       "      <td>12</td>\n",
       "      <td>Goiânia(GO)</td>\n",
       "      <td>102.3</td>\n",
       "    </tr>\n",
       "    <tr>\n",
       "      <th>17</th>\n",
       "      <td>13</td>\n",
       "      <td>Guarulhos(SP)</td>\n",
       "      <td>101.8</td>\n",
       "    </tr>\n",
       "    <tr>\n",
       "      <th>18</th>\n",
       "      <td>14</td>\n",
       "      <td>Campinas(SP)</td>\n",
       "      <td>92.4</td>\n",
       "    </tr>\n",
       "    <tr>\n",
       "      <th>19</th>\n",
       "      <td>15</td>\n",
       "      <td>São Gonçalo(RJ)</td>\n",
       "      <td>84.7</td>\n",
       "    </tr>\n",
       "    <tr>\n",
       "      <th>20</th>\n",
       "      <td>16</td>\n",
       "      <td>Nova Iguaçu(RJ)</td>\n",
       "      <td>83.9</td>\n",
       "    </tr>\n",
       "    <tr>\n",
       "      <th>21</th>\n",
       "      <td>17</td>\n",
       "      <td>São Luis(MA)</td>\n",
       "      <td>80.2</td>\n",
       "    </tr>\n",
       "    <tr>\n",
       "      <th>22</th>\n",
       "      <td>18</td>\n",
       "      <td>Maceió(AL)</td>\n",
       "      <td>74.7</td>\n",
       "    </tr>\n",
       "    <tr>\n",
       "      <th>23</th>\n",
       "      <td>19</td>\n",
       "      <td>Duque de Caxias(RJ)</td>\n",
       "      <td>72.7</td>\n",
       "    </tr>\n",
       "    <tr>\n",
       "      <th>24</th>\n",
       "      <td>20</td>\n",
       "      <td>São Bernardo do Campo(SP)</td>\n",
       "      <td>68.4</td>\n",
       "    </tr>\n",
       "    <tr>\n",
       "      <th>25</th>\n",
       "      <td>21</td>\n",
       "      <td>Natal(RN)</td>\n",
       "      <td>66.8</td>\n",
       "    </tr>\n",
       "    <tr>\n",
       "      <th>26</th>\n",
       "      <td>22</td>\n",
       "      <td>Teresina(PI)</td>\n",
       "      <td>66.8</td>\n",
       "    </tr>\n",
       "    <tr>\n",
       "      <th>27</th>\n",
       "      <td>23</td>\n",
       "      <td>Osasco(SP)</td>\n",
       "      <td>63.7</td>\n",
       "    </tr>\n",
       "    <tr>\n",
       "      <th>28</th>\n",
       "      <td>24</td>\n",
       "      <td>Santo André(SP)</td>\n",
       "      <td>62.8</td>\n",
       "    </tr>\n",
       "    <tr>\n",
       "      <th>29</th>\n",
       "      <td>25</td>\n",
       "      <td>Campo Grande(MS)</td>\n",
       "      <td>61.9</td>\n",
       "    </tr>\n",
       "    <tr>\n",
       "      <th>30</th>\n",
       "      <td>26</td>\n",
       "      <td>João Pessoa(PB)</td>\n",
       "      <td>56.2</td>\n",
       "    </tr>\n",
       "    <tr>\n",
       "      <th>31</th>\n",
       "      <td>27</td>\n",
       "      <td>Jaboatão(PE)</td>\n",
       "      <td>54.1</td>\n",
       "    </tr>\n",
       "    <tr>\n",
       "      <th>32</th>\n",
       "      <td>28</td>\n",
       "      <td>Contagem(MG)</td>\n",
       "      <td>50.3</td>\n",
       "    </tr>\n",
       "    <tr>\n",
       "      <th>33</th>\n",
       "      <td>29</td>\n",
       "      <td>São José dos Campos(SP)</td>\n",
       "      <td>49.7</td>\n",
       "    </tr>\n",
       "    <tr>\n",
       "      <th>34</th>\n",
       "      <td>30</td>\n",
       "      <td>Ribeirão Preto(SP)</td>\n",
       "      <td>46.3</td>\n",
       "    </tr>\n",
       "  </tbody>\n",
       "</table>\n",
       "</div>"
      ],
      "text/plain": [
       "     N                  Município População\n",
       "5    1              São Paulo(SP)     988.8\n",
       "6    2         Rio de Janeiro(RJ)     556.9\n",
       "7    3               Salvador(BA)     224.6\n",
       "8    4         Belo Horizonte(MG)     210.9\n",
       "9    5              Fortaleza(CE)     201.5\n",
       "10   6               Brasília(DF)     187.7\n",
       "11   7               Curitiba(PR)     151.6\n",
       "12   8                 Recife(PE)     135.8\n",
       "13   9           Porto Alegre(RS)     129.8\n",
       "14  10                 Manaus(AM)     119.4\n",
       "15  11                  Belém(PA)       116\n",
       "16  12                Goiânia(GO)     102.3\n",
       "17  13              Guarulhos(SP)     101.8\n",
       "18  14               Campinas(SP)      92.4\n",
       "19  15            São Gonçalo(RJ)      84.7\n",
       "20  16            Nova Iguaçu(RJ)      83.9\n",
       "21  17               São Luis(MA)      80.2\n",
       "22  18                 Maceió(AL)      74.7\n",
       "23  19        Duque de Caxias(RJ)      72.7\n",
       "24  20  São Bernardo do Campo(SP)      68.4\n",
       "25  21                  Natal(RN)      66.8\n",
       "26  22               Teresina(PI)      66.8\n",
       "27  23                 Osasco(SP)      63.7\n",
       "28  24            Santo André(SP)      62.8\n",
       "29  25           Campo Grande(MS)      61.9\n",
       "30  26            João Pessoa(PB)      56.2\n",
       "31  27               Jaboatão(PE)      54.1\n",
       "32  28               Contagem(MG)      50.3\n",
       "33  29    São José dos Campos(SP)      49.7\n",
       "34  30         Ribeirão Preto(SP)      46.3"
      ]
     },
     "execution_count": 2,
     "metadata": {},
     "output_type": "execute_result"
    }
   ],
   "source": [
    "#importa o excel\n",
    "df = pd.read_excel(r'C:\\Estatística Básica\\Conjunto de Dados.xls', sheet_name='CD-Municipios', header=None)\n",
    "#deleta as 4 primeiras linhas\n",
    "df = df.drop([0, 1, 2, 3])\n",
    "#promove a primeira linha a header\n",
    "df = df.rename(columns=df.iloc[0])\n",
    "#remove a linha que acabou de virar header e a ultima que ta sobrando(?)\n",
    "df = df.drop([4,35])\n",
    "df"
   ]
  },
  {
   "cell_type": "code",
   "execution_count": 3,
   "id": "fee47fae",
   "metadata": {},
   "outputs": [],
   "source": [
    "populacoes_e_frequencias = {}\n",
    "for valor in df['População'].sort_values(ascending=True):\n",
    "    populacoes_e_frequencias[valor]=0\n",
    "for valor in df['População']:\n",
    "    populacoes_e_frequencias[valor]+=1"
   ]
  },
  {
   "cell_type": "code",
   "execution_count": 4,
   "id": "ee51ab57",
   "metadata": {},
   "outputs": [
    {
     "name": "stdout",
     "output_type": "stream",
     "text": [
      "intervalos_de_populacao: [0, 157, 314, 471, 628, 785, 942, 1099]\n",
      "frequencias_de_intervalo: [23, 4, 0, 1, 0, 0, 1, 0]\n",
      "densidades_de_frequencia: [3.8333333333333335, 0.6666666666666666, 0.0, 0.16666666666666666, 0.0, 0.0, 0.16666666666666666, 0.0]\n"
     ]
    },
    {
     "data": {
      "image/png": "[encoded data removed]",
      "text/plain": [
       "<Figure size 432x288 with 1 Axes>"
      ]
     },
     "metadata": {
      "needs_background": "light"
     },
     "output_type": "display_data"
    }
   ],
   "source": [
    "#histograma\n",
    "intervalos_de_populacao = []\n",
    "frequencias_de_intervalo = []\n",
    "densidades_de_frequencia = []\n",
    "menor=min(populacoes_e_frequencias)\n",
    "maior=max(populacoes_e_frequencias)\n",
    "numero_de_intervalos=6\n",
    "tamanho_de_intervalos= round((maior-menor)/numero_de_intervalos)\n",
    "for numero in range(round(menor-tamanho_de_intervalos),round(maior+tamanho_de_intervalos)):\n",
    "    if numero%tamanho_de_intervalos==0:\n",
    "        intervalos_de_populacao.append(numero)\n",
    "print(\"intervalos_de_populacao:\",intervalos_de_populacao)\n",
    "for intervalo in intervalos_de_populacao:\n",
    "    soma_do_intervalo=0\n",
    "    for populacao in populacoes_e_frequencias:  \n",
    "        if populacao >= intervalo and populacao < intervalo+tamanho_de_intervalos:\n",
    "            soma_do_intervalo+=1\n",
    "    frequencias_de_intervalo.append(soma_do_intervalo)\n",
    "    densidades_de_frequencia.append(soma_do_intervalo/numero_de_intervalos)\n",
    "    \n",
    "print(\"frequencias_de_intervalo:\",frequencias_de_intervalo)\n",
    "print(\"densidades_de_frequencia:\",densidades_de_frequencia)\n",
    "fig = plt.figure()\n",
    "ax = fig.add_axes([0,0,1,1])\n",
    "ax.bar(intervalos_de_populacao,densidades_de_frequencia,width=tamanho_de_intervalos*0.8)\n",
    "plt.show()"
   ]
  },
  {
   "cell_type": "code",
   "execution_count": 5,
   "id": "b9850672",
   "metadata": {},
   "outputs": [
    {
     "data": {
      "image/png": "[encoded data removed]",
      "text/plain": [
       "<Figure size 432x288 with 1 Axes>"
      ]
     },
     "metadata": {
      "needs_background": "light"
     },
     "output_type": "display_data"
    }
   ],
   "source": [
    "#dispersão unidimensional\n",
    "plt.scatter(intervalos_de_populacao, frequencias_de_intervalo, s=50, c=np.random.rand(len(intervalos_de_populacao)))\n",
    "plt.show()"
   ]
  },
  {
   "cell_type": "code",
   "execution_count": 6,
   "id": "dea3bbe6",
   "metadata": {},
   "outputs": [
    {
     "data": {
      "image/png": "[encoded data removed]",
      "text/plain": [
       "<Figure size 432x288 with 1 Axes>"
      ]
     },
     "metadata": {
      "needs_background": "light"
     },
     "output_type": "display_data"
    }
   ],
   "source": [
    "#ramo-e-folhas\n",
    "populacoes = []\n",
    "frequencias = []\n",
    "for populacao, frequencia in populacoes_e_frequencias.items():\n",
    "    populacoes.append(populacao)\n",
    "    frequencias.append(frequencia)\n",
    "\n",
    "plt.scatter(populacoes, frequencias, s=50, c=np.random.rand(len(populacoes)))\n",
    "plt.ylim(0, 2.1)\n",
    "plt.show()"
   ]
  }
 ],
 "metadata": {
  "kernelspec": {
   "display_name": "Python 3 (ipykernel)",
   "language": "python",
   "name": "python3"
  },
  "language_info": {
   "codemirror_mode": {
    "name": "ipython",
    "version": 3
   },
   "file_extension": ".py",
   "mimetype": "text/x-python",
   "name": "python",
   "nbconvert_exporter": "python",
   "pygments_lexer": "ipython3",
   "version": "3.10.2"
  }
 },
 "nbformat": 4,
 "nbformat_minor": 5
}
