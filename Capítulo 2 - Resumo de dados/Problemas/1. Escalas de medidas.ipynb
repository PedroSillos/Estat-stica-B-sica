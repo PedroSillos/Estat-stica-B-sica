{
 "cells": [
  {
   "cell_type": "markdown",
   "id": "662116c3",
   "metadata": {},
   "source": [
    "## 1. Escalas de medidas"
   ]
  },
  {
   "cell_type": "markdown",
   "id": "3fd50f50",
   "metadata": {},
   "source": [
    "#### Para cada uma das variáveis abaixo, indique a escala usualmente adotada para resumir os dados em tabelas de frequência:"
   ]
  },
  {
   "cell_type": "markdown",
   "id": "31eea33e",
   "metadata": {},
   "source": [
    "##### (a) Salários do empregados de uma indústria."
   ]
  },
  {
   "cell_type": "markdown",
   "id": "f56278a6",
   "metadata": {},
   "source": [
    "Valores em reais. Origem: 0 reais. Unidade: 1 real.\n",
    "\n",
    "A estrutura da escala não é alterada por transformações da forma y = cx, c > 0.\n",
    "\n",
    "Podemos transformar para dólar ou pesos. **Escala razão.**"
   ]
  },
  {
   "cell_type": "markdown",
   "id": "6cefd1f3",
   "metadata": {},
   "source": [
    "##### (b) Opinião de consumidores sobre determinado produto."
   ]
  },
  {
   "cell_type": "markdown",
   "id": "2c92b24b",
   "metadata": {},
   "source": [
    "Valores *podem* ser: péssimo, ruim, regular, bom, ótimo.\n",
    "\n",
    "Uma medida é maior do que a outra.\n",
    "\n",
    "Transformações que preservam a ordem não alteram a estrutura da escala. **Escala Ordinal.**"
   ]
  },
  {
   "cell_type": "markdown",
   "id": "3e0c967a",
   "metadata": {},
   "source": [
    "##### (c) Número de respostas certas de alunos num teste com 10 itens."
   ]
  },
  {
   "cell_type": "markdown",
   "id": "b972bffa",
   "metadata": {},
   "source": [
    "Valores inteiros. Origem: 0 respostas certas. Unidade: 1 resposta certa.\n",
    "\n",
    "Existe um zero absoluto (qualquer sistema vai ter o mesmo 0).\n",
    "\n",
    "Podemos transformar para uma prova de 20 questões, basta fazer (número de respostas certas) * 2. **Escala Razão**"
   ]
  },
  {
   "cell_type": "markdown",
   "id": "3f17c752",
   "metadata": {},
   "source": [
    "##### (d) Temperatura diária da cidade de Manaus."
   ]
  },
  {
   "cell_type": "markdown",
   "id": "54ff9a05",
   "metadata": {},
   "source": [
    "Valores em graus. Origem: 0 °C. Unidade: 1 °C.\n",
    "\n",
    "É possível quantificar a diferença entre categorias, mas não há zero absoluto.\n",
    "\n",
    "**Escala Intervalar**"
   ]
  },
  {
   "cell_type": "markdown",
   "id": "2a95a76c",
   "metadata": {},
   "source": [
    "##### (e) Porcentagem da receita de municípios aplicada em educação."
   ]
  },
  {
   "cell_type": "markdown",
   "id": "3126913b",
   "metadata": {},
   "source": [
    "Valores em porcentagem. Origem: 0%. Unidade: 1%.\n",
    "\n",
    "Existe um zero absoluto. P.E.: Podemos converter para fora da porcentagem se soubermos a receita total (y = x * receitatotal/100)\n",
    "\n",
    "**Escala Razão**"
   ]
  },
  {
   "cell_type": "markdown",
   "id": "c07c1710",
   "metadata": {},
   "source": [
    "##### (f) Opinião dos empregados da Companhia MB sobre a realização ou não de cursos obrigatórios de treinamento.\n"
   ]
  },
  {
   "cell_type": "markdown",
   "id": "931832ab",
   "metadata": {},
   "source": [
    "Valores: Sim e não.\n",
    "\n",
    "Só podemos afirmar que uma medida é diferente da outra.\n",
    "\n",
    "**Escala nominal**"
   ]
  },
  {
   "cell_type": "markdown",
   "id": "1518b86f",
   "metadata": {},
   "source": [
    "##### (g) QI de um indivíduo."
   ]
  },
  {
   "cell_type": "markdown",
   "id": "be8e1cee",
   "metadata": {},
   "source": [
    "Origem: 0. Unidade: 1.\n",
    "\n",
    "Existe um zero absoluto.\n",
    "\n",
    "Podemos fazer transformações do tipo y = cx, c > 0; **Escala Razão**"
   ]
  }
 ],
 "metadata": {
  "kernelspec": {
   "display_name": "Python 3 (ipykernel)",
   "language": "python",
   "name": "python3"
  },
  "language_info": {
   "codemirror_mode": {
    "name": "ipython",
    "version": 3
   },
   "file_extension": ".py",
   "mimetype": "text/x-python",
   "name": "python",
   "nbconvert_exporter": "python",
   "pygments_lexer": "ipython3",
   "version": "3.10.2"
  }
 },
 "nbformat": 4,
 "nbformat_minor": 5
}
