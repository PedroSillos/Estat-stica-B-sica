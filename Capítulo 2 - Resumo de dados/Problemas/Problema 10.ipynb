{
 "cells": [
  {
   "cell_type": "markdown",
   "id": "662116c3",
   "metadata": {},
   "source": [
    "## Problema 10"
   ]
  },
  {
   "cell_type": "markdown",
   "id": "4d78f71e",
   "metadata": {},
   "source": [
    "#### Dispomos de uma relação de 200 aluguéis de imóveis urbanos e uma relação de 100 aluguéis rurais."
   ]
  },
  {
   "cell_type": "code",
   "execution_count": 1,
   "id": "f0d0477c",
   "metadata": {},
   "outputs": [],
   "source": [
    "import pandas as pd\n",
    "import matplotlib.pyplot as plt"
   ]
  },
  {
   "cell_type": "code",
   "execution_count": 2,
   "id": "636a103e",
   "metadata": {},
   "outputs": [],
   "source": [
    "df = pd.DataFrame(\n",
    "    {\n",
    "        \"Classes de alugueis\":[\"2 até 3\",\"3 até 5\",\"5 até 7\",\"7 até 10\",\"10 até 15\",\"Total\"],\n",
    "        \"Zona Urbana\":[10,40,80,50,20,200],\n",
    "        \"Porcentagem Zona Urbana\":[10*100/200,40*100/200,80*100/200,50*100/200,20*100/200,200*100/200],\n",
    "        \"Zona Rural\":[30,50,15,5,0,100],\n",
    "        \"Porcentagem Zona Rural\":[30*100/100,50*100/100,15*100/100,5*100/100*100/100,0*100/100,100*100/100]\n",
    "    }\n",
    ")"
   ]
  },
  {
   "cell_type": "markdown",
   "id": "9bd84e96",
   "metadata": {},
   "source": [
    "##### (a) Construa os histogramas das duas distribuições."
   ]
  },
  {
   "cell_type": "code",
   "execution_count": 3,
   "id": "1f5deefe",
   "metadata": {},
   "outputs": [
    {
     "name": "stdout",
     "output_type": "stream",
     "text": [
      "Histograma Zona Urbana:\n"
     ]
    },
    {
     "data": {
      "image/png": "[encoded data removed]",
      "text/plain": [
       "<Figure size 432x288 with 1 Axes>"
      ]
     },
     "metadata": {
      "needs_background": "light"
     },
     "output_type": "display_data"
    },
    {
     "name": "stdout",
     "output_type": "stream",
     "text": [
      "Histograma Zona Rural:\n"
     ]
    },
    {
     "data": {
      "image/png": "[encoded data removed]",
      "text/plain": [
       "<Figure size 432x288 with 1 Axes>"
      ]
     },
     "metadata": {
      "needs_background": "light"
     },
     "output_type": "display_data"
    }
   ],
   "source": [
    "fig = plt.figure()\n",
    "ax = fig.add_axes([0,0,1,1])\n",
    "x = df['Classes de alugueis'].tolist()[:-1]\n",
    "y = df['Porcentagem Zona Urbana'].tolist()[:-1]\n",
    "ax.bar(x, y)\n",
    "print(\"Histograma Zona Urbana:\")\n",
    "plt.show()\n",
    "\n",
    "fig = plt.figure()\n",
    "ax = fig.add_axes([0,0,1,1])\n",
    "x = df['Classes de alugueis'].tolist()[:-1]\n",
    "y = df['Porcentagem Zona Rural'].tolist()[:-1]\n",
    "ax.bar(x, y)\n",
    "print(\"Histograma Zona Rural:\")\n",
    "plt.show()"
   ]
  },
  {
   "cell_type": "markdown",
   "id": "f2b1443c",
   "metadata": {},
   "source": [
    "##### (b) Discuta e compare as distribuições."
   ]
  },
  {
   "cell_type": "markdown",
   "id": "ea2e8f38",
   "metadata": {},
   "source": [
    "A zona urbana possui uma concentração maior na classe de 5 até 7. 3 até 5 e 7 até 10 são muitos semelhantes assim como 2 até 3 e 10 até 15.\n",
    "A zona rural possui uma concentração muito maior nas duas primeiras classes, tendo 80% dos valores nessas classes, 15% para  5 até 7, 5% para 7 até 10 e 0 para 10 até 15."
   ]
  }
 ],
 "metadata": {
  "kernelspec": {
   "display_name": "Python 3 (ipykernel)",
   "language": "python",
   "name": "python3"
  },
  "language_info": {
   "codemirror_mode": {
    "name": "ipython",
    "version": 3
   },
   "file_extension": ".py",
   "mimetype": "text/x-python",
   "name": "python",
   "nbconvert_exporter": "python",
   "pygments_lexer": "ipython3",
   "version": "3.10.2"
  }
 },
 "nbformat": 4,
 "nbformat_minor": 5
}
