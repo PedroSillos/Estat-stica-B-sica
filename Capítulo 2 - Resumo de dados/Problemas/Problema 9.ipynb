{
 "cells": [
  {
   "cell_type": "markdown",
   "id": "662116c3",
   "metadata": {},
   "source": [
    "## Problema 9"
   ]
  },
  {
   "cell_type": "markdown",
   "id": "4d78f71e",
   "metadata": {},
   "source": [
    "#### A MB Industria e Comércio montou um curso experimental e indicou 25 funcionários para a primeira turma. Responda as questões:"
   ]
  },
  {
   "cell_type": "code",
   "execution_count": 1,
   "id": "f0d0477c",
   "metadata": {},
   "outputs": [],
   "source": [
    "import pandas as pd\n",
    "import matplotlib.pyplot as plt"
   ]
  },
  {
   "cell_type": "markdown",
   "id": "9bd84e96",
   "metadata": {},
   "source": [
    "##### (a) Como você identificaria (qualitativa nominal ou ordinal e quantitativa discreta ou contínua) cada uma das 9 variáveis listadas?"
   ]
  },
  {
   "cell_type": "markdown",
   "id": "7dbc3cd5",
   "metadata": {},
   "source": [
    " - Seção: qualitativa nominal;\n",
    " - Administr.: quantitativa discreta;\n",
    " - Direito: quantitativa discreta;\n",
    " - Redação: quantitativa contínua;\n",
    " - Estatíst.: quantitativa discreta;\n",
    " - Inglês: qualitativa ordinal;\n",
    " - Metodologia: qualitativa ordinal;\n",
    " - Política: quantitativa discreta;\n",
    " - Economia: quantitativa discreta."
   ]
  },
  {
   "cell_type": "markdown",
   "id": "35073926",
   "metadata": {},
   "source": [
    "##### (b) Compare e indique as diferenças existentes entre as distribuições das variáveis Direito, Política e Estatítisca."
   ]
  },
  {
   "cell_type": "markdown",
   "id": "b05aa2f5",
   "metadata": {},
   "source": [
    " - Direito: Todos as ocorrências foram 9.0;\n",
    " - Política: Aproximadamente 40% são 6.0 e 6.5, enquanto os outros 60% são de 9.0 a 10.0;\n",
    " - Estatística: Fora 1 ocorrência de 4.0, todas as notas se distribuem de forma semelhante de 7 a 10."
   ]
  },
  {
   "cell_type": "markdown",
   "id": "7933acec",
   "metadata": {},
   "source": [
    "##### (c) Construa o histograma para as notas da variável Redação"
   ]
  },
  {
   "cell_type": "code",
   "execution_count": 2,
   "id": "c6d94320",
   "metadata": {},
   "outputs": [
    {
     "name": "stdout",
     "output_type": "stream",
     "text": [
      "Histograma - Redação\n"
     ]
    },
    {
     "data": {
      "image/png": "[encoded data removed]",
      "text/plain": [
       "<Figure size 432x288 with 1 Axes>"
      ]
     },
     "metadata": {
      "needs_background": "light"
     },
     "output_type": "display_data"
    }
   ],
   "source": [
    "notas_de_redação = [8.6,7.0,8.0,8.6,8.0,8.5,8.2,7.5,9.4,7.9,8.6,8.3,7.0,8.6,8.6,9.5,6.3,7.6,6.8,7.5,7.7,8.7,7.3,8.5,7.0]\n",
    "plt.hist(notas_de_redação, bins='fd', range=None, density=True, histtype='bar', rwidth=0.8, color='Orange')\n",
    "print(\"Histograma - Redação\")\n",
    "plt.show()"
   ]
  },
  {
   "cell_type": "markdown",
   "id": "ffc6eab8",
   "metadata": {},
   "source": [
    "##### (d) Construa a distribuição de frequências para a variável Metodologia e faça um gráfico para indicar essa distribuição."
   ]
  },
  {
   "cell_type": "code",
   "execution_count": 3,
   "id": "ac6e32e9",
   "metadata": {},
   "outputs": [
    {
     "name": "stdout",
     "output_type": "stream",
     "text": [
      "Distribuição de frequências - Metodologia\n"
     ]
    },
    {
     "data": {
      "image/png": "[encoded data removed]",
      "text/plain": [
       "<Figure size 432x288 with 1 Axes>"
      ]
     },
     "metadata": {
      "needs_background": "light"
     },
     "output_type": "display_data"
    }
   ],
   "source": [
    "notas_de_metodologia = [\"A\",\"C\",\"B\",\"C\",\"A\",\"A\",\"C\",\"C\",\"B\",\"C\",\"B\",\"B\",\"C\",\"B\",\"B\",\"A\",\"C\",\"C\",\"C\",\"B\",\"B\",\"A\",\"C\",\"A\",\"A\"]\n",
    "plt.hist(sorted(notas_de_metodologia), bins=3, density=True, histtype='bar', rwidth=0.75, color='Orange')\n",
    "print(\"Distribuição de frequências - Metodologia\")\n",
    "plt.show()"
   ]
  },
  {
   "cell_type": "markdown",
   "id": "31609ba9",
   "metadata": {},
   "source": [
    "##### (e) Sorteado ao acaso um dos 25 funcionários, qual a probabilidade de que ele tenha obtido grau A em Metodologia?"
   ]
  },
  {
   "cell_type": "code",
   "execution_count": 4,
   "id": "caa5ba38",
   "metadata": {},
   "outputs": [
    {
     "name": "stdout",
     "output_type": "stream",
     "text": [
      "Resposta: 0.28\n"
     ]
    }
   ],
   "source": [
    "probabilidade_grau_A = notas_de_metodologia.count('A')/len(notas_de_metodologia)\n",
    "print(\"Resposta:\",probabilidade_grau_A)"
   ]
  },
  {
   "cell_type": "markdown",
   "id": "433fb2f9",
   "metadata": {},
   "source": [
    "##### (f) Se, em vez de um, sorteássemos dois, a probabilidade de que ambos tivessem tido A em Metodologia é maior ou menor do que a resposta dada em (e)?"
   ]
  },
  {
   "cell_type": "code",
   "execution_count": 5,
   "id": "70e1aa6e",
   "metadata": {},
   "outputs": [
    {
     "name": "stdout",
     "output_type": "stream",
     "text": [
      "A probabilidade de que ambos tivessem tido A em Metodologia é menor do que a resposta dada em (e).\n"
     ]
    }
   ],
   "source": [
    "probabilidade_primeiro_grau_A = notas_de_metodologia.count('A')/len(notas_de_metodologia)\n",
    "probabilidade_segundo_grau_A = (notas_de_metodologia.count('A')-1) / (len(notas_de_metodologia)-1)\n",
    "probabilidade_ambos_grau_A = probabilidade_primeiro_grau_A*probabilidade_segundo_grau_A\n",
    "resposta = ''\n",
    "if probabilidade_ambos_grau_A > probabilidade_primeiro_grau_A:\n",
    "    resposta = 'maior'\n",
    "else:\n",
    "    resposta = 'menor'\n",
    "print('A probabilidade de que ambos tivessem tido A em Metodologia é', resposta, 'do que a resposta dada em (e).')\n"
   ]
  },
  {
   "cell_type": "markdown",
   "id": "9d6f296e",
   "metadata": {},
   "source": [
    "##### (g) Como é o aproveitamento dos funcionários na disciplina Estatística, segundo a seção a que eles pertencem?"
   ]
  },
  {
   "cell_type": "code",
   "execution_count": 6,
   "id": "db5a4d42",
   "metadata": {},
   "outputs": [],
   "source": [
    "df_estat_por_secao = pd.DataFrame(\n",
    "    {\n",
    "        \"Funcionário\":range(1,25+1),\n",
    "        \"Seção\":[\"p\",\"p\",\"p\",\"p\",\"p\",\"p\",\"p\",\"t\",\"t\",\"t\",\"t\",\"t\",\"t\",\"t\",\"v\",\"v\",\"v\",\"v\",\"v\",\"v\",\"v\",\"v\",\"v\",\"v\",\"v\"],\n",
    "        \"Estatíst.\":[9.0,9.0,8.0,8.0,9.0,10.0,8.0,8.0,9.0,8.0,10.0,7.0,7.0,9.0,9.0,7.0,8.0,9.0,4.0,7.0,7.0,8.0,10.0,9.0,9.0]\n",
    "    }\n",
    ")\n",
    "notas_estat_pessoal = []\n",
    "notas_estat_tecnica = []\n",
    "notas_estat_vendas = []\n",
    "for index, row in df_estat_por_secao.iterrows():\n",
    "    if row['Seção'] == 'p':\n",
    "        notas_estat_pessoal.append(row['Estatíst.'])\n",
    "    if row['Seção'] == 't':\n",
    "        notas_estat_tecnica.append(row['Estatíst.'])\n",
    "    if row['Seção'] == 'v':\n",
    "        notas_estat_vendas.append(row['Estatíst.'])"
   ]
  },
  {
   "cell_type": "code",
   "execution_count": 17,
   "id": "e77d44ad",
   "metadata": {},
   "outputs": [
    {
     "name": "stdout",
     "output_type": "stream",
     "text": [
      "notas_estat_pessoal\n"
     ]
    },
    {
     "data": {
      "text/plain": [
       "(array([0., 0., 0., 0., 0., 0., 0., 0., 3., 4.]),\n",
       " array([ 0.,  1.,  2.,  3.,  4.,  5.,  6.,  7.,  8.,  9., 10.]),\n",
       " <BarContainer object of 10 artists>)"
      ]
     },
     "execution_count": 17,
     "metadata": {},
     "output_type": "execute_result"
    },
    {
     "data": {
      "image/png": "[encoded data removed]",
      "text/plain": [
       "<Figure size 432x288 with 1 Axes>"
      ]
     },
     "metadata": {
      "needs_background": "light"
     },
     "output_type": "display_data"
    }
   ],
   "source": [
    "print('notas_estat_pessoal')\n",
    "plt.hist(notas_estat_pessoal,bins=10, range=(0,10), rwidth=0.8)"
   ]
  },
  {
   "cell_type": "code",
   "execution_count": 8,
   "id": "57721f8d",
   "metadata": {},
   "outputs": [
    {
     "name": "stdout",
     "output_type": "stream",
     "text": [
      "notas_estat_tecnica\n"
     ]
    },
    {
     "data": {
      "text/plain": [
       "(array([0., 0., 0., 0., 0., 0., 0., 0., 0., 2., 2., 2., 1.]),\n",
       " array([ 0.        ,  0.76923077,  1.53846154,  2.30769231,  3.07692308,\n",
       "         3.84615385,  4.61538462,  5.38461538,  6.15384615,  6.92307692,\n",
       "         7.69230769,  8.46153846,  9.23076923, 10.        ]),\n",
       " <BarContainer object of 13 artists>)"
      ]
     },
     "execution_count": 8,
     "metadata": {},
     "output_type": "execute_result"
    },
    {
     "data": {
      "image/png": "[encoded data removed]",
      "text/plain": [
       "<Figure size 432x288 with 1 Axes>"
      ]
     },
     "metadata": {
      "needs_background": "light"
     },
     "output_type": "display_data"
    }
   ],
   "source": [
    "print('notas_estat_tecnica')\n",
    "plt.hist(notas_estat_tecnica,bins='auto', range=(0,10), rwidth=0.8)"
   ]
  },
  {
   "cell_type": "code",
   "execution_count": 9,
   "id": "b19a7d46",
   "metadata": {},
   "outputs": [
    {
     "name": "stdout",
     "output_type": "stream",
     "text": [
      "notas_estat_vendas\n"
     ]
    },
    {
     "data": {
      "text/plain": [
       "(array([0., 0., 0., 1., 0., 3., 2., 5.]),\n",
       " array([ 0.  ,  1.25,  2.5 ,  3.75,  5.  ,  6.25,  7.5 ,  8.75, 10.  ]),\n",
       " <BarContainer object of 8 artists>)"
      ]
     },
     "execution_count": 9,
     "metadata": {},
     "output_type": "execute_result"
    },
    {
     "data": {
      "image/png": "[encoded data removed]",
      "text/plain": [
       "<Figure size 432x288 with 1 Axes>"
      ]
     },
     "metadata": {
      "needs_background": "light"
     },
     "output_type": "display_data"
    }
   ],
   "source": [
    "print('notas_estat_vendas')\n",
    "plt.hist(notas_estat_vendas,bins='auto', range=(0,10), rwidth=0.8)"
   ]
  }
 ],
 "metadata": {
  "kernelspec": {
   "display_name": "Python 3 (ipykernel)",
   "language": "python",
   "name": "python3"
  },
  "language_info": {
   "codemirror_mode": {
    "name": "ipython",
    "version": 3
   },
   "file_extension": ".py",
   "mimetype": "text/x-python",
   "name": "python",
   "nbconvert_exporter": "python",
   "pygments_lexer": "ipython3",
   "version": "3.10.2"
  }
 },
 "nbformat": 4,
 "nbformat_minor": 5
}
