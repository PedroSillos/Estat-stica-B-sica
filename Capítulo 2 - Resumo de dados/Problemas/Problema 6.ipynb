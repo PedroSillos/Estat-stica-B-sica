{
 "cells": [
  {
   "cell_type": "markdown",
   "id": "662116c3",
   "metadata": {},
   "source": [
    "## Problema 6"
   ]
  },
  {
   "cell_type": "markdown",
   "id": "4d78f71e",
   "metadata": {},
   "source": [
    "#### As taxas médias geométricas de incremento anual (por 100 habitantes) dos 30 maiores minucípios do Brasil estão dadas abaixo:"
   ]
  },
  {
   "cell_type": "code",
   "execution_count": 1,
   "id": "57602af1",
   "metadata": {},
   "outputs": [],
   "source": [
    "import pandas as pd\n",
    "import matplotlib.pyplot as plt\n",
    "import math\n",
    "import numpy as np"
   ]
  },
  {
   "cell_type": "code",
   "execution_count": 2,
   "id": "940251f3",
   "metadata": {},
   "outputs": [
    {
     "name": "stdout",
     "output_type": "stream",
     "text": [
      "Incrementos anuais: [3.67, 1.28, 3.96, 2.93, 7.77, 2.78, 1.82, 8.14, 6.54, 2.82, 4.65, 5.54, 3.73, 2.43, 5.84, 8.45, 1.88, 0.9, 4.1, 4.17, 7.35, 5.28, 2.12, 5.09, 4.3, 5.36, 3.63, 5.41, 4.26, 4.07]\n"
     ]
    }
   ],
   "source": [
    "incrementos_anuais = [3.67,1.28,3.96,2.93,7.77,2.78,\n",
    "                      1.82,8.14,6.54,2.82,4.65,5.54,\n",
    "                      3.73,2.43,5.84,8.45,1.88,0.90,\n",
    "                      4.10,4.17,7.35,5.28,2.12,5.09,\n",
    "                      4.30,5.36,3.63,5.41,4.26,4.07]\n",
    "print(\"Incrementos anuais:\",incrementos_anuais)"
   ]
  },
  {
   "cell_type": "markdown",
   "id": "aad46f56",
   "metadata": {},
   "source": [
    "##### (a) Construa um histograma"
   ]
  },
  {
   "cell_type": "code",
   "execution_count": 3,
   "id": "bf4871ad",
   "metadata": {},
   "outputs": [
    {
     "data": {
      "image/png": "[encoded data removed]",
      "text/plain": [
       "<Figure size 432x288 with 1 Axes>"
      ]
     },
     "metadata": {
      "needs_background": "light"
     },
     "output_type": "display_data"
    }
   ],
   "source": [
    "#criar (vazias) as listas que serão usadas no histograma\n",
    "faixas_de_incremento = []\n",
    "frequencias_de_faixa = []\n",
    "densidades_de_faixa = []\n",
    "#encontra o menor e o maior valor\n",
    "menor = min(incrementos_anuais)\n",
    "maior = max(incrementos_anuais)\n",
    "#encontra o tamanho de cada faixa\n",
    "numero_de_faixas = 6\n",
    "tamanho_da_faixa = math.ceil( (maior-menor)/numero_de_faixas )\n",
    "#popula a lista de faixas\n",
    "menor_faixa = math.ceil(menor-tamanho_da_faixa)\n",
    "maior_faixa = math.ceil(maior+1+tamanho_da_faixa)\n",
    "for number in range(menor_faixa, maior_faixa):\n",
    "    if number%tamanho_da_faixa == 0:\n",
    "        faixas_de_incremento.append(number)\n",
    "#popula as frequencias_de_faixa\n",
    "for faixa_de_incremento in faixas_de_incremento:\n",
    "    frequencia_de_faixa = 0\n",
    "    for incremento in incrementos_anuais:\n",
    "        if incremento >= faixa_de_incremento and incremento < faixa_de_incremento+tamanho_da_faixa:\n",
    "            frequencia_de_faixa+=1\n",
    "    frequencias_de_faixa.append(frequencia_de_faixa)\n",
    "#popula as densidades_de_faixa\n",
    "for frequencia in frequencias_de_faixa:\n",
    "    densidades_de_faixa.append(frequencia/numero_de_faixas)\n",
    "#plota o histograma\n",
    "fig = plt.figure()\n",
    "ax = fig.add_axes([0,0,1,1])\n",
    "ax.bar(faixas_de_incremento,densidades_de_faixa)\n",
    "plt.show()"
   ]
  },
  {
   "cell_type": "markdown",
   "id": "f0c164e8",
   "metadata": {},
   "source": [
    "##### (b) Construa um gráfico de dispersão."
   ]
  },
  {
   "cell_type": "code",
   "execution_count": 4,
   "id": "f3f0228f",
   "metadata": {},
   "outputs": [
    {
     "data": {
      "image/png": "[encoded data removed]",
      "text/plain": [
       "<Figure size 432x288 with 1 Axes>"
      ]
     },
     "metadata": {
      "needs_background": "light"
     },
     "output_type": "display_data"
    }
   ],
   "source": [
    "#plota o gráfico\n",
    "marker_size = 25\n",
    "plt.scatter(faixas_de_incremento, frequencias_de_faixa, s=marker_size)\n",
    "plt.show()"
   ]
  }
 ],
 "metadata": {
  "kernelspec": {
   "display_name": "Python 3 (ipykernel)",
   "language": "python",
   "name": "python3"
  },
  "language_info": {
   "codemirror_mode": {
    "name": "ipython",
    "version": 3
   },
   "file_extension": ".py",
   "mimetype": "text/x-python",
   "name": "python",
   "nbconvert_exporter": "python",
   "pygments_lexer": "ipython3",
   "version": "3.10.2"
  }
 },
 "nbformat": 4,
 "nbformat_minor": 5
}
