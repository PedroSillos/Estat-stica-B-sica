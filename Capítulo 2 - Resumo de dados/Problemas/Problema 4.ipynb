{
 "cells": [
  {
   "cell_type": "markdown",
   "id": "662116c3",
   "metadata": {},
   "source": [
    "## Problema 4"
   ]
  },
  {
   "cell_type": "markdown",
   "id": "5b335743",
   "metadata": {},
   "source": [
    "#### Countou-se o número de erros de impressão da primeira página de um jornal durante 50 dias, obtendo-se os resultados abaixo:"
   ]
  },
  {
   "cell_type": "code",
   "execution_count": 1,
   "id": "11525d73",
   "metadata": {},
   "outputs": [],
   "source": [
    "import pandas as pd\n",
    "import matplotlib.pyplot as plt"
   ]
  },
  {
   "cell_type": "code",
   "execution_count": 2,
   "id": "5116805e",
   "metadata": {},
   "outputs": [
    {
     "data": {
      "text/html": [
       "<div>\n",
       "<style scoped>\n",
       "    .dataframe tbody tr th:only-of-type {\n",
       "        vertical-align: middle;\n",
       "    }\n",
       "\n",
       "    .dataframe tbody tr th {\n",
       "        vertical-align: top;\n",
       "    }\n",
       "\n",
       "    .dataframe thead th {\n",
       "        text-align: right;\n",
       "    }\n",
       "</style>\n",
       "<table border=\"1\" class=\"dataframe\">\n",
       "  <thead>\n",
       "    <tr style=\"text-align: right;\">\n",
       "      <th></th>\n",
       "      <th>a</th>\n",
       "      <th>b</th>\n",
       "      <th>c</th>\n",
       "      <th>d</th>\n",
       "      <th>e</th>\n",
       "      <th>f</th>\n",
       "      <th>g</th>\n",
       "      <th>h</th>\n",
       "      <th>i</th>\n",
       "      <th>j</th>\n",
       "    </tr>\n",
       "  </thead>\n",
       "  <tbody>\n",
       "    <tr>\n",
       "      <th>0</th>\n",
       "      <td>8</td>\n",
       "      <td>11</td>\n",
       "      <td>8</td>\n",
       "      <td>12</td>\n",
       "      <td>14</td>\n",
       "      <td>13</td>\n",
       "      <td>11</td>\n",
       "      <td>14</td>\n",
       "      <td>14</td>\n",
       "      <td>15</td>\n",
       "    </tr>\n",
       "    <tr>\n",
       "      <th>1</th>\n",
       "      <td>6</td>\n",
       "      <td>10</td>\n",
       "      <td>14</td>\n",
       "      <td>19</td>\n",
       "      <td>6</td>\n",
       "      <td>12</td>\n",
       "      <td>7</td>\n",
       "      <td>5</td>\n",
       "      <td>8</td>\n",
       "      <td>8</td>\n",
       "    </tr>\n",
       "    <tr>\n",
       "      <th>2</th>\n",
       "      <td>10</td>\n",
       "      <td>16</td>\n",
       "      <td>10</td>\n",
       "      <td>12</td>\n",
       "      <td>12</td>\n",
       "      <td>8</td>\n",
       "      <td>11</td>\n",
       "      <td>6</td>\n",
       "      <td>7</td>\n",
       "      <td>12</td>\n",
       "    </tr>\n",
       "    <tr>\n",
       "      <th>3</th>\n",
       "      <td>7</td>\n",
       "      <td>10</td>\n",
       "      <td>14</td>\n",
       "      <td>5</td>\n",
       "      <td>12</td>\n",
       "      <td>7</td>\n",
       "      <td>9</td>\n",
       "      <td>12</td>\n",
       "      <td>11</td>\n",
       "      <td>9</td>\n",
       "    </tr>\n",
       "    <tr>\n",
       "      <th>4</th>\n",
       "      <td>14</td>\n",
       "      <td>8</td>\n",
       "      <td>14</td>\n",
       "      <td>8</td>\n",
       "      <td>12</td>\n",
       "      <td>10</td>\n",
       "      <td>12</td>\n",
       "      <td>22</td>\n",
       "      <td>7</td>\n",
       "      <td>8</td>\n",
       "    </tr>\n",
       "  </tbody>\n",
       "</table>\n",
       "</div>"
      ],
      "text/plain": [
       "    a   b   c   d   e   f   g   h   i   j\n",
       "0   8  11   8  12  14  13  11  14  14  15\n",
       "1   6  10  14  19   6  12   7   5   8   8\n",
       "2  10  16  10  12  12   8  11   6   7  12\n",
       "3   7  10  14   5  12   7   9  12  11   9\n",
       "4  14   8  14   8  12  10  12  22   7   8"
      ]
     },
     "execution_count": 2,
     "metadata": {},
     "output_type": "execute_result"
    }
   ],
   "source": [
    "df = pd.DataFrame(\n",
    "    {\n",
    "        \"a\":[8, 6, 10, 7, 14],\n",
    "        \"b\":[11, 10, 16, 10, 8],\n",
    "        \"c\":[8, 14, 10, 14, 14],\n",
    "        \"d\":[12, 19, 12, 5, 8],\n",
    "        \"e\":[14, 6, 12, 12, 12],\n",
    "        \"f\":[13, 12, 8, 7, 10],\n",
    "        \"g\":[11, 7, 11, 9, 12],\n",
    "        \"h\":[14, 5, 6, 12, 22],\n",
    "        \"i\":[14, 8, 7, 11, 7],\n",
    "        \"j\":[15, 8, 12, 9, 8]\n",
    "    }\n",
    ")\n",
    "\n",
    "df"
   ]
  },
  {
   "cell_type": "markdown",
   "id": "b73435c2",
   "metadata": {},
   "source": [
    "##### (a) Represente os dados graficamente."
   ]
  },
  {
   "cell_type": "code",
   "execution_count": 3,
   "id": "d041bdac",
   "metadata": {},
   "outputs": [
    {
     "data": {
      "image/png": "[encoded data removed]",
      "text/plain": [
       "<Figure size 432x288 with 1 Axes>"
      ]
     },
     "metadata": {
      "needs_background": "light"
     },
     "output_type": "display_data"
    }
   ],
   "source": [
    "#descobrir menor e maior valores\n",
    "menor = 100\n",
    "maior = -1\n",
    "for label, content in df.items():\n",
    "    for value in content:\n",
    "        if value < menor : menor = value\n",
    "        if value > maior : maior = value\n",
    "#cria dicionario vazio e popula com 0 em todas as posições\n",
    "frequencias = {}\n",
    "for x in range(menor, maior+1):\n",
    "    frequencias[x] = 0\n",
    "#popula dicionario com os elementos e suas frequencias\n",
    "for label, content in df.items():\n",
    "    for value in content:\n",
    "        frequencias[value]+=1\n",
    "#coloca as chaves do dicionario em uma lista e os valores do dicionario em outra lista\n",
    "elementos = []\n",
    "list_frequencias = []\n",
    "\n",
    "for elemento in frequencias:\n",
    "    elementos.append(elemento)\n",
    "    list_frequencias.append(frequencias[elemento])\n",
    "#plota o grafico\n",
    "fig = plt.figure()\n",
    "ax = fig.add_axes([0,0,1,1])\n",
    "ax.bar(elementos,list_frequencias)\n",
    "plt.show()"
   ]
  },
  {
   "cell_type": "markdown",
   "id": "d538dc83",
   "metadata": {},
   "source": [
    "##### (b) Faça um histograma e um ramo-e-folhas."
   ]
  },
  {
   "cell_type": "code",
   "execution_count": 4,
   "id": "5b0762b2",
   "metadata": {},
   "outputs": [
    {
     "data": {
      "image/png": "[encoded data removed]",
      "text/plain": [
       "<Figure size 432x288 with 1 Axes>"
      ]
     },
     "metadata": {
      "needs_background": "light"
     },
     "output_type": "display_data"
    },
    {
     "data": {
      "image/png": "[encoded data removed]",
      "text/plain": [
       "<Figure size 432x288 with 1 Axes>"
      ]
     },
     "metadata": {
      "needs_background": "light"
     },
     "output_type": "display_data"
    }
   ],
   "source": [
    "#criar listas para classes e densidades_de_frequencia\n",
    "classes = []\n",
    "densidades_de_frequencia = []\n",
    "\n",
    "for x in range(1, 5+1):\n",
    "    x = x*5\n",
    "    classes.append(x)\n",
    "    frequencia_de_classe = 0\n",
    "    for elemento in frequencias:\n",
    "        if elemento <= x and elemento > x-5:\n",
    "            frequencia_de_classe += frequencias[elemento]\n",
    "    densidades_de_frequencia.append(frequencia_de_classe/5)\n",
    "#plota o histograma\n",
    "fig = plt.figure()\n",
    "ax = fig.add_axes([0,0,1,1])\n",
    "ax.bar(classes,densidades_de_frequencia)\n",
    "plt.show()\n",
    "#plota o ramo-e-folhas\n",
    "plt.stem(classes, densidades_de_frequencia, linefmt=None, markerfmt=None, basefmt=None)\n",
    "plt.show()"
   ]
  }
 ],
 "metadata": {
  "kernelspec": {
   "display_name": "Python 3 (ipykernel)",
   "language": "python",
   "name": "python3"
  },
  "language_info": {
   "codemirror_mode": {
    "name": "ipython",
    "version": 3
   },
   "file_extension": ".py",
   "mimetype": "text/x-python",
   "name": "python",
   "nbconvert_exporter": "python",
   "pygments_lexer": "ipython3",
   "version": "3.10.2"
  }
 },
 "nbformat": 4,
 "nbformat_minor": 5
}
