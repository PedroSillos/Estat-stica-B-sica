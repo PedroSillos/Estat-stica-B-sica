{
 "cells": [
  {
   "cell_type": "markdown",
   "id": "662116c3",
   "metadata": {},
   "source": [
    "## Problema 5"
   ]
  },
  {
   "cell_type": "markdown",
   "id": "5b335743",
   "metadata": {},
   "source": [
    "#### Usando os resultados do Problema 2 e da Tabela 2.1:"
   ]
  },
  {
   "cell_type": "markdown",
   "id": "a7b7fefa",
   "metadata": {},
   "source": [
    "##### (a) construa um histograma para a variável idade"
   ]
  },
  {
   "cell_type": "code",
   "execution_count": 1,
   "id": "d19b333c",
   "metadata": {},
   "outputs": [],
   "source": [
    "import pandas as pd\n",
    "import matplotlib.pyplot as plt"
   ]
  },
  {
   "cell_type": "code",
   "execution_count": 2,
   "id": "4bc71e1f",
   "metadata": {
    "scrolled": true
   },
   "outputs": [
    {
     "data": {
      "image/png": "[encoded data removed]",
      "text/plain": [
       "<Figure size 432x288 with 1 Axes>"
      ]
     },
     "metadata": {
      "needs_background": "light"
     },
     "output_type": "display_data"
    }
   ],
   "source": [
    "#pega os dados do excel e carrega em um DataFrame\n",
    "df = pd.read_excel (r'C:\\Estatística Básica\\Conjunto de Dados.xls', sheet_name='Tabela 2.1')\n",
    "#conta o numero de idades\n",
    "idade_count = len(df[\"Idade - Anos\"])\n",
    "#descobre maior e menor idades\n",
    "maior = max(df[\"Idade - Anos\"])\n",
    "menor = min(df[\"Idade - Anos\"])\n",
    "#descobre o tamanho da classe:\n",
    "numero_de_classes=6\n",
    "tamanho_da_classe = round((maior-menor)/numero_de_classes)\n",
    "#cria uma lista para as classes de intervalo\n",
    "classes_de_intervalo = []\n",
    "for numero in range(menor,maior+1):\n",
    "    if numero % tamanho_da_classe == 0:\n",
    "        classes_de_intervalo.append(numero)\n",
    "#cria uma lista para as frequencias de cada classe de intervalo\n",
    "frequencias_de_classe = []\n",
    "for classe in classes_de_intervalo:\n",
    "    soma_da_classe = 0\n",
    "    for idade_em_anos in df[\"Idade - Anos\"]:\n",
    "        if idade_em_anos >= classe and idade_em_anos < classe+5:\n",
    "            soma_da_classe+=1\n",
    "    frequencias_de_classe.append(soma_da_classe)\n",
    "#cria uma lista para a densidade de cada classe\n",
    "densidades_de_classe = []\n",
    "for frequencia in frequencias_de_classe:\n",
    "    densidades_de_classe.append(frequencia/numero_de_classes)\n",
    "#plota o histograma\n",
    "fig = plt.figure()\n",
    "ax = fig.add_axes([0,0,1,1])\n",
    "ax.bar(classes_de_intervalo,densidades_de_classe)\n",
    "plt.show()"
   ]
  },
  {
   "cell_type": "markdown",
   "id": "b0fb972d",
   "metadata": {},
   "source": [
    "##### (b) proponha uma representação gráfica para a variável grau de instrução."
   ]
  },
  {
   "cell_type": "code",
   "execution_count": 3,
   "id": "75a2c538",
   "metadata": {},
   "outputs": [
    {
     "data": {
      "image/png": "[encoded data removed]",
      "text/plain": [
       "<Figure size 432x288 with 1 Axes>"
      ]
     },
     "metadata": {},
     "output_type": "display_data"
    }
   ],
   "source": [
    "#cria um dicionario para a com Grau de Instrução e frequencia\n",
    "graus_de_instrucao_e_frequencia = {}\n",
    "for grau_de_instrucao in df[\"Grau de Instrução\"]:\n",
    "    graus_de_instrucao_e_frequencia[grau_de_instrucao]=0\n",
    "for grau_de_instrucao in df[\"Grau de Instrução\"]:\n",
    "    graus_de_instrucao_e_frequencia[grau_de_instrucao]+=1\n",
    "#coloca os Graus de Instrução do dicionario em uma lista e as frequencias em outra\n",
    "graus_de_instrucao = []\n",
    "frequencias = []\n",
    "for grau_de_instrucao in graus_de_instrucao_e_frequencia:\n",
    "    graus_de_instrucao.append(grau_de_instrucao)\n",
    "    frequencias.append(graus_de_instrucao_e_frequencia[grau_de_instrucao])\n",
    "    # Pie chart, where the slices will be ordered and plotted counter-clockwise:\n",
    "fig1, ax1 = plt.subplots()\n",
    "ax1.pie(frequencias, labels=graus_de_instrucao, autopct='%1.1f%%', startangle=150)\n",
    "ax1.axis('equal') \n",
    "plt.show()"
   ]
  }
 ],
 "metadata": {
  "kernelspec": {
   "display_name": "Python 3 (ipykernel)",
   "language": "python",
   "name": "python3"
  },
  "language_info": {
   "codemirror_mode": {
    "name": "ipython",
    "version": 3
   },
   "file_extension": ".py",
   "mimetype": "text/x-python",
   "name": "python",
   "nbconvert_exporter": "python",
   "pygments_lexer": "ipython3",
   "version": "3.10.2"
  }
 },
 "nbformat": 4,
 "nbformat_minor": 5
}
