{
 "cells": [
  {
   "cell_type": "markdown",
   "id": "662116c3",
   "metadata": {},
   "source": [
    "## Problema 6"
   ]
  },
  {
   "cell_type": "markdown",
   "id": "dc75ce6d",
   "metadata": {},
   "source": [
    "#### Numa pesquisa realizada com 100 famílias, levantaram-se as seguintes informações:"
   ]
  },
  {
   "cell_type": "code",
   "execution_count": 1,
   "id": "dc0218f2",
   "metadata": {},
   "outputs": [],
   "source": [
    "import pandas as pd"
   ]
  },
  {
   "cell_type": "code",
   "execution_count": 2,
   "id": "de930a54",
   "metadata": {},
   "outputs": [
    {
     "data": {
      "text/html": [
       "<div>\n",
       "<style scoped>\n",
       "    .dataframe tbody tr th:only-of-type {\n",
       "        vertical-align: middle;\n",
       "    }\n",
       "\n",
       "    .dataframe tbody tr th {\n",
       "        vertical-align: top;\n",
       "    }\n",
       "\n",
       "    .dataframe thead th {\n",
       "        text-align: right;\n",
       "    }\n",
       "</style>\n",
       "<table border=\"1\" class=\"dataframe\">\n",
       "  <thead>\n",
       "    <tr style=\"text-align: right;\">\n",
       "      <th></th>\n",
       "      <th>Número de filhos</th>\n",
       "      <th>Frequência de famílias</th>\n",
       "    </tr>\n",
       "  </thead>\n",
       "  <tbody>\n",
       "    <tr>\n",
       "      <th>0</th>\n",
       "      <td>0</td>\n",
       "      <td>17</td>\n",
       "    </tr>\n",
       "    <tr>\n",
       "      <th>1</th>\n",
       "      <td>1</td>\n",
       "      <td>20</td>\n",
       "    </tr>\n",
       "    <tr>\n",
       "      <th>2</th>\n",
       "      <td>2</td>\n",
       "      <td>28</td>\n",
       "    </tr>\n",
       "    <tr>\n",
       "      <th>3</th>\n",
       "      <td>3</td>\n",
       "      <td>19</td>\n",
       "    </tr>\n",
       "    <tr>\n",
       "      <th>4</th>\n",
       "      <td>4</td>\n",
       "      <td>7</td>\n",
       "    </tr>\n",
       "    <tr>\n",
       "      <th>5</th>\n",
       "      <td>5</td>\n",
       "      <td>4</td>\n",
       "    </tr>\n",
       "    <tr>\n",
       "      <th>6</th>\n",
       "      <td>mais que 5</td>\n",
       "      <td>5</td>\n",
       "    </tr>\n",
       "  </tbody>\n",
       "</table>\n",
       "</div>"
      ],
      "text/plain": [
       "  Número de filhos  Frequência de famílias\n",
       "0                0                      17\n",
       "1                1                      20\n",
       "2                2                      28\n",
       "3                3                      19\n",
       "4                4                       7\n",
       "5                5                       4\n",
       "6       mais que 5                       5"
      ]
     },
     "execution_count": 2,
     "metadata": {},
     "output_type": "execute_result"
    }
   ],
   "source": [
    "df = pd.DataFrame(\n",
    "    {\n",
    "        \"Número de filhos\":[0,1,2,3,4,5,'mais que 5'],\n",
    "        \"Frequência de famílias\":[17,20,28,19,7,4,5]\n",
    "    }\n",
    ")\n",
    "df"
   ]
  },
  {
   "cell_type": "markdown",
   "id": "4bcb4252",
   "metadata": {},
   "source": [
    "##### (a) Qual a mediana do número de filhos?"
   ]
  },
  {
   "cell_type": "code",
   "execution_count": 3,
   "id": "40a0859c",
   "metadata": {},
   "outputs": [
    {
     "name": "stdout",
     "output_type": "stream",
     "text": [
      "Mediana: 2.0\n"
     ]
    }
   ],
   "source": [
    "frequencia_total = sum( df['Frequência de famílias'] )\n",
    "mediana=-1\n",
    "if frequencia_total%2==1:\n",
    "    posicao_mediana= (frequencia_total+1)/2\n",
    "    soma_frequencias=0\n",
    "    for index, row in df.iterrows():\n",
    "        soma_frequencias+=row['Frequência de famílias']\n",
    "        if posicao_mediana <= soma_frequencias:\n",
    "            mediana=row['Número de filhos']\n",
    "            break\n",
    "else:\n",
    "    primeria_posicao_mediana= frequencia_total/2\n",
    "    segunda_posicao_mediana= (frequencia_total/2)+1\n",
    "    soma_frequencias=0\n",
    "    for index, row in df.iterrows():\n",
    "        soma_frequencias+=row['Frequência de famílias']\n",
    "        if primeria_posicao_mediana <= soma_frequencias:\n",
    "            mediana=row['Número de filhos']\n",
    "            primeria_posicao_mediana=frequencia_total+1\n",
    "        if segunda_posicao_mediana <= soma_frequencias:\n",
    "            mediana= (mediana+row['Número de filhos']) /2\n",
    "            break\n",
    "    \n",
    "print(\"Mediana:\",mediana)"
   ]
  },
  {
   "cell_type": "markdown",
   "id": "8296c80f",
   "metadata": {},
   "source": [
    "##### (b) E a moda?"
   ]
  },
  {
   "cell_type": "code",
   "execution_count": 4,
   "id": "9f5834c7",
   "metadata": {},
   "outputs": [
    {
     "name": "stdout",
     "output_type": "stream",
     "text": [
      "Moda: 2\n"
     ]
    }
   ],
   "source": [
    "moda=0\n",
    "for index, row in df.iterrows():\n",
    "    if row['Frequência de famílias'] == max(df['Frequência de famílias']):\n",
    "        moda=row['Número de filhos']\n",
    "print(\"Moda:\",moda)"
   ]
  },
  {
   "cell_type": "markdown",
   "id": "378bcea7",
   "metadata": {},
   "source": [
    "##### (c) Qual problema você enfretaria pra calcular a média? Faça uma suposição para encontrá-la."
   ]
  },
  {
   "cell_type": "markdown",
   "id": "23aa6056",
   "metadata": {},
   "source": [
    "Não é possível calcular a média pois não sabemos quais são os valores existentes dentro da classe \"mais que 5\".\n",
    "\n",
    "Supondo que esse valores sejam todos 7, temos:"
   ]
  },
  {
   "cell_type": "code",
   "execution_count": 5,
   "id": "5b77214a",
   "metadata": {},
   "outputs": [
    {
     "name": "stdout",
     "output_type": "stream",
     "text": [
      "Media: 2.16\n"
     ]
    }
   ],
   "source": [
    "frequencia_total = sum( df['Frequência de famílias'] )\n",
    "df = pd.DataFrame(\n",
    "    {\n",
    "        \"Número de filhos\":[0,1,2,3,4,5,7],\n",
    "        \"Frequência de famílias\":[17,20,28,19,7,4,5]\n",
    "    }\n",
    ")\n",
    "media=sum( df[\"Número de filhos\"] * df[\"Frequência de famílias\"] ) / frequencia_total\n",
    "print(\"Media:\",media)"
   ]
  }
 ],
 "metadata": {
  "kernelspec": {
   "display_name": "Python 3 (ipykernel)",
   "language": "python",
   "name": "python3"
  },
  "language_info": {
   "codemirror_mode": {
    "name": "ipython",
    "version": 3
   },
   "file_extension": ".py",
   "mimetype": "text/x-python",
   "name": "python",
   "nbconvert_exporter": "python",
   "pygments_lexer": "ipython3",
   "version": "3.10.2"
  }
 },
 "nbformat": 4,
 "nbformat_minor": 5
}
