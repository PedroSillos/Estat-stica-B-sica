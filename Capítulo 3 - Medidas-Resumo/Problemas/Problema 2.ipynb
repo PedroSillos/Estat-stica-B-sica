{
 "cells": [
  {
   "cell_type": "markdown",
   "id": "662116c3",
   "metadata": {},
   "source": [
    "## Problema 2"
   ]
  },
  {
   "cell_type": "markdown",
   "id": "3fd50f50",
   "metadata": {},
   "source": [
    "#### As taxas de juros recebidas por 10 ações durante um certo período foram (medidas em porcentagem):"
   ]
  },
  {
   "cell_type": "code",
   "execution_count": 1,
   "id": "ba15f07f",
   "metadata": {},
   "outputs": [
    {
     "name": "stdout",
     "output_type": "stream",
     "text": [
      "taxas de juros: [2.59, 2.64, 2.6, 2.62, 2.57, 2.55, 2.61, 2.5, 2.63, 2.64]\n"
     ]
    }
   ],
   "source": [
    "taxas_juros=[2.59,2.64,2.60,2.62,2.57,2.55,2.61,2.50,2.63,2.64]\n",
    "print(\"taxas de juros:\",taxas_juros)"
   ]
  },
  {
   "cell_type": "markdown",
   "id": "31eea33e",
   "metadata": {},
   "source": [
    "#### Calcule a média, a mediana e o desvio padrão."
   ]
  },
  {
   "cell_type": "code",
   "execution_count": 2,
   "id": "a74278bc",
   "metadata": {},
   "outputs": [],
   "source": [
    "import statistics as stat"
   ]
  },
  {
   "cell_type": "code",
   "execution_count": 3,
   "id": "30987c34",
   "metadata": {},
   "outputs": [
    {
     "name": "stdout",
     "output_type": "stream",
     "text": [
      "Média: 2.5950\n",
      "Mediana: 2.6050\n",
      "Desvio padrão: 0.0422\n"
     ]
    }
   ],
   "source": [
    "print(\"Média:\",'{0:.4f}'.format(stat.mean(taxas_juros)))\n",
    "print(\"Mediana:\",'{0:.4f}'.format(stat.median(taxas_juros)))\n",
    "print(\"Desvio padrão:\",'{0:.4f}'.format(stat.pstdev(taxas_juros)))"
   ]
  }
 ],
 "metadata": {
  "kernelspec": {
   "display_name": "Python 3 (ipykernel)",
   "language": "python",
   "name": "python3"
  },
  "language_info": {
   "codemirror_mode": {
    "name": "ipython",
    "version": 3
   },
   "file_extension": ".py",
   "mimetype": "text/x-python",
   "name": "python",
   "nbconvert_exporter": "python",
   "pygments_lexer": "ipython3",
   "version": "3.10.2"
  }
 },
 "nbformat": 4,
 "nbformat_minor": 5
}
