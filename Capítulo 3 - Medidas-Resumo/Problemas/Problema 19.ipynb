{
 "cells": [
  {
   "cell_type": "markdown",
   "id": "662116c3",
   "metadata": {},
   "source": [
    "## Problema 19"
   ]
  },
  {
   "cell_type": "markdown",
   "id": "dc75ce6d",
   "metadata": {},
   "source": [
    "#### O departamento pessoal de uma certa firma fez um levantamento de salários dos 120 funcionários dp setor administrativo, obtendo os resultados (em salários mínimos) da tabela abaixo."
   ]
  },
  {
   "cell_type": "code",
   "execution_count": 1,
   "id": "70aa2560",
   "metadata": {},
   "outputs": [],
   "source": [
    "import pandas as pd\n",
    "import statistics as stat\n",
    "import numpy as np\n",
    "import matplotlib.pyplot as plt"
   ]
  },
  {
   "cell_type": "code",
   "execution_count": 2,
   "id": "4033588f",
   "metadata": {},
   "outputs": [
    {
     "data": {
      "text/html": [
       "<div>\n",
       "<style scoped>\n",
       "    .dataframe tbody tr th:only-of-type {\n",
       "        vertical-align: middle;\n",
       "    }\n",
       "\n",
       "    .dataframe tbody tr th {\n",
       "        vertical-align: top;\n",
       "    }\n",
       "\n",
       "    .dataframe thead th {\n",
       "        text-align: right;\n",
       "    }\n",
       "</style>\n",
       "<table border=\"1\" class=\"dataframe\">\n",
       "  <thead>\n",
       "    <tr style=\"text-align: right;\">\n",
       "      <th></th>\n",
       "      <th>Faixa salarial</th>\n",
       "      <th>Frequência relativa</th>\n",
       "    </tr>\n",
       "  </thead>\n",
       "  <tbody>\n",
       "    <tr>\n",
       "      <th>0</th>\n",
       "      <td>[0, 2]</td>\n",
       "      <td>0.25</td>\n",
       "    </tr>\n",
       "    <tr>\n",
       "      <th>1</th>\n",
       "      <td>[2, 4]</td>\n",
       "      <td>0.40</td>\n",
       "    </tr>\n",
       "    <tr>\n",
       "      <th>2</th>\n",
       "      <td>[4, 6]</td>\n",
       "      <td>0.20</td>\n",
       "    </tr>\n",
       "    <tr>\n",
       "      <th>3</th>\n",
       "      <td>[6, 10]</td>\n",
       "      <td>0.15</td>\n",
       "    </tr>\n",
       "  </tbody>\n",
       "</table>\n",
       "</div>"
      ],
      "text/plain": [
       "  Faixa salarial  Frequência relativa\n",
       "0         [0, 2]                 0.25\n",
       "1         [2, 4]                 0.40\n",
       "2         [4, 6]                 0.20\n",
       "3        [6, 10]                 0.15"
      ]
     },
     "execution_count": 2,
     "metadata": {},
     "output_type": "execute_result"
    }
   ],
   "source": [
    "df=pd.DataFrame(\n",
    "    {\n",
    "        \"Faixa salarial\":[[0,2],[2,4],[4,6],[6,10]],\n",
    "        \"Frequência relativa\":[0.25,0.40,0.20,0.15]\n",
    "    }\n",
    ")\n",
    "df"
   ]
  },
  {
   "cell_type": "markdown",
   "id": "9ebd5070",
   "metadata": {},
   "source": [
    "##### (a) Esboce o histograma correspondente"
   ]
  },
  {
   "cell_type": "code",
   "execution_count": 3,
   "id": "f2961721",
   "metadata": {},
   "outputs": [
    {
     "data": {
      "image/png": "[encoded data removed]",
      "text/plain": [
       "<Figure size 432x288 with 1 Axes>"
      ]
     },
     "metadata": {
      "needs_background": "light"
     },
     "output_type": "display_data"
    }
   ],
   "source": [
    "salarios=[]\n",
    "for index, row in df.iterrows():\n",
    "    salario=stat.mean(row['Faixa salarial'])\n",
    "    numero_de_salarios=row['Frequência relativa']\n",
    "    salarios.extend( [salario]*(int)(numero_de_salarios*120) )\n",
    "    \n",
    "plt.hist(salarios, range(0,10), density=True, color='Orange')\n",
    "plt.show()"
   ]
  },
  {
   "cell_type": "markdown",
   "id": "4ab41e3d",
   "metadata": {},
   "source": [
    "##### (b) Calcule a média, a variância e o desvio padrão."
   ]
  },
  {
   "cell_type": "code",
   "execution_count": 4,
   "id": "addc2338",
   "metadata": {},
   "outputs": [
    {
     "name": "stdout",
     "output_type": "stream",
     "text": [
      "Média aritmética: 3.65\n",
      "Variância: 5.170588235294118\n",
      "Desvio padrão: 2.273892749294504\n"
     ]
    }
   ],
   "source": [
    "print(\"Média aritmética:\", stat.mean(salarios))\n",
    "print(\"Variância:\", stat.variance(salarios))\n",
    "print(\"Desvio padrão:\", stat.stdev(salarios))"
   ]
  },
  {
   "cell_type": "markdown",
   "id": "d6736c4a",
   "metadata": {},
   "source": [
    "##### (c) Calcule a mediana e os quartis."
   ]
  },
  {
   "cell_type": "code",
   "execution_count": 5,
   "id": "8ec23bd4",
   "metadata": {},
   "outputs": [
    {
     "name": "stdout",
     "output_type": "stream",
     "text": [
      "Primeiro quartil: 1.5\n",
      "Mediana: 3.0\n",
      "Terceiro quartil: 5.0\n"
     ]
    }
   ],
   "source": [
    "print(\"Primeiro quartil:\", stat.quantiles(salarios, n=4)[0] )\n",
    "print(\"Mediana:\", stat.quantiles(salarios, n=4)[1] )\n",
    "print(\"Terceiro quartil:\", stat.quantiles(salarios, n=4)[2] )"
   ]
  },
  {
   "cell_type": "markdown",
   "id": "62fd0d42",
   "metadata": {},
   "source": [
    "##### (d) Se for concedido um aumento de 100% para todos os 120 funcionarios, haverá alteração na média? E na variância? Justifique sua resposta."
   ]
  },
  {
   "cell_type": "code",
   "execution_count": 6,
   "id": "c79a04a9",
   "metadata": {},
   "outputs": [
    {
     "name": "stdout",
     "output_type": "stream",
     "text": [
      "Média aritmética: 3.65\n",
      "Média aritmética + 100%: 7\n",
      "\n",
      "Variância: 5.170588235294118\n",
      "Variância + 100%: 20\n"
     ]
    }
   ],
   "source": [
    "print(\"Média aritmética:\", stat.mean(salarios))\n",
    "print(\"Média aritmética + 100%:\", stat.mean(np.multiply(salarios,2)))\n",
    "\n",
    "print(\"\\nVariância:\", stat.variance(salarios))\n",
    "print(\"Variância + 100%:\", stat.variance(np.multiply(salarios,2)))"
   ]
  },
  {
   "cell_type": "markdown",
   "id": "a628a2f5",
   "metadata": {},
   "source": [
    "A média dobra e a variância também muda."
   ]
  },
  {
   "cell_type": "markdown",
   "id": "fc65291e",
   "metadata": {},
   "source": [
    "##### (e) Se for concedido um abono de dois salários mínimos para todos os 120 funcionários, haverá alteração na média? E na variância? E na mediana? Justiique sua resposta."
   ]
  },
  {
   "cell_type": "code",
   "execution_count": 7,
   "id": "f9dfb1a1",
   "metadata": {},
   "outputs": [
    {
     "name": "stdout",
     "output_type": "stream",
     "text": [
      "Média aritmética: 3.65\n",
      "Média aritmética + 2: 5.65\n",
      "\n",
      "Variância: 5.170588235294118\n",
      "Variância + 2: 5.170588235294118\n",
      "\n",
      "Mediana: 3.0\n",
      "Mediana + 2: 5.0\n"
     ]
    }
   ],
   "source": [
    "salarios_mais_2 = []\n",
    "for salario in salarios:\n",
    "    salarios_mais_2.append(salario+2)\n",
    "\n",
    "print(\"Média aritmética:\", stat.mean(salarios))\n",
    "print(\"Média aritmética + 2:\", stat.mean(salarios_mais_2))\n",
    "\n",
    "print(\"\\nVariância:\", stat.variance(salarios))\n",
    "print(\"Variância + 2:\", stat.variance(salarios_mais_2))\n",
    "\n",
    "print(\"\\nMediana:\", stat.median(salarios))\n",
    "print(\"Mediana + 2:\", stat.median(salarios_mais_2))"
   ]
  },
  {
   "cell_type": "markdown",
   "id": "87b40a3d",
   "metadata": {},
   "source": [
    "A média aumenta em 2, a mediana aumenta em 2 e a variância permanece a mesma."
   ]
  }
 ],
 "metadata": {
  "kernelspec": {
   "display_name": "Python 3 (ipykernel)",
   "language": "python",
   "name": "python3"
  },
  "language_info": {
   "codemirror_mode": {
    "name": "ipython",
    "version": 3
   },
   "file_extension": ".py",
   "mimetype": "text/x-python",
   "name": "python",
   "nbconvert_exporter": "python",
   "pygments_lexer": "ipython3",
   "version": "3.10.2"
  }
 },
 "nbformat": 4,
 "nbformat_minor": 5
}
