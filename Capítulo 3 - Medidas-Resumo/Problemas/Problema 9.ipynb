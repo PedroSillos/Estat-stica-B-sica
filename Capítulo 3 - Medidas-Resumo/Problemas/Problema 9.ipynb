{
 "cells": [
  {
   "cell_type": "markdown",
   "id": "662116c3",
   "metadata": {},
   "source": [
    "## Problema 9"
   ]
  },
  {
   "cell_type": "markdown",
   "id": "dc75ce6d",
   "metadata": {},
   "source": [
    "#### Obter os três quartis, q(0,1) e q(0,90) para os dados do Problema 3."
   ]
  },
  {
   "cell_type": "code",
   "execution_count": 1,
   "id": "895d0374",
   "metadata": {},
   "outputs": [],
   "source": [
    "import pandas as pd"
   ]
  },
  {
   "cell_type": "code",
   "execution_count": 2,
   "id": "3487bcd6",
   "metadata": {},
   "outputs": [
    {
     "data": {
      "text/html": [
       "<div>\n",
       "<style scoped>\n",
       "    .dataframe tbody tr th:only-of-type {\n",
       "        vertical-align: middle;\n",
       "    }\n",
       "\n",
       "    .dataframe tbody tr th {\n",
       "        vertical-align: top;\n",
       "    }\n",
       "\n",
       "    .dataframe thead th {\n",
       "        text-align: right;\n",
       "    }\n",
       "</style>\n",
       "<table border=\"1\" class=\"dataframe\">\n",
       "  <thead>\n",
       "    <tr style=\"text-align: right;\">\n",
       "      <th></th>\n",
       "      <th>Casas por quarteirão</th>\n",
       "    </tr>\n",
       "  </thead>\n",
       "  <tbody>\n",
       "    <tr>\n",
       "      <th>count</th>\n",
       "      <td>50.000000</td>\n",
       "    </tr>\n",
       "    <tr>\n",
       "      <th>mean</th>\n",
       "      <td>40.220000</td>\n",
       "    </tr>\n",
       "    <tr>\n",
       "      <th>std</th>\n",
       "      <td>26.149718</td>\n",
       "    </tr>\n",
       "    <tr>\n",
       "      <th>min</th>\n",
       "      <td>2.000000</td>\n",
       "    </tr>\n",
       "    <tr>\n",
       "      <th>10%</th>\n",
       "      <td>13.900000</td>\n",
       "    </tr>\n",
       "    <tr>\n",
       "      <th>25%</th>\n",
       "      <td>20.250000</td>\n",
       "    </tr>\n",
       "    <tr>\n",
       "      <th>50%</th>\n",
       "      <td>29.500000</td>\n",
       "    </tr>\n",
       "    <tr>\n",
       "      <th>75%</th>\n",
       "      <td>61.000000</td>\n",
       "    </tr>\n",
       "    <tr>\n",
       "      <th>90%</th>\n",
       "      <td>78.200000</td>\n",
       "    </tr>\n",
       "    <tr>\n",
       "      <th>max</th>\n",
       "      <td>97.000000</td>\n",
       "    </tr>\n",
       "  </tbody>\n",
       "</table>\n",
       "</div>"
      ],
      "text/plain": [
       "       Casas por quarteirão\n",
       "count             50.000000\n",
       "mean              40.220000\n",
       "std               26.149718\n",
       "min                2.000000\n",
       "10%               13.900000\n",
       "25%               20.250000\n",
       "50%               29.500000\n",
       "75%               61.000000\n",
       "90%               78.200000\n",
       "max               97.000000"
      ]
     },
     "execution_count": 2,
     "metadata": {},
     "output_type": "execute_result"
    }
   ],
   "source": [
    "casas_por_quarteirao=[2,2,3,10,13,14,15,15,16,16,\n",
    "                      18,18,20,21,22,22,23,24,25,25,\n",
    "                      26,27,29,29,30,32,26,42,44,45,\n",
    "                      45,46,48,52,58,59,61,61,61,65,\n",
    "                      66,66,68,75,78,80,89,90,92,97]\n",
    "df = pd.DataFrame(\n",
    "    {\n",
    "        \"Casas por quarteirão\":casas_por_quarteirao\n",
    "    }\n",
    ")\n",
    "description = df.describe(percentiles=[.10, .25, .50, .75, .90])\n",
    "description"
   ]
  },
  {
   "cell_type": "code",
   "execution_count": 3,
   "id": "5105fc3b",
   "metadata": {},
   "outputs": [
    {
     "name": "stdout",
     "output_type": "stream",
     "text": [
      "q(0,10): 13.9\n",
      "q(0,25): 20.25\n",
      "q(0,5): 29.5\n",
      "q(0,75): 61.0\n",
      "q(0,90): 78.2\n"
     ]
    }
   ],
   "source": [
    "print('q(0,10):',description.at['10%','Casas por quarteirão'])\n",
    "print('q(0,25):',description.at['25%','Casas por quarteirão'])\n",
    "print('q(0,5):',description.at['50%','Casas por quarteirão'])\n",
    "print('q(0,75):',description.at['75%','Casas por quarteirão'])\n",
    "print('q(0,90):',description.at['90%','Casas por quarteirão'])"
   ]
  }
 ],
 "metadata": {
  "kernelspec": {
   "display_name": "Python 3 (ipykernel)",
   "language": "python",
   "name": "python3"
  },
  "language_info": {
   "codemirror_mode": {
    "name": "ipython",
    "version": 3
   },
   "file_extension": ".py",
   "mimetype": "text/x-python",
   "name": "python",
   "nbconvert_exporter": "python",
   "pygments_lexer": "ipython3",
   "version": "3.10.2"
  }
 },
 "nbformat": 4,
 "nbformat_minor": 5
}
