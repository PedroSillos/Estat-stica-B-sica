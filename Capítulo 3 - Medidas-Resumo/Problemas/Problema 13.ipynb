{
 "cells": [
  {
   "cell_type": "markdown",
   "id": "662116c3",
   "metadata": {},
   "source": [
    "## Problema 13"
   ]
  },
  {
   "cell_type": "markdown",
   "id": "dc75ce6d",
   "metadata": {},
   "source": [
    "#### Faça um *box plot* para o Problema 10. Comente sobre a simetria, caudas e presença de valores atípicos."
   ]
  },
  {
   "cell_type": "code",
   "execution_count": 1,
   "id": "7cee8d77",
   "metadata": {},
   "outputs": [],
   "source": [
    "import pandas as pd\n",
    "import matplotlib.pyplot as plt"
   ]
  },
  {
   "cell_type": "code",
   "execution_count": 2,
   "id": "91dfabe3",
   "metadata": {},
   "outputs": [],
   "source": [
    "df = pd.read_excel(r'C:\\Estatística Básica\\Conjunto de Dados.xls', sheet_name='CD-Brasil', header=0, skiprows=[0,1,2,3,12,22,27,31,36,37], decimal='.')"
   ]
  },
  {
   "cell_type": "code",
   "execution_count": 3,
   "id": "a26db43e",
   "metadata": {},
   "outputs": [
    {
     "data": {
      "text/html": [
       "<div>\n",
       "<style scoped>\n",
       "    .dataframe tbody tr th:only-of-type {\n",
       "        vertical-align: middle;\n",
       "    }\n",
       "\n",
       "    .dataframe tbody tr th {\n",
       "        vertical-align: top;\n",
       "    }\n",
       "\n",
       "    .dataframe thead th {\n",
       "        text-align: right;\n",
       "    }\n",
       "</style>\n",
       "<table border=\"1\" class=\"dataframe\">\n",
       "  <thead>\n",
       "    <tr style=\"text-align: right;\">\n",
       "      <th></th>\n",
       "      <th>Superfície</th>\n",
       "      <th>População</th>\n",
       "      <th>Densidade</th>\n",
       "    </tr>\n",
       "  </thead>\n",
       "  <tbody>\n",
       "    <tr>\n",
       "      <th>count</th>\n",
       "      <td>2.700000e+01</td>\n",
       "      <td>2.700000e+01</td>\n",
       "      <td>27.000000</td>\n",
       "    </tr>\n",
       "    <tr>\n",
       "      <th>mean</th>\n",
       "      <td>3.153658e+05</td>\n",
       "      <td>6.814337e+06</td>\n",
       "      <td>65.313932</td>\n",
       "    </tr>\n",
       "    <tr>\n",
       "      <th>std</th>\n",
       "      <td>3.753011e+05</td>\n",
       "      <td>8.181845e+06</td>\n",
       "      <td>101.483568</td>\n",
       "    </tr>\n",
       "    <tr>\n",
       "      <th>min</th>\n",
       "      <td>5.801937e+03</td>\n",
       "      <td>3.957250e+05</td>\n",
       "      <td>1.764275</td>\n",
       "    </tr>\n",
       "    <tr>\n",
       "      <th>10%</th>\n",
       "      <td>3.732470e+04</td>\n",
       "      <td>1.007530e+06</td>\n",
       "      <td>3.652040</td>\n",
       "    </tr>\n",
       "    <tr>\n",
       "      <th>25%</th>\n",
       "      <td>7.589301e+04</td>\n",
       "      <td>2.360858e+06</td>\n",
       "      <td>5.891021</td>\n",
       "    </tr>\n",
       "    <tr>\n",
       "      <th>50%</th>\n",
       "      <td>2.242990e+05</td>\n",
       "      <td>3.351669e+06</td>\n",
       "      <td>32.860364</td>\n",
       "    </tr>\n",
       "    <tr>\n",
       "      <th>75%</th>\n",
       "      <td>3.360350e+05</td>\n",
       "      <td>8.335944e+06</td>\n",
       "      <td>68.628997</td>\n",
       "    </tr>\n",
       "    <tr>\n",
       "      <th>80%</th>\n",
       "      <td>3.537173e+05</td>\n",
       "      <td>9.924930e+06</td>\n",
       "      <td>83.607044</td>\n",
       "    </tr>\n",
       "    <tr>\n",
       "      <th>95%</th>\n",
       "      <td>1.144390e+06</td>\n",
       "      <td>1.811761e+07</td>\n",
       "      <td>295.169810</td>\n",
       "    </tr>\n",
       "    <tr>\n",
       "      <th>max</th>\n",
       "      <td>1.559162e+06</td>\n",
       "      <td>3.982769e+07</td>\n",
       "      <td>423.290187</td>\n",
       "    </tr>\n",
       "  </tbody>\n",
       "</table>\n",
       "</div>"
      ],
      "text/plain": [
       "         Superfície     População   Densidade\n",
       "count  2.700000e+01  2.700000e+01   27.000000\n",
       "mean   3.153658e+05  6.814337e+06   65.313932\n",
       "std    3.753011e+05  8.181845e+06  101.483568\n",
       "min    5.801937e+03  3.957250e+05    1.764275\n",
       "10%    3.732470e+04  1.007530e+06    3.652040\n",
       "25%    7.589301e+04  2.360858e+06    5.891021\n",
       "50%    2.242990e+05  3.351669e+06   32.860364\n",
       "75%    3.360350e+05  8.335944e+06   68.628997\n",
       "80%    3.537173e+05  9.924930e+06   83.607044\n",
       "95%    1.144390e+06  1.811761e+07  295.169810\n",
       "max    1.559162e+06  3.982769e+07  423.290187"
      ]
     },
     "execution_count": 3,
     "metadata": {},
     "output_type": "execute_result"
    }
   ],
   "source": [
    "description = df.describe(percentiles=[.10, .25, .50, .75, .80, .95])\n",
    "description"
   ]
  },
  {
   "cell_type": "code",
   "execution_count": 4,
   "id": "bf4be3d3",
   "metadata": {},
   "outputs": [
    {
     "data": {
      "image/png": "[encoded data removed]",
      "text/plain": [
       "<Figure size 432x288 with 1 Axes>"
      ]
     },
     "metadata": {
      "needs_background": "light"
     },
     "output_type": "display_data"
    }
   ],
   "source": [
    "plt.boxplot(df['População'], meanline=True, showmeans=True)\n",
    "plt.show()"
   ]
  },
  {
   "cell_type": "markdown",
   "id": "01d50c8e",
   "metadata": {},
   "source": [
    "Muito assimetrico para a direita, com uma cauda longa nesse sentido e 2 valores atípicos.\n"
   ]
  }
 ],
 "metadata": {
  "kernelspec": {
   "display_name": "Python 3 (ipykernel)",
   "language": "python",
   "name": "python3"
  },
  "language_info": {
   "codemirror_mode": {
    "name": "ipython",
    "version": 3
   },
   "file_extension": ".py",
   "mimetype": "text/x-python",
   "name": "python",
   "nbconvert_exporter": "python",
   "pygments_lexer": "ipython3",
   "version": "3.10.2"
  }
 },
 "nbformat": 4,
 "nbformat_minor": 5
}
