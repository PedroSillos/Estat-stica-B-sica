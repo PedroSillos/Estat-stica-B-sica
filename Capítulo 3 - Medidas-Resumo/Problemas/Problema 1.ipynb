{
 "cells": [
  {
   "cell_type": "markdown",
   "id": "662116c3",
   "metadata": {},
   "source": [
    "## Problema 1"
   ]
  },
  {
   "cell_type": "markdown",
   "id": "3fd50f50",
   "metadata": {},
   "source": [
    "#### Quer se estudar o número de erros de impressão de um livro. Para isso escolheu-se uma amostra de 50 páginas, encontrando-se o número de erros por página da tabela abaixo."
   ]
  },
  {
   "cell_type": "code",
   "execution_count": 1,
   "id": "30987c34",
   "metadata": {},
   "outputs": [],
   "source": [
    "import pandas as pd\n",
    "import math\n",
    "import matplotlib.pyplot as plt"
   ]
  },
  {
   "cell_type": "code",
   "execution_count": 2,
   "id": "ba15f07f",
   "metadata": {},
   "outputs": [
    {
     "data": {
      "text/html": [
       "<div>\n",
       "<style scoped>\n",
       "    .dataframe tbody tr th:only-of-type {\n",
       "        vertical-align: middle;\n",
       "    }\n",
       "\n",
       "    .dataframe tbody tr th {\n",
       "        vertical-align: top;\n",
       "    }\n",
       "\n",
       "    .dataframe thead th {\n",
       "        text-align: right;\n",
       "    }\n",
       "</style>\n",
       "<table border=\"1\" class=\"dataframe\">\n",
       "  <thead>\n",
       "    <tr style=\"text-align: right;\">\n",
       "      <th></th>\n",
       "      <th>Erros</th>\n",
       "      <th>Frequência</th>\n",
       "    </tr>\n",
       "  </thead>\n",
       "  <tbody>\n",
       "    <tr>\n",
       "      <th>0</th>\n",
       "      <td>0</td>\n",
       "      <td>25</td>\n",
       "    </tr>\n",
       "    <tr>\n",
       "      <th>1</th>\n",
       "      <td>1</td>\n",
       "      <td>20</td>\n",
       "    </tr>\n",
       "    <tr>\n",
       "      <th>2</th>\n",
       "      <td>2</td>\n",
       "      <td>3</td>\n",
       "    </tr>\n",
       "    <tr>\n",
       "      <th>3</th>\n",
       "      <td>3</td>\n",
       "      <td>1</td>\n",
       "    </tr>\n",
       "    <tr>\n",
       "      <th>4</th>\n",
       "      <td>4</td>\n",
       "      <td>1</td>\n",
       "    </tr>\n",
       "  </tbody>\n",
       "</table>\n",
       "</div>"
      ],
      "text/plain": [
       "   Erros  Frequência\n",
       "0      0          25\n",
       "1      1          20\n",
       "2      2           3\n",
       "3      3           1\n",
       "4      4           1"
      ]
     },
     "execution_count": 2,
     "metadata": {},
     "output_type": "execute_result"
    }
   ],
   "source": [
    "df = pd.DataFrame(\n",
    "    {\n",
    "        \"Erros\":[0,1,2,3,4],\n",
    "        \"Frequência\":[25,20,3,1,1]\n",
    "    }\n",
    ")\n",
    "df"
   ]
  },
  {
   "cell_type": "markdown",
   "id": "31eea33e",
   "metadata": {},
   "source": [
    "##### (a) Qual o número médio de erros por página?"
   ]
  },
  {
   "cell_type": "code",
   "execution_count": 3,
   "id": "9e61adae",
   "metadata": {},
   "outputs": [
    {
     "name": "stdout",
     "output_type": "stream",
     "text": [
      "Número médio de erros por página: 0.66\n"
     ]
    }
   ],
   "source": [
    "total_de_erros=sum(df['Frequência'])\n",
    "proporcoes=(df['Frequência']/total_de_erros)\n",
    "media_de_erros_por_página=sum(proporcoes * df['Erros'])\n",
    "print(\"Número médio de erros por página:\", media_de_erros_por_página)"
   ]
  },
  {
   "cell_type": "markdown",
   "id": "565a7b31",
   "metadata": {},
   "source": [
    "##### (b) E o número mediano?"
   ]
  },
  {
   "cell_type": "code",
   "execution_count": 4,
   "id": "bfd7c5db",
   "metadata": {},
   "outputs": [
    {
     "name": "stdout",
     "output_type": "stream",
     "text": [
      "Número mediano: 0.5\n"
     ]
    }
   ],
   "source": [
    "total_de_erros=sum(df['Frequência'])\n",
    "\n",
    "numero_mediano=0\n",
    "primeiro_numero=0\n",
    "segundo_numero=0\n",
    "\n",
    "if total_de_erros%2==1:\n",
    "    posicao_numero_mediano = (total_de_erros+1)/2\n",
    "    soma=0\n",
    "    for index, row in df.iterrows():\n",
    "        soma+=row['Frequência']\n",
    "        if posicao_numero_mediano <= soma:\n",
    "            numero_mediano=row['Erros']\n",
    "            break            \n",
    "else:\n",
    "    posicao_primero_numero = (total_de_erros)/2\n",
    "    posicao_segundo_numero = (total_de_erros/2)+1\n",
    "    soma=0\n",
    "    for index, row in df.iterrows():\n",
    "        soma+=row['Frequência']\n",
    "        if posicao_primero_numero <= soma:\n",
    "            primeiro_numero=row['Erros']\n",
    "            posicao_primero_numero=total_de_erros+1\n",
    "        if posicao_segundo_numero <= soma:\n",
    "            segundo_numero=row['Erros']\n",
    "            break\n",
    "    numero_mediano=(primeiro_numero+segundo_numero)/2\n",
    "            \n",
    "print(\"Número mediano:\",numero_mediano)"
   ]
  },
  {
   "cell_type": "markdown",
   "id": "3e0c967a",
   "metadata": {},
   "source": [
    "##### (c) Qual o desvio padrão?"
   ]
  },
  {
   "cell_type": "code",
   "execution_count": 5,
   "id": "5bbd7597",
   "metadata": {},
   "outputs": [
    {
     "name": "stdout",
     "output_type": "stream",
     "text": [
      "0.8393\n"
     ]
    }
   ],
   "source": [
    "desvio_padrao = math.sqrt( sum( ( proporcoes*(df['Erros']**2) ) ) - (media_de_erros_por_página**2) )\n",
    "print('{0:.4g}'.format(desvio_padrao))"
   ]
  },
  {
   "cell_type": "markdown",
   "id": "3f17c752",
   "metadata": {},
   "source": [
    "##### (d) Faça uma representação gráfica para a distribuição:"
   ]
  },
  {
   "cell_type": "code",
   "execution_count": 6,
   "id": "2e11b4c2",
   "metadata": {},
   "outputs": [
    {
     "data": {
      "image/png": "[encoded data removed]",
      "text/plain": [
       "<Figure size 432x288 with 1 Axes>"
      ]
     },
     "metadata": {},
     "output_type": "display_data"
    }
   ],
   "source": [
    "fig1, ax1 = plt.subplots()\n",
    "ax1.pie(df['Frequência'], explode=None, labels=df['Erros'], shadow=None, startangle=90)\n",
    "ax1.axis('equal')  \n",
    "plt.show()"
   ]
  },
  {
   "cell_type": "markdown",
   "id": "2a95a76c",
   "metadata": {},
   "source": [
    "##### (e) Se o livro tem 500 páginas, qual é o número total de erros esperado no livro?"
   ]
  },
  {
   "cell_type": "code",
   "execution_count": 7,
   "id": "52d41db4",
   "metadata": {},
   "outputs": [
    {
     "name": "stdout",
     "output_type": "stream",
     "text": [
      "330.0\n"
     ]
    }
   ],
   "source": [
    "numero_de_paginas=500\n",
    "total_erros_esperado_livro=numero_de_paginas*media_de_erros_por_página\n",
    "print(total_erros_esperado_livro)"
   ]
  }
 ],
 "metadata": {
  "kernelspec": {
   "display_name": "Python 3 (ipykernel)",
   "language": "python",
   "name": "python3"
  },
  "language_info": {
   "codemirror_mode": {
    "name": "ipython",
    "version": 3
   },
   "file_extension": ".py",
   "mimetype": "text/x-python",
   "name": "python",
   "nbconvert_exporter": "python",
   "pygments_lexer": "ipython3",
   "version": "3.10.2"
  }
 },
 "nbformat": 4,
 "nbformat_minor": 5
}
