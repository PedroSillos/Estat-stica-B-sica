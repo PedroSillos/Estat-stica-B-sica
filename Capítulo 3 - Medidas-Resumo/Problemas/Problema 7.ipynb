{
 "cells": [
  {
   "cell_type": "markdown",
   "id": "662116c3",
   "metadata": {},
   "source": [
    "## Problema 7"
   ]
  },
  {
   "cell_type": "markdown",
   "id": "dc75ce6d",
   "metadata": {},
   "source": [
    "#### Obtenha o esquema dos cinco números para os dados do Problema 3.\n",
    "#### Calcule a distância interquartil e as dispersões inferior e superior. Baseado nessa medidas, verifique se a forma da distribuição dos dados é normal."
   ]
  },
  {
   "cell_type": "code",
   "execution_count": 1,
   "id": "fe5f7e8d",
   "metadata": {},
   "outputs": [],
   "source": [
    "import pandas as pd"
   ]
  },
  {
   "cell_type": "code",
   "execution_count": 2,
   "id": "f5166d2f",
   "metadata": {},
   "outputs": [
    {
     "name": "stdout",
     "output_type": "stream",
     "text": [
      "Dados do problema 3:\n"
     ]
    }
   ],
   "source": [
    "print(\"Dados do problema 3:\")\n",
    "df = pd.DataFrame(\n",
    "    {\n",
    "        \"Casas por quarteirão\":[2,2,3,10,13,14,15,15,16,16,\n",
    "                      18,18,20,21,22,22,23,24,25,25,\n",
    "                      26,27,29,29,30,32,26,42,44,45,\n",
    "                      45,46,48,52,58,59,61,61,61,65,\n",
    "                      66,66,68,75,78,80,89,90,92,97]\n",
    "    }\n",
    ")"
   ]
  },
  {
   "cell_type": "code",
   "execution_count": 3,
   "id": "70181e21",
   "metadata": {},
   "outputs": [
    {
     "data": {
      "text/html": [
       "<div>\n",
       "<style scoped>\n",
       "    .dataframe tbody tr th:only-of-type {\n",
       "        vertical-align: middle;\n",
       "    }\n",
       "\n",
       "    .dataframe tbody tr th {\n",
       "        vertical-align: top;\n",
       "    }\n",
       "\n",
       "    .dataframe thead th {\n",
       "        text-align: right;\n",
       "    }\n",
       "</style>\n",
       "<table border=\"1\" class=\"dataframe\">\n",
       "  <thead>\n",
       "    <tr style=\"text-align: right;\">\n",
       "      <th></th>\n",
       "      <th>Casas por quarteirão</th>\n",
       "    </tr>\n",
       "  </thead>\n",
       "  <tbody>\n",
       "    <tr>\n",
       "      <th>count</th>\n",
       "      <td>50.000000</td>\n",
       "    </tr>\n",
       "    <tr>\n",
       "      <th>mean</th>\n",
       "      <td>40.220000</td>\n",
       "    </tr>\n",
       "    <tr>\n",
       "      <th>std</th>\n",
       "      <td>26.149718</td>\n",
       "    </tr>\n",
       "    <tr>\n",
       "      <th>min</th>\n",
       "      <td>2.000000</td>\n",
       "    </tr>\n",
       "    <tr>\n",
       "      <th>25%</th>\n",
       "      <td>20.250000</td>\n",
       "    </tr>\n",
       "    <tr>\n",
       "      <th>50%</th>\n",
       "      <td>29.500000</td>\n",
       "    </tr>\n",
       "    <tr>\n",
       "      <th>75%</th>\n",
       "      <td>61.000000</td>\n",
       "    </tr>\n",
       "    <tr>\n",
       "      <th>max</th>\n",
       "      <td>97.000000</td>\n",
       "    </tr>\n",
       "  </tbody>\n",
       "</table>\n",
       "</div>"
      ],
      "text/plain": [
       "       Casas por quarteirão\n",
       "count             50.000000\n",
       "mean              40.220000\n",
       "std               26.149718\n",
       "min                2.000000\n",
       "25%               20.250000\n",
       "50%               29.500000\n",
       "75%               61.000000\n",
       "max               97.000000"
      ]
     },
     "execution_count": 3,
     "metadata": {},
     "output_type": "execute_result"
    }
   ],
   "source": [
    "description = df.describe(percentiles=[.25, .50, .75])\n",
    "description"
   ]
  },
  {
   "attachments": {
    "image.png": {
     "image/png": "[encoded data removed]"
    }
   },
   "cell_type": "markdown",
   "id": "451ec82d",
   "metadata": {},
   "source": [
    "![image.png](attachment:image.png)"
   ]
  },
  {
   "cell_type": "code",
   "execution_count": 4,
   "id": "581e36cc",
   "metadata": {},
   "outputs": [
    {
     "name": "stdout",
     "output_type": "stream",
     "text": [
      "Distancia interquartil: 40.75\n"
     ]
    }
   ],
   "source": [
    "distancia_interquartil=0\n",
    "for index, row in description.iterrows():\n",
    "    if index == '25%':\n",
    "        distancia_interquartil-=row['Casas por quarteirão']\n",
    "    if index == '75%':\n",
    "        distancia_interquartil+=row['Casas por quarteirão']\n",
    "print(\"Distancia interquartil:\",distancia_interquartil)"
   ]
  },
  {
   "cell_type": "code",
   "execution_count": 5,
   "id": "e199895e",
   "metadata": {},
   "outputs": [
    {
     "name": "stdout",
     "output_type": "stream",
     "text": [
      "Dispersão inferior: 27.5\n"
     ]
    }
   ],
   "source": [
    "dispersao_inferior=0\n",
    "for index, row in description.iterrows():\n",
    "    if index == 'min':\n",
    "        dispersao_inferior-=row['Casas por quarteirão']\n",
    "    if index == '50%':\n",
    "        dispersao_inferior+=row['Casas por quarteirão']\n",
    "print(\"Dispersão inferior:\",dispersao_inferior)"
   ]
  },
  {
   "cell_type": "code",
   "execution_count": 6,
   "id": "43b7cb40",
   "metadata": {},
   "outputs": [
    {
     "name": "stdout",
     "output_type": "stream",
     "text": [
      "Dispersão superior: 67.5\n"
     ]
    }
   ],
   "source": [
    "dispersao_superior=0\n",
    "for index, row in description.iterrows():\n",
    "    if index == '50%':\n",
    "        dispersao_superior-=row['Casas por quarteirão']\n",
    "    if index == 'max':\n",
    "        dispersao_superior+=row['Casas por quarteirão']\n",
    "print(\"Dispersão superior:\",dispersao_superior)"
   ]
  },
  {
   "cell_type": "markdown",
   "id": "7f9bf676",
   "metadata": {},
   "source": [
    "A distribuição dos dados não é normal pois a Dispersão superior é maior do que a Dispersão inferior e maior do que a Distancia interquartil."
   ]
  }
 ],
 "metadata": {
  "kernelspec": {
   "display_name": "Python 3 (ipykernel)",
   "language": "python",
   "name": "python3"
  },
  "language_info": {
   "codemirror_mode": {
    "name": "ipython",
    "version": 3
   },
   "file_extension": ".py",
   "mimetype": "text/x-python",
   "name": "python",
   "nbconvert_exporter": "python",
   "pygments_lexer": "ipython3",
   "version": "3.10.2"
  }
 },
 "nbformat": 4,
 "nbformat_minor": 5
}
