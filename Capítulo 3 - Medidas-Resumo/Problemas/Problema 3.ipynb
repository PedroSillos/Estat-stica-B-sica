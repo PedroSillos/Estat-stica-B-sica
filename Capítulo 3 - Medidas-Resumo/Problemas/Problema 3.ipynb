{
 "cells": [
  {
   "cell_type": "markdown",
   "id": "662116c3",
   "metadata": {},
   "source": [
    "## Problema 3"
   ]
  },
  {
   "cell_type": "markdown",
   "id": "3fd50f50",
   "metadata": {},
   "source": [
    "#### Para facilitar um projeto de ampliação da rede de esgoto de uma certa região de uma cidade, as autoridades tomaram uma amostra de tamanho 50 dos 270 quarteirões que compõem a região, e foram encontrados os seguintes números de casas por quarteirão:"
   ]
  },
  {
   "cell_type": "code",
   "execution_count": 1,
   "id": "ba15f07f",
   "metadata": {},
   "outputs": [
    {
     "name": "stdout",
     "output_type": "stream",
     "text": [
      "casas_por_quarteirao: [2, 2, 3, 10, 13, 14, 15, 15, 16, 16, 18, 18, 20, 21, 22, 22, 23, 24, 25, 25, 26, 27, 29, 29, 30, 32, 26, 42, 44, 45, 45, 46, 48, 52, 58, 59, 61, 61, 61, 65, 66, 66, 68, 75, 78, 80, 89, 90, 92, 97]\n"
     ]
    }
   ],
   "source": [
    "casas_por_quarteirao=[2,2,3,10,13,14,15,15,16,16,\n",
    "                      18,18,20,21,22,22,23,24,25,25,\n",
    "                      26,27,29,29,30,32,26,42,44,45,\n",
    "                      45,46,48,52,58,59,61,61,61,65,\n",
    "                      66,66,68,75,78,80,89,90,92,97]\n",
    "print(\"casas_por_quarteirao:\",casas_por_quarteirao)"
   ]
  },
  {
   "cell_type": "code",
   "execution_count": 2,
   "id": "34993878",
   "metadata": {},
   "outputs": [],
   "source": [
    "import matplotlib.pyplot as plt\n",
    "import statistics as stat"
   ]
  },
  {
   "cell_type": "markdown",
   "id": "0d38f1a1",
   "metadata": {},
   "source": [
    "##### (a) Use cinco intervalos e construa um histograma."
   ]
  },
  {
   "cell_type": "code",
   "execution_count": 3,
   "id": "e97e1dee",
   "metadata": {},
   "outputs": [
    {
     "data": {
      "image/png": "[encoded data removed]",
      "text/plain": [
       "<Figure size 432x288 with 1 Axes>"
      ]
     },
     "metadata": {
      "needs_background": "light"
     },
     "output_type": "display_data"
    }
   ],
   "source": [
    "plt.hist(casas_por_quarteirao, bins=5, range=(0,100), density=True, rwidth=0.8, color='Orange')\n",
    "plt.show()"
   ]
  },
  {
   "cell_type": "markdown",
   "id": "229e7566",
   "metadata": {},
   "source": [
    "##### (b) Determine uma medida de posição central e uma medida de dispersão."
   ]
  },
  {
   "cell_type": "code",
   "execution_count": 4,
   "id": "ae58ad30",
   "metadata": {},
   "outputs": [
    {
     "name": "stdout",
     "output_type": "stream",
     "text": [
      "Medidas de posição central:\n",
      "    Moda: 61.00\n",
      "    Mediana: 29.50\n",
      "    Media aritmetica: 40.22\n",
      "Medidas de dispersão:\n",
      "    Variância: 670.1316\n",
      "    Desvio padrão: 25.8869\n"
     ]
    }
   ],
   "source": [
    "print(\"Medidas de posição central:\")\n",
    "print(\"    Moda:\", '{0:.2f}'.format(stat.mode(casas_por_quarteirao)))\n",
    "print(\"    Mediana:\", '{0:.2f}'.format(stat.median(casas_por_quarteirao)))\n",
    "print(\"    Media aritmetica:\", '{0:.2f}'.format(stat.mean(casas_por_quarteirao)))\n",
    "print(\"Medidas de dispersão:\")\n",
    "print(\"    Variância:\", '{0:.4f}'.format(stat.pvariance(casas_por_quarteirao)))\n",
    "print(\"    Desvio padrão:\", '{0:.4f}'.format(stat.pstdev(casas_por_quarteirao)))"
   ]
  }
 ],
 "metadata": {
  "kernelspec": {
   "display_name": "Python 3 (ipykernel)",
   "language": "python",
   "name": "python3"
  },
  "language_info": {
   "codemirror_mode": {
    "name": "ipython",
    "version": 3
   },
   "file_extension": ".py",
   "mimetype": "text/x-python",
   "name": "python",
   "nbconvert_exporter": "python",
   "pygments_lexer": "ipython3",
   "version": "3.10.2"
  }
 },
 "nbformat": 4,
 "nbformat_minor": 5
}
