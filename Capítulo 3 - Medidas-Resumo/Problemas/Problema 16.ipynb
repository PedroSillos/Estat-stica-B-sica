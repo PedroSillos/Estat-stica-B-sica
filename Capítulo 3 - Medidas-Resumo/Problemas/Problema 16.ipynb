{
 "cells": [
  {
   "cell_type": "markdown",
   "id": "662116c3",
   "metadata": {},
   "source": [
    "## Problema 16"
   ]
  },
  {
   "cell_type": "markdown",
   "id": "dc75ce6d",
   "metadata": {},
   "source": [
    "#### Os dados abaixo representam as vendas semanais, em classes de salários mínimos, de vendedores de gêneros alimentícios:"
   ]
  },
  {
   "cell_type": "code",
   "execution_count": 1,
   "id": "70aa2560",
   "metadata": {},
   "outputs": [],
   "source": [
    "import matplotlib.pyplot as plt\n",
    "import statistics as stat"
   ]
  },
  {
   "cell_type": "code",
   "execution_count": 2,
   "id": "926e702f",
   "metadata": {},
   "outputs": [],
   "source": [
    "vendas_em_salarios_minimos=[]\n",
    "vendas_em_salarios_minimos.extend([32.5]*2)\n",
    "vendas_em_salarios_minimos.extend([37.5]*10)\n",
    "vendas_em_salarios_minimos.extend([42.5]*18)\n",
    "vendas_em_salarios_minimos.extend([47.5]*50)\n",
    "vendas_em_salarios_minimos.extend([52.5]*70)\n",
    "vendas_em_salarios_minimos.extend([57.5]*30)\n",
    "vendas_em_salarios_minimos.extend([62.5]*18)\n",
    "vendas_em_salarios_minimos.extend([67.5]*2)"
   ]
  },
  {
   "cell_type": "markdown",
   "id": "93c7dcac",
   "metadata": {},
   "source": [
    "##### (a) Faça um histograma das observações"
   ]
  },
  {
   "cell_type": "code",
   "execution_count": 3,
   "id": "24be679b",
   "metadata": {},
   "outputs": [
    {
     "data": {
      "image/png": "[encoded data removed]",
      "text/plain": [
       "<Figure size 432x288 with 1 Axes>"
      ]
     },
     "metadata": {
      "needs_background": "light"
     },
     "output_type": "display_data"
    }
   ],
   "source": [
    "plt.hist(vendas_em_salarios_minimos, bins='fd', range=(20,80), color='Orange')\n",
    "plt.show()"
   ]
  },
  {
   "cell_type": "markdown",
   "id": "010e4605",
   "metadata": {},
   "source": [
    "##### (b) Calcule a média da amostra, x̅."
   ]
  },
  {
   "cell_type": "code",
   "execution_count": 4,
   "id": "c77d7df0",
   "metadata": {},
   "outputs": [
    {
     "name": "stdout",
     "output_type": "stream",
     "text": [
      "Media da amostra: 51.2\n"
     ]
    }
   ],
   "source": [
    "media_da_amostra=stat.mean(vendas_em_salarios_minimos)\n",
    "print(\"Media da amostra:\",media_da_amostra)"
   ]
  },
  {
   "cell_type": "markdown",
   "id": "23997d66",
   "metadata": {},
   "source": [
    "##### (c) Calcule o desvio padrão da amostra, s."
   ]
  },
  {
   "cell_type": "code",
   "execution_count": 5,
   "id": "6d946b04",
   "metadata": {},
   "outputs": [
    {
     "name": "stdout",
     "output_type": "stream",
     "text": [
      "Desvio padrao da amostra: 6.635521890082862\n"
     ]
    }
   ],
   "source": [
    "desvio_padrao_da_amostra=stat.stdev(vendas_em_salarios_minimos)\n",
    "print(\"Desvio padrao da amostra:\",desvio_padrao_da_amostra)"
   ]
  },
  {
   "cell_type": "markdown",
   "id": "be3b577e",
   "metadata": {},
   "source": [
    "##### (d) Qual a porcentagem das observações compreendidas entre x̅ - 2s e x̅ + 2s."
   ]
  },
  {
   "cell_type": "code",
   "execution_count": 6,
   "id": "12d3e04c",
   "metadata": {},
   "outputs": [
    {
     "name": "stdout",
     "output_type": "stream",
     "text": [
      "Porcentagem das observações compreendidas entre x̅ - 2s e x̅ + 2s: 93.0\n"
     ]
    }
   ],
   "source": [
    "media_menos_2_desvios_padrao=media_da_amostra-2*desvio_padrao_da_amostra\n",
    "media_mais_2_desvios_padrao=media_da_amostra+2*desvio_padrao_da_amostra\n",
    "count=0\n",
    "for venda in vendas_em_salarios_minimos:\n",
    "    if media_menos_2_desvios_padrao <= venda and venda <= media_mais_2_desvios_padrao:\n",
    "        count+=1\n",
    "porcentagem_observacoes_compreendidas_entre_x_menos_2s_e_x_mais_2s=(count/len(vendas_em_salarios_minimos))*100\n",
    "print(\"Porcentagem das observações compreendidas entre x̅ - 2s e x̅ + 2s:\",porcentagem_observacoes_compreendidas_entre_x_menos_2s_e_x_mais_2s)"
   ]
  },
  {
   "cell_type": "markdown",
   "id": "56aa58b4",
   "metadata": {},
   "source": [
    "##### (e) Calcule a mediana."
   ]
  },
  {
   "cell_type": "code",
   "execution_count": 7,
   "id": "492f3241",
   "metadata": {},
   "outputs": [
    {
     "name": "stdout",
     "output_type": "stream",
     "text": [
      "Mediana da amostra: 52.5\n"
     ]
    }
   ],
   "source": [
    "mediana_da_amostra=stat.median(vendas_em_salarios_minimos)\n",
    "print(\"Mediana da amostra:\",mediana_da_amostra)"
   ]
  }
 ],
 "metadata": {
  "kernelspec": {
   "display_name": "Python 3 (ipykernel)",
   "language": "python",
   "name": "python3"
  },
  "language_info": {
   "codemirror_mode": {
    "name": "ipython",
    "version": 3
   },
   "file_extension": ".py",
   "mimetype": "text/x-python",
   "name": "python",
   "nbconvert_exporter": "python",
   "pygments_lexer": "ipython3",
   "version": "3.10.2"
  }
 },
 "nbformat": 4,
 "nbformat_minor": 5
}
