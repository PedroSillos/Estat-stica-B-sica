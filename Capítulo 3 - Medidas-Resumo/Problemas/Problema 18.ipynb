{
 "cells": [
  {
   "cell_type": "markdown",
   "id": "662116c3",
   "metadata": {},
   "source": [
    "## Problema 18"
   ]
  },
  {
   "cell_type": "markdown",
   "id": "dc75ce6d",
   "metadata": {},
   "source": [
    "#### O número de divórcios na cidade, de acordo com a duraçã do casamento, está representado na tabela abaixo."
   ]
  },
  {
   "cell_type": "code",
   "execution_count": 1,
   "id": "70aa2560",
   "metadata": {},
   "outputs": [],
   "source": [
    "import pandas as pd\n",
    "import statistics as stat\n",
    "import matplotlib.pyplot as plt"
   ]
  },
  {
   "cell_type": "code",
   "execution_count": 2,
   "id": "4033588f",
   "metadata": {},
   "outputs": [
    {
     "data": {
      "text/html": [
       "<div>\n",
       "<style scoped>\n",
       "    .dataframe tbody tr th:only-of-type {\n",
       "        vertical-align: middle;\n",
       "    }\n",
       "\n",
       "    .dataframe tbody tr th {\n",
       "        vertical-align: top;\n",
       "    }\n",
       "\n",
       "    .dataframe thead th {\n",
       "        text-align: right;\n",
       "    }\n",
       "</style>\n",
       "<table border=\"1\" class=\"dataframe\">\n",
       "  <thead>\n",
       "    <tr style=\"text-align: right;\">\n",
       "      <th></th>\n",
       "      <th>Anos de Casamento</th>\n",
       "      <th>Número de divórcios</th>\n",
       "    </tr>\n",
       "  </thead>\n",
       "  <tbody>\n",
       "    <tr>\n",
       "      <th>0</th>\n",
       "      <td>[0, 6]</td>\n",
       "      <td>2800</td>\n",
       "    </tr>\n",
       "    <tr>\n",
       "      <th>1</th>\n",
       "      <td>[6, 12]</td>\n",
       "      <td>1400</td>\n",
       "    </tr>\n",
       "    <tr>\n",
       "      <th>2</th>\n",
       "      <td>[12, 18]</td>\n",
       "      <td>600</td>\n",
       "    </tr>\n",
       "    <tr>\n",
       "      <th>3</th>\n",
       "      <td>[18, 24]</td>\n",
       "      <td>150</td>\n",
       "    </tr>\n",
       "    <tr>\n",
       "      <th>4</th>\n",
       "      <td>[24, 30]</td>\n",
       "      <td>50</td>\n",
       "    </tr>\n",
       "  </tbody>\n",
       "</table>\n",
       "</div>"
      ],
      "text/plain": [
       "  Anos de Casamento  Número de divórcios\n",
       "0            [0, 6]                 2800\n",
       "1           [6, 12]                 1400\n",
       "2          [12, 18]                  600\n",
       "3          [18, 24]                  150\n",
       "4          [24, 30]                   50"
      ]
     },
     "execution_count": 2,
     "metadata": {},
     "output_type": "execute_result"
    }
   ],
   "source": [
    "df=pd.DataFrame(\n",
    "    {\n",
    "        \"Anos de Casamento\":[[0,6],[6,12],[12,18],[18,24],[24,30]],\n",
    "        \"Número de divórcios\":[2800,1400,600,150,50]\n",
    "    }\n",
    ")\n",
    "df"
   ]
  },
  {
   "cell_type": "code",
   "execution_count": 3,
   "id": "f2961721",
   "metadata": {},
   "outputs": [],
   "source": [
    "anos_de_casamento_quando_divorcio=[]\n",
    "for index, row in df.iterrows():\n",
    "    ano_de_casamento_quando_divorcio=stat.mean(row['Anos de Casamento'])\n",
    "    numero_de_divorcios=row['Número de divórcios']\n",
    "    anos_de_casamento_quando_divorcio.extend([ano_de_casamento_quando_divorcio]*numero_de_divorcios)"
   ]
  },
  {
   "cell_type": "markdown",
   "id": "3c110b90",
   "metadata": {},
   "source": [
    "##### (a) Qual a duração média dos casamentos? E a mediana?"
   ]
  },
  {
   "cell_type": "code",
   "execution_count": 4,
   "id": "7309bc4b",
   "metadata": {},
   "outputs": [
    {
     "name": "stdout",
     "output_type": "stream",
     "text": [
      "duracao_media_casamentos: 6.9\n",
      "duracao_mediana_casamentos: 3.0\n"
     ]
    }
   ],
   "source": [
    "duracao_media_casamentos=stat.mean(anos_de_casamento_quando_divorcio)\n",
    "print(\"duracao_media_casamentos:\",duracao_media_casamentos)\n",
    "\n",
    "duracao_mediana_casamentos=stat.median(anos_de_casamento_quando_divorcio)\n",
    "print(\"duracao_mediana_casamentos:\",duracao_mediana_casamentos)"
   ]
  },
  {
   "cell_type": "markdown",
   "id": "051975e2",
   "metadata": {},
   "source": [
    "##### (b) Encontre a variância e o desvio padrão da duração de casamentos."
   ]
  },
  {
   "cell_type": "code",
   "execution_count": 5,
   "id": "b6c5a223",
   "metadata": {},
   "outputs": [
    {
     "name": "stdout",
     "output_type": "stream",
     "text": [
      "variancia_duracao_casamentos: 27.6355\n",
      "desvio_padrao_duracao_casamentos: 5.257\n"
     ]
    }
   ],
   "source": [
    "variancia_duracao_casamentos=stat.variance(anos_de_casamento_quando_divorcio)\n",
    "print(\"variancia_duracao_casamentos:\",'{0:.6g}'.format(variancia_duracao_casamentos))\n",
    "\n",
    "desvio_padrao_duracao_casamentos=stat.stdev(anos_de_casamento_quando_divorcio)\n",
    "print(\"desvio_padrao_duracao_casamentos:\",'{0:.4g}'.format(desvio_padrao_duracao_casamentos))"
   ]
  },
  {
   "cell_type": "markdown",
   "id": "76358543",
   "metadata": {},
   "source": [
    "##### (c) Construa o histograma da distribuição."
   ]
  },
  {
   "cell_type": "code",
   "execution_count": 6,
   "id": "c0bb4b99",
   "metadata": {},
   "outputs": [
    {
     "data": {
      "image/png": "[encoded data removed]",
      "text/plain": [
       "<Figure size 432x288 with 1 Axes>"
      ]
     },
     "metadata": {
      "needs_background": "light"
     },
     "output_type": "display_data"
    }
   ],
   "source": [
    "plt.hist(anos_de_casamento_quando_divorcio, bins=5, range=(0,30), density=True, rwidth=0.8, color='Orange')\n",
    "plt.show()"
   ]
  },
  {
   "cell_type": "markdown",
   "id": "96a8e2f7",
   "metadata": {},
   "source": [
    "##### (d) Encontre o primeiro e o nono decis."
   ]
  },
  {
   "cell_type": "code",
   "execution_count": 7,
   "id": "ee78ab89",
   "metadata": {},
   "outputs": [],
   "source": [
    "df2 = pd.DataFrame(\n",
    "    {\n",
    "        \"Anos de Casamento\":anos_de_casamento_quando_divorcio\n",
    "    }\n",
    ")\n",
    "desc = df2.describe(percentiles=[0.10, 0.25, 0.50, 0.75, 0.90])"
   ]
  },
  {
   "cell_type": "code",
   "execution_count": 8,
   "id": "772dd4f4",
   "metadata": {},
   "outputs": [
    {
     "name": "stdout",
     "output_type": "stream",
     "text": [
      "Primeiro decil: 3.0\n",
      "Nono decil: 15.0\n"
     ]
    }
   ],
   "source": [
    "print(\"Primeiro decil:\",desc.at['10%','Anos de Casamento'])\n",
    "print(\"Nono decil:\",desc.at['90%','Anos de Casamento'])"
   ]
  },
  {
   "cell_type": "markdown",
   "id": "a4fa87ee",
   "metadata": {},
   "source": [
    "##### (e) Qual o intervalo interquartil?"
   ]
  },
  {
   "cell_type": "code",
   "execution_count": 9,
   "id": "b8d96a52",
   "metadata": {},
   "outputs": [
    {
     "name": "stdout",
     "output_type": "stream",
     "text": [
      "Intervalo interquartil: 6.0\n"
     ]
    }
   ],
   "source": [
    "print(\"Intervalo interquartil:\",desc.at['75%','Anos de Casamento']-desc.at['25%','Anos de Casamento'])"
   ]
  }
 ],
 "metadata": {
  "kernelspec": {
   "display_name": "Python 3 (ipykernel)",
   "language": "python",
   "name": "python3"
  },
  "language_info": {
   "codemirror_mode": {
    "name": "ipython",
    "version": 3
   },
   "file_extension": ".py",
   "mimetype": "text/x-python",
   "name": "python",
   "nbconvert_exporter": "python",
   "pygments_lexer": "ipython3",
   "version": "3.10.2"
  }
 },
 "nbformat": 4,
 "nbformat_minor": 5
}
