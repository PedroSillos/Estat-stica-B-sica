{
 "cells": [
  {
   "cell_type": "markdown",
   "id": "662116c3",
   "metadata": {},
   "source": [
    "## Problema 8"
   ]
  },
  {
   "cell_type": "markdown",
   "id": "dc75ce6d",
   "metadata": {},
   "source": [
    "#### Refaça o problema anterior, utilizando desta vez os dados do Problema 5 do Capítulo 2."
   ]
  },
  {
   "cell_type": "code",
   "execution_count": 1,
   "id": "87b400d4",
   "metadata": {},
   "outputs": [],
   "source": [
    "import pandas as pd"
   ]
  },
  {
   "cell_type": "code",
   "execution_count": 2,
   "id": "d1e5fcc3",
   "metadata": {},
   "outputs": [
    {
     "data": {
      "text/html": [
       "<div>\n",
       "<style scoped>\n",
       "    .dataframe tbody tr th:only-of-type {\n",
       "        vertical-align: middle;\n",
       "    }\n",
       "\n",
       "    .dataframe tbody tr th {\n",
       "        vertical-align: top;\n",
       "    }\n",
       "\n",
       "    .dataframe thead th {\n",
       "        text-align: right;\n",
       "    }\n",
       "</style>\n",
       "<table border=\"1\" class=\"dataframe\">\n",
       "  <thead>\n",
       "    <tr style=\"text-align: right;\">\n",
       "      <th></th>\n",
       "      <th>N</th>\n",
       "      <th>N de Filhos</th>\n",
       "      <th>Salario (x Sal Min)</th>\n",
       "      <th>Idade - Anos</th>\n",
       "      <th>Idade - Meses</th>\n",
       "    </tr>\n",
       "  </thead>\n",
       "  <tbody>\n",
       "    <tr>\n",
       "      <th>count</th>\n",
       "      <td>36.000000</td>\n",
       "      <td>20.000000</td>\n",
       "      <td>36.000000</td>\n",
       "      <td>36.000000</td>\n",
       "      <td>36.000000</td>\n",
       "    </tr>\n",
       "    <tr>\n",
       "      <th>mean</th>\n",
       "      <td>18.500000</td>\n",
       "      <td>1.650000</td>\n",
       "      <td>11.122222</td>\n",
       "      <td>34.583333</td>\n",
       "      <td>5.611111</td>\n",
       "    </tr>\n",
       "    <tr>\n",
       "      <th>std</th>\n",
       "      <td>10.535654</td>\n",
       "      <td>1.268028</td>\n",
       "      <td>4.587458</td>\n",
       "      <td>6.737422</td>\n",
       "      <td>3.288749</td>\n",
       "    </tr>\n",
       "    <tr>\n",
       "      <th>min</th>\n",
       "      <td>1.000000</td>\n",
       "      <td>0.000000</td>\n",
       "      <td>4.000000</td>\n",
       "      <td>20.000000</td>\n",
       "      <td>0.000000</td>\n",
       "    </tr>\n",
       "    <tr>\n",
       "      <th>25%</th>\n",
       "      <td>9.750000</td>\n",
       "      <td>1.000000</td>\n",
       "      <td>7.552500</td>\n",
       "      <td>30.000000</td>\n",
       "      <td>3.750000</td>\n",
       "    </tr>\n",
       "    <tr>\n",
       "      <th>50%</th>\n",
       "      <td>18.500000</td>\n",
       "      <td>2.000000</td>\n",
       "      <td>10.165000</td>\n",
       "      <td>34.500000</td>\n",
       "      <td>6.000000</td>\n",
       "    </tr>\n",
       "    <tr>\n",
       "      <th>75%</th>\n",
       "      <td>27.250000</td>\n",
       "      <td>2.000000</td>\n",
       "      <td>14.060000</td>\n",
       "      <td>40.000000</td>\n",
       "      <td>8.000000</td>\n",
       "    </tr>\n",
       "    <tr>\n",
       "      <th>max</th>\n",
       "      <td>36.000000</td>\n",
       "      <td>5.000000</td>\n",
       "      <td>23.300000</td>\n",
       "      <td>48.000000</td>\n",
       "      <td>11.000000</td>\n",
       "    </tr>\n",
       "  </tbody>\n",
       "</table>\n",
       "</div>"
      ],
      "text/plain": [
       "               N  N de Filhos  Salario (x Sal Min)  Idade - Anos  \\\n",
       "count  36.000000    20.000000            36.000000     36.000000   \n",
       "mean   18.500000     1.650000            11.122222     34.583333   \n",
       "std    10.535654     1.268028             4.587458      6.737422   \n",
       "min     1.000000     0.000000             4.000000     20.000000   \n",
       "25%     9.750000     1.000000             7.552500     30.000000   \n",
       "50%    18.500000     2.000000            10.165000     34.500000   \n",
       "75%    27.250000     2.000000            14.060000     40.000000   \n",
       "max    36.000000     5.000000            23.300000     48.000000   \n",
       "\n",
       "       Idade - Meses  \n",
       "count      36.000000  \n",
       "mean        5.611111  \n",
       "std         3.288749  \n",
       "min         0.000000  \n",
       "25%         3.750000  \n",
       "50%         6.000000  \n",
       "75%         8.000000  \n",
       "max        11.000000  "
      ]
     },
     "execution_count": 2,
     "metadata": {},
     "output_type": "execute_result"
    }
   ],
   "source": [
    "df = pd.read_excel (r'C:\\Estatística Básica\\Conjunto de Dados.xls', sheet_name='Tabela 2.1')\n",
    "description = df.describe(percentiles=[.25, .50, .75])\n",
    "description"
   ]
  },
  {
   "attachments": {
    "image.png": {
     "image/png": "[encoded data removed]"
    }
   },
   "cell_type": "markdown",
   "id": "513b40d2",
   "metadata": {},
   "source": [
    "![image.png](attachment:image.png)"
   ]
  },
  {
   "cell_type": "code",
   "execution_count": 3,
   "id": "ddd559e6",
   "metadata": {},
   "outputs": [
    {
     "name": "stdout",
     "output_type": "stream",
     "text": [
      "Distância interquartil N de Filhos: 1.0\n",
      "Dispersão inferior N de Filhos: 2.0\n",
      "Dispersão superior N de Filhos: 3.0\n"
     ]
    }
   ],
   "source": [
    "distancia_interquartil_n_de_Filhos=(description.at['75%', 'N de Filhos']-description.at['25%', 'N de Filhos'])\n",
    "print(\"Distância interquartil N de Filhos:\",distancia_interquartil_n_de_Filhos)\n",
    "\n",
    "dispersao_inferior_n_de_Filhos=(description.at['50%', 'N de Filhos']-description.at['min', 'N de Filhos'])\n",
    "print(\"Dispersão inferior N de Filhos:\",dispersao_inferior_n_de_Filhos)\n",
    "\n",
    "distancia_superior_n_de_Filhos=(description.at['max', 'N de Filhos']-description.at['50%', 'N de Filhos'])\n",
    "print(\"Dispersão superior N de Filhos:\",distancia_superior_n_de_Filhos)"
   ]
  },
  {
   "cell_type": "code",
   "execution_count": 4,
   "id": "3117deef",
   "metadata": {},
   "outputs": [
    {
     "name": "stdout",
     "output_type": "stream",
     "text": [
      "Distância interquartil Salario (x Sal Min): 6.5074999999999985\n",
      "Dispersão inferior Salario (x Sal Min): 6.164999999999999\n",
      "Dispersão superior Salario (x Sal Min): 13.135000000000002\n"
     ]
    }
   ],
   "source": [
    "distancia_interquartil_salario=(description.at['75%', 'Salario (x Sal Min)']-description.at['25%', 'Salario (x Sal Min)'])\n",
    "print(\"Distância interquartil Salario (x Sal Min):\",distancia_interquartil_salario)\n",
    "\n",
    "dispersao_inferior_salario=(description.at['50%', 'Salario (x Sal Min)']-description.at['min', 'Salario (x Sal Min)'])\n",
    "print(\"Dispersão inferior Salario (x Sal Min):\",dispersao_inferior_salario)\n",
    "\n",
    "distancia_superior_salario=(description.at['max', 'Salario (x Sal Min)']-description.at['50%', 'Salario (x Sal Min)'])\n",
    "print(\"Dispersão superior Salario (x Sal Min):\",distancia_superior_salario)"
   ]
  },
  {
   "cell_type": "code",
   "execution_count": 5,
   "id": "04709e65",
   "metadata": {},
   "outputs": [
    {
     "name": "stdout",
     "output_type": "stream",
     "text": [
      "Distância interquartil Idade - Anos: 10.0\n",
      "Dispersão inferior Idade - Anos: 14.5\n",
      "Dispersão superior Idade - Anos: 13.5\n"
     ]
    }
   ],
   "source": [
    "distancia_interquartil_idade_anos=(description.at['75%', 'Idade - Anos']-description.at['25%', 'Idade - Anos'])\n",
    "print(\"Distância interquartil Idade - Anos:\",distancia_interquartil_idade_anos)\n",
    "\n",
    "dispersao_inferior_idade_anos=(description.at['50%', 'Idade - Anos']-description.at['min', 'Idade - Anos'])\n",
    "print(\"Dispersão inferior Idade - Anos:\",dispersao_inferior_idade_anos)\n",
    "\n",
    "distancia_superior_idade_anos=(description.at['max', 'Idade - Anos']-description.at['50%', 'Idade - Anos'])\n",
    "print(\"Dispersão superior Idade - Anos:\",distancia_superior_idade_anos)"
   ]
  },
  {
   "cell_type": "code",
   "execution_count": 6,
   "id": "ccd0f025",
   "metadata": {},
   "outputs": [
    {
     "name": "stdout",
     "output_type": "stream",
     "text": [
      "Distância interquartil Idade - Meses: 4.25\n",
      "Dispersão inferior Idade - Meses: 6.0\n",
      "Dispersão superior Idade - Meses: 5.0\n"
     ]
    }
   ],
   "source": [
    "distancia_interquartil_idade_meses=(description.at['75%', 'Idade - Meses']-description.at['25%', 'Idade - Meses'])\n",
    "print(\"Distância interquartil Idade - Meses:\",distancia_interquartil_idade_meses)\n",
    "\n",
    "dispersao_inferior_idade_meses=(description.at['50%', 'Idade - Meses']-description.at['min', 'Idade - Meses'])\n",
    "print(\"Dispersão inferior Idade - Meses:\",dispersao_inferior_idade_meses)\n",
    "\n",
    "dispersao_superior_idade_meses=(description.at['max', 'Idade - Meses']-description.at['50%', 'Idade - Meses'])\n",
    "print(\"Dispersão superior Idade - Meses:\",dispersao_superior_idade_meses)"
   ]
  },
  {
   "cell_type": "markdown",
   "id": "a7d27949",
   "metadata": {},
   "source": [
    "A idade em anos possui forma aproximadamente normal."
   ]
  }
 ],
 "metadata": {
  "kernelspec": {
   "display_name": "Python 3 (ipykernel)",
   "language": "python",
   "name": "python3"
  },
  "language_info": {
   "codemirror_mode": {
    "name": "ipython",
    "version": 3
   },
   "file_extension": ".py",
   "mimetype": "text/x-python",
   "name": "python",
   "nbconvert_exporter": "python",
   "pygments_lexer": "ipython3",
   "version": "3.10.2"
  }
 },
 "nbformat": 4,
 "nbformat_minor": 5
}
