{
 "cells": [
  {
   "cell_type": "markdown",
   "id": "2d336e78",
   "metadata": {},
   "source": [
    "### Problema 8"
   ]
  },
  {
   "cell_type": "markdown",
   "id": "df813fdc",
   "metadata": {},
   "source": [
    "#### Obtenha a média e a variância da v.a. Y do Problema 4."
   ]
  },
  {
   "cell_type": "code",
   "execution_count": 1,
   "id": "c960bafd",
   "metadata": {},
   "outputs": [
    {
     "data": {
      "text/html": [
       "<div>\n",
       "<style scoped>\n",
       "    .dataframe tbody tr th:only-of-type {\n",
       "        vertical-align: middle;\n",
       "    }\n",
       "\n",
       "    .dataframe tbody tr th {\n",
       "        vertical-align: top;\n",
       "    }\n",
       "\n",
       "    .dataframe thead th {\n",
       "        text-align: right;\n",
       "    }\n",
       "</style>\n",
       "<table border=\"1\" class=\"dataframe\">\n",
       "  <thead>\n",
       "    <tr style=\"text-align: right;\">\n",
       "      <th></th>\n",
       "      <th>y</th>\n",
       "      <th>P(Y = y)</th>\n",
       "    </tr>\n",
       "  </thead>\n",
       "  <tbody>\n",
       "    <tr>\n",
       "      <th>0</th>\n",
       "      <td>0</td>\n",
       "      <td>0.0625</td>\n",
       "    </tr>\n",
       "    <tr>\n",
       "      <th>1</th>\n",
       "      <td>1</td>\n",
       "      <td>0.2500</td>\n",
       "    </tr>\n",
       "    <tr>\n",
       "      <th>2</th>\n",
       "      <td>2</td>\n",
       "      <td>0.3750</td>\n",
       "    </tr>\n",
       "    <tr>\n",
       "      <th>3</th>\n",
       "      <td>3</td>\n",
       "      <td>0.2500</td>\n",
       "    </tr>\n",
       "    <tr>\n",
       "      <th>4</th>\n",
       "      <td>4</td>\n",
       "      <td>0.0625</td>\n",
       "    </tr>\n",
       "  </tbody>\n",
       "</table>\n",
       "</div>"
      ],
      "text/plain": [
       "   y  P(Y = y)\n",
       "0  0    0.0625\n",
       "1  1    0.2500\n",
       "2  2    0.3750\n",
       "3  3    0.2500\n",
       "4  4    0.0625"
      ]
     },
     "execution_count": 1,
     "metadata": {},
     "output_type": "execute_result"
    }
   ],
   "source": [
    "import pandas as pd\n",
    "df_caras_obtidas = pd.DataFrame(\n",
    "    data={\n",
    "        \"y\":[0,1,2,3,4],\n",
    "        \"P(Y = y)\":[\n",
    "            1/16,\n",
    "            4/16,\n",
    "            6/16,\n",
    "            4/16,\n",
    "            1/16\n",
    "        ]\n",
    "    }\n",
    ")\n",
    "df_caras_obtidas"
   ]
  },
  {
   "cell_type": "code",
   "execution_count": 4,
   "id": "a0fe4b78",
   "metadata": {},
   "outputs": [
    {
     "name": "stdout",
     "output_type": "stream",
     "text": [
      "Média de Y: 2.0\n"
     ]
    }
   ],
   "source": [
    "media_de_y = 0\n",
    "\n",
    "for index, row in df_caras_obtidas.iterrows():\n",
    "    media_de_y += row['y'] * row['P(Y = y)']\n",
    "\n",
    "print('Média de Y:', media_de_y)"
   ]
  },
  {
   "cell_type": "code",
   "execution_count": 5,
   "id": "eeb3fb59",
   "metadata": {},
   "outputs": [
    {
     "name": "stdout",
     "output_type": "stream",
     "text": [
      "Variância de Y: 1.0\n"
     ]
    }
   ],
   "source": [
    "variancia_de_y = 0\n",
    "\n",
    "for index, row in df_caras_obtidas.iterrows():\n",
    "    variancia_de_y += pow(row['y']-media_de_y, 2) * row['P(Y = y)']\n",
    "\n",
    "print('Variância de Y:', variancia_de_y)"
   ]
  }
 ],
 "metadata": {
  "kernelspec": {
   "display_name": "Python 3 (ipykernel)",
   "language": "python",
   "name": "python3"
  },
  "language_info": {
   "codemirror_mode": {
    "name": "ipython",
    "version": 3
   },
   "file_extension": ".py",
   "mimetype": "text/x-python",
   "name": "python",
   "nbconvert_exporter": "python",
   "pygments_lexer": "ipython3",
   "version": "3.10.2"
  }
 },
 "nbformat": 4,
 "nbformat_minor": 5
}
