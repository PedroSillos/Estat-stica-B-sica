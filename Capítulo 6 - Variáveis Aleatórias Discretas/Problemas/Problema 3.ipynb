{
 "cells": [
  {
   "cell_type": "markdown",
   "id": "2d336e78",
   "metadata": {},
   "source": [
    "### Problema 3"
   ]
  },
  {
   "cell_type": "markdown",
   "id": "d953d62f",
   "metadata": {},
   "source": [
    "#### Suponha que uma moeda perfeita é lançada até que cara apareça pela primeira vez.\n",
    "#### Seja X o número de lançamentos até que isso aconteça, obtenha a distribuição de X."
   ]
  },
  {
   "cell_type": "code",
   "execution_count": 1,
   "id": "f41bc076",
   "metadata": {},
   "outputs": [
    {
     "data": {
      "text/html": [
       "<div>\n",
       "<style scoped>\n",
       "    .dataframe tbody tr th:only-of-type {\n",
       "        vertical-align: middle;\n",
       "    }\n",
       "\n",
       "    .dataframe tbody tr th {\n",
       "        vertical-align: top;\n",
       "    }\n",
       "\n",
       "    .dataframe thead th {\n",
       "        text-align: right;\n",
       "    }\n",
       "</style>\n",
       "<table border=\"1\" class=\"dataframe\">\n",
       "  <thead>\n",
       "    <tr style=\"text-align: right;\">\n",
       "      <th></th>\n",
       "      <th>Ponto Amostral</th>\n",
       "      <th>Probabilidade</th>\n",
       "      <th>X = número de lançamentos</th>\n",
       "    </tr>\n",
       "  </thead>\n",
       "  <tbody>\n",
       "    <tr>\n",
       "      <th>0</th>\n",
       "      <td>C</td>\n",
       "      <td>0.5</td>\n",
       "      <td>1</td>\n",
       "    </tr>\n",
       "    <tr>\n",
       "      <th>1</th>\n",
       "      <td>RC</td>\n",
       "      <td>0.25</td>\n",
       "      <td>2</td>\n",
       "    </tr>\n",
       "    <tr>\n",
       "      <th>2</th>\n",
       "      <td>RRC</td>\n",
       "      <td>0.125</td>\n",
       "      <td>3</td>\n",
       "    </tr>\n",
       "    <tr>\n",
       "      <th>3</th>\n",
       "      <td>RRRC</td>\n",
       "      <td>0.0625</td>\n",
       "      <td>4</td>\n",
       "    </tr>\n",
       "    <tr>\n",
       "      <th>4</th>\n",
       "      <td>RRRRC</td>\n",
       "      <td>0.03125</td>\n",
       "      <td>5</td>\n",
       "    </tr>\n",
       "    <tr>\n",
       "      <th>5</th>\n",
       "      <td>R x infinito</td>\n",
       "      <td>(1/2) ^ infinito</td>\n",
       "      <td>Infinitos</td>\n",
       "    </tr>\n",
       "  </tbody>\n",
       "</table>\n",
       "</div>"
      ],
      "text/plain": [
       "  Ponto Amostral     Probabilidade X = número de lançamentos\n",
       "0              C               0.5                         1\n",
       "1             RC              0.25                         2\n",
       "2            RRC             0.125                         3\n",
       "3           RRRC            0.0625                         4\n",
       "4          RRRRC           0.03125                         5\n",
       "5   R x infinito  (1/2) ^ infinito                 Infinitos"
      ]
     },
     "execution_count": 1,
     "metadata": {},
     "output_type": "execute_result"
    }
   ],
   "source": [
    "import pandas as pd\n",
    "df_bolas_pretas = pd.DataFrame(\n",
    "    data={\n",
    "        \"Ponto Amostral\": ['C', 'RC', 'RRC', 'RRRC', 'RRRRC', 'R x infinito'],\n",
    "        \"Probabilidade\": [\n",
    "            (1/2),\n",
    "            (1/2)*(1/2),\n",
    "            (1/2)*(1/2)*(1/2),\n",
    "            (1/2)*(1/2)*(1/2)*(1/2),\n",
    "            (1/2)*(1/2)*(1/2)*(1/2)*(1/2),\n",
    "            '(1/2) ^ infinito'\n",
    "        ],\n",
    "        \"X = número de lançamentos\": [1, 2, 3, 4, 5, 'Infinitos']\n",
    "    }\n",
    ")\n",
    "df_bolas_pretas"
   ]
  },
  {
   "cell_type": "markdown",
   "id": "341241fe",
   "metadata": {},
   "source": [
    "P(X = x) = (1/2)^x, x = 1, 2, 3, ..."
   ]
  }
 ],
 "metadata": {
  "kernelspec": {
   "display_name": "Python 3 (ipykernel)",
   "language": "python",
   "name": "python3"
  },
  "language_info": {
   "codemirror_mode": {
    "name": "ipython",
    "version": 3
   },
   "file_extension": ".py",
   "mimetype": "text/x-python",
   "name": "python",
   "nbconvert_exporter": "python",
   "pygments_lexer": "ipython3",
   "version": "3.10.2"
  }
 },
 "nbformat": 4,
 "nbformat_minor": 5
}
