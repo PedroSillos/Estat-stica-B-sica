{
 "cells": [
  {
   "cell_type": "markdown",
   "id": "2d336e78",
   "metadata": {},
   "source": [
    "### Problema 6"
   ]
  },
  {
   "cell_type": "markdown",
   "id": "d953d62f",
   "metadata": {},
   "source": [
    "#### Generelize o problema 5 para n lançamentos de moeda."
   ]
  },
  {
   "cell_type": "markdown",
   "id": "8d1877c0",
   "metadata": {},
   "source": [
    "P(Y = y) = comb(n, y) x p^y x (1-p)^(n-y), y = 0, 1, 2, ..., n."
   ]
  }
 ],
 "metadata": {
  "kernelspec": {
   "display_name": "Python 3 (ipykernel)",
   "language": "python",
   "name": "python3"
  },
  "language_info": {
   "codemirror_mode": {
    "name": "ipython",
    "version": 3
   },
   "file_extension": ".py",
   "mimetype": "text/x-python",
   "name": "python",
   "nbconvert_exporter": "python",
   "pygments_lexer": "ipython3",
   "version": "3.10.2"
  }
 },
 "nbformat": 4,
 "nbformat_minor": 5
}
