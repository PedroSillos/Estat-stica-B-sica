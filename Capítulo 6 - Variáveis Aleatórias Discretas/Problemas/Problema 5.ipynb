{
 "cells": [
  {
   "cell_type": "markdown",
   "id": "2d336e78",
   "metadata": {},
   "source": [
    "### Problema 5"
   ]
  },
  {
   "cell_type": "markdown",
   "id": "d953d62f",
   "metadata": {},
   "source": [
    "#### Repita o problema anterior, considerando agora que a moeda é viciada, sendo a probabilidade de dar cara dada por p, 0 < p < 1, p != 1/2."
   ]
  },
  {
   "cell_type": "markdown",
   "id": "8d1877c0",
   "metadata": {},
   "source": [
    "Ω = {CCCC, CCCR, ..., CRRR, RRRR}\n",
    "\n",
    "P(Y = y) = comb(4, y) x p^y x (1-p)^(4-y), y = 0, 1, 2, 3, 4."
   ]
  }
 ],
 "metadata": {
  "kernelspec": {
   "display_name": "Python 3 (ipykernel)",
   "language": "python",
   "name": "python3"
  },
  "language_info": {
   "codemirror_mode": {
    "name": "ipython",
    "version": 3
   },
   "file_extension": ".py",
   "mimetype": "text/x-python",
   "name": "python",
   "nbconvert_exporter": "python",
   "pygments_lexer": "ipython3",
   "version": "3.10.2"
  }
 },
 "nbformat": 4,
 "nbformat_minor": 5
}
