{
 "cells": [
  {
   "cell_type": "markdown",
   "id": "2d336e78",
   "metadata": {},
   "source": [
    "### Problema 7"
   ]
  },
  {
   "cell_type": "markdown",
   "id": "df813fdc",
   "metadata": {},
   "source": [
    "#### Obtenha a média e a variância da v.a. dos Problemas 1 e 2."
   ]
  },
  {
   "cell_type": "code",
   "execution_count": 1,
   "id": "c960bafd",
   "metadata": {},
   "outputs": [],
   "source": [
    "import pandas as pd"
   ]
  },
  {
   "cell_type": "markdown",
   "id": "d953d62f",
   "metadata": {},
   "source": [
    "#### Problema 1\n",
    "Considere uma urna contendo três bolas vermelhas e cinco pretas.\n",
    "\n",
    "Retire três bolas, sem reposição. \n",
    "\n",
    "Defina a v.a. X igual ao número de bolas pretas. Obtenha a distribuição de X."
   ]
  },
  {
   "cell_type": "code",
   "execution_count": 2,
   "id": "f41bc076",
   "metadata": {},
   "outputs": [],
   "source": [
    "df_bolas_pretas = pd.DataFrame(\n",
    "    data={\n",
    "        \"Ponto Amostral\": ['VVV', 'VVP', 'VPV', 'PVV', 'VPP', 'PVP', 'PPV', 'PPP'],\n",
    "        \"Probabilidade\": [\n",
    "            (3/8)*(2/7)*(1/6),\n",
    "            (3/8)*(2/7)*(5/6),\n",
    "            (3/8)*(5/7)*(2/6),\n",
    "            (5/8)*(3/7)*(2/6),\n",
    "            (3/8)*(5/7)*(4/6),\n",
    "            (5/8)*(3/7)*(4/6),\n",
    "            (5/8)*(4/7)*(3/6),\n",
    "            (5/8)*(4/7)*(3/6)\n",
    "        ],\n",
    "        \"X = número de bolas pretas\": [0, 1, 1, 1, 2, 2, 2, 3]\n",
    "    }\n",
    ")"
   ]
  },
  {
   "cell_type": "code",
   "execution_count": 3,
   "id": "0c9fb221",
   "metadata": {},
   "outputs": [],
   "source": [
    "df_distribuicao_de_X = pd.DataFrame(\n",
    "    data={\n",
    "        \"x\":  [0, 1, 2, 3, 'Total'],\n",
    "        \"P(X = x)\": [\n",
    "            sum(df_bolas_pretas[df_bolas_pretas['X = número de bolas pretas'] == 0]['Probabilidade']),\n",
    "            sum(df_bolas_pretas[df_bolas_pretas['X = número de bolas pretas'] == 1]['Probabilidade']),\n",
    "            sum(df_bolas_pretas[df_bolas_pretas['X = número de bolas pretas'] == 2]['Probabilidade']),\n",
    "            sum(df_bolas_pretas[df_bolas_pretas['X = número de bolas pretas'] == 3]['Probabilidade']),\n",
    "            sum(df_bolas_pretas['Probabilidade'])\n",
    "        ]\n",
    "    }\n",
    ")"
   ]
  },
  {
   "cell_type": "code",
   "execution_count": 4,
   "id": "0ae6c5db",
   "metadata": {},
   "outputs": [
    {
     "name": "stdout",
     "output_type": "stream",
     "text": [
      "Média de X: 1.8749999999999996\n"
     ]
    }
   ],
   "source": [
    "media_x = 0\n",
    "\n",
    "for index, row in df_distribuicao_de_X.iterrows():\n",
    "    if row['x'] != 'Total':\n",
    "        media_x += row['x'] * row['P(X = x)']\n",
    "    \n",
    "print('Média de X:',media_x)"
   ]
  },
  {
   "cell_type": "code",
   "execution_count": 5,
   "id": "772ec50b",
   "metadata": {},
   "outputs": [
    {
     "name": "stdout",
     "output_type": "stream",
     "text": [
      "Variância de X: 0.5022321428571428\n"
     ]
    }
   ],
   "source": [
    "variancia_x = 0\n",
    "\n",
    "for index, row in df_distribuicao_de_X.iterrows():\n",
    "    if row['x'] != 'Total':\n",
    "        variancia_x += pow(row['x']-media_x, 2) * row['P(X = x)']\n",
    "    \n",
    "print('Variância de X:', variancia_x)"
   ]
  },
  {
   "cell_type": "markdown",
   "id": "575cd225",
   "metadata": {},
   "source": [
    "#### Problema 2\n",
    "Repita o problema anterior, mas considerando extrações com reposição."
   ]
  },
  {
   "cell_type": "code",
   "execution_count": 6,
   "id": "8f3fc722",
   "metadata": {},
   "outputs": [],
   "source": [
    "df_bolas_pretas = pd.DataFrame(\n",
    "    data={\n",
    "        \"Ponto Amostral\": ['VVV', 'VVP', 'VPV', 'PVV', 'VPP', 'PVP', 'PPV', 'PPP'],\n",
    "        \"Probabilidade\": [\n",
    "            (3/8)*(3/8)*(3/8),\n",
    "            (3/8)*(3/8)*(5/8),\n",
    "            (3/8)*(5/8)*(3/8),\n",
    "            (5/8)*(3/8)*(3/8),\n",
    "            (3/8)*(5/8)*(5/8),\n",
    "            (5/8)*(3/8)*(5/8),\n",
    "            (5/8)*(5/8)*(3/8),\n",
    "            (5/8)*(5/8)*(5/8)\n",
    "        ],\n",
    "        \"X = número de bolas pretas\": [0, 1, 1, 1, 2, 2, 2, 3]\n",
    "    }\n",
    ")"
   ]
  },
  {
   "cell_type": "code",
   "execution_count": 7,
   "id": "93d7227d",
   "metadata": {},
   "outputs": [],
   "source": [
    "df_distribuicao_de_X = pd.DataFrame(\n",
    "    data={\n",
    "        \"x\":  [0, 1, 2, 3, 'Total'],\n",
    "        \"P(X = x)\": [\n",
    "            sum(df_bolas_pretas[df_bolas_pretas['X = número de bolas pretas'] == 0]['Probabilidade']),\n",
    "            sum(df_bolas_pretas[df_bolas_pretas['X = número de bolas pretas'] == 1]['Probabilidade']),\n",
    "            sum(df_bolas_pretas[df_bolas_pretas['X = número de bolas pretas'] == 2]['Probabilidade']),\n",
    "            sum(df_bolas_pretas[df_bolas_pretas['X = número de bolas pretas'] == 3]['Probabilidade']),\n",
    "            sum(df_bolas_pretas['Probabilidade'])\n",
    "        ]\n",
    "    }\n",
    ")"
   ]
  },
  {
   "cell_type": "code",
   "execution_count": 8,
   "id": "6184907d",
   "metadata": {},
   "outputs": [
    {
     "name": "stdout",
     "output_type": "stream",
     "text": [
      "Média de X: 1.875\n"
     ]
    }
   ],
   "source": [
    "media_x = 0\n",
    "\n",
    "for index, row in df_distribuicao_de_X.iterrows():\n",
    "    if row['x'] != 'Total':\n",
    "        media_x += row['x'] * row['P(X = x)']\n",
    "    \n",
    "print('Média de X:',media_x)"
   ]
  },
  {
   "cell_type": "code",
   "execution_count": 9,
   "id": "18dd5485",
   "metadata": {},
   "outputs": [
    {
     "name": "stdout",
     "output_type": "stream",
     "text": [
      "Variância de X: 0.703125\n"
     ]
    }
   ],
   "source": [
    "variancia_x = 0\n",
    "\n",
    "for index, row in df_distribuicao_de_X.iterrows():\n",
    "    if row['x'] != 'Total':\n",
    "        variancia_x += pow(row['x']-media_x, 2) * row['P(X = x)']\n",
    "    \n",
    "print('Variância de X:', variancia_x)"
   ]
  }
 ],
 "metadata": {
  "kernelspec": {
   "display_name": "Python 3 (ipykernel)",
   "language": "python",
   "name": "python3"
  },
  "language_info": {
   "codemirror_mode": {
    "name": "ipython",
    "version": 3
   },
   "file_extension": ".py",
   "mimetype": "text/x-python",
   "name": "python",
   "nbconvert_exporter": "python",
   "pygments_lexer": "ipython3",
   "version": "3.10.2"
  }
 },
 "nbformat": 4,
 "nbformat_minor": 5
}
