{
 "cells": [
  {
   "cell_type": "markdown",
   "id": "662116c3",
   "metadata": {},
   "source": [
    "## Problema 2"
   ]
  },
  {
   "cell_type": "markdown",
   "id": "3fd50f50",
   "metadata": {},
   "source": [
    "#### No problema anterior, sorteando um dos funcionários ao acaso entre os 36:"
   ]
  },
  {
   "cell_type": "code",
   "execution_count": 1,
   "id": "30987c34",
   "metadata": {},
   "outputs": [],
   "source": [
    "import pandas as pd\n",
    "import statistics as stat\n",
    "import matplotlib.pyplot as plt"
   ]
  },
  {
   "cell_type": "code",
   "execution_count": 2,
   "id": "f8a0e2bc",
   "metadata": {},
   "outputs": [
    {
     "name": "stdout",
     "output_type": "stream",
     "text": [
      "Distribuição de frequência conjunta:\n"
     ]
    },
    {
     "data": {
      "text/html": [
       "<div>\n",
       "<style scoped>\n",
       "    .dataframe tbody tr th:only-of-type {\n",
       "        vertical-align: middle;\n",
       "    }\n",
       "\n",
       "    .dataframe tbody tr th {\n",
       "        vertical-align: top;\n",
       "    }\n",
       "\n",
       "    .dataframe thead th {\n",
       "        text-align: right;\n",
       "    }\n",
       "</style>\n",
       "<table border=\"1\" class=\"dataframe\">\n",
       "  <thead>\n",
       "    <tr style=\"text-align: right;\">\n",
       "      <th></th>\n",
       "      <th>Fundamental</th>\n",
       "      <th>Médio</th>\n",
       "      <th>Superior</th>\n",
       "      <th>Total</th>\n",
       "    </tr>\n",
       "  </thead>\n",
       "  <tbody>\n",
       "    <tr>\n",
       "      <th>Capital</th>\n",
       "      <td>4</td>\n",
       "      <td>5</td>\n",
       "      <td>2</td>\n",
       "      <td>11</td>\n",
       "    </tr>\n",
       "    <tr>\n",
       "      <th>Interior</th>\n",
       "      <td>3</td>\n",
       "      <td>7</td>\n",
       "      <td>2</td>\n",
       "      <td>12</td>\n",
       "    </tr>\n",
       "    <tr>\n",
       "      <th>Outra</th>\n",
       "      <td>5</td>\n",
       "      <td>6</td>\n",
       "      <td>2</td>\n",
       "      <td>13</td>\n",
       "    </tr>\n",
       "    <tr>\n",
       "      <th>Total</th>\n",
       "      <td>12</td>\n",
       "      <td>18</td>\n",
       "      <td>6</td>\n",
       "      <td>36</td>\n",
       "    </tr>\n",
       "  </tbody>\n",
       "</table>\n",
       "</div>"
      ],
      "text/plain": [
       "          Fundamental  Médio  Superior  Total\n",
       "Capital             4      5         2     11\n",
       "Interior            3      7         2     12\n",
       "Outra               5      6         2     13\n",
       "Total              12     18         6     36"
      ]
     },
     "execution_count": 2,
     "metadata": {},
     "output_type": "execute_result"
    }
   ],
   "source": [
    "df=pd.read_excel('C:\\Estatística Básica\\Conjunto de Dados.xls', sheet_name='Tabela 2.1', header=0)\n",
    "frequencias_conjuntas = {}\n",
    "frequencias_conjuntas['Fundamental*Capital']=0\n",
    "frequencias_conjuntas['Fundamental*Interior']=0\n",
    "frequencias_conjuntas['Fundamental*Outra']=0\n",
    "frequencias_conjuntas['Médio*Capital']=0\n",
    "frequencias_conjuntas['Médio*Interior']=0\n",
    "frequencias_conjuntas['Médio*Outra']=0\n",
    "frequencias_conjuntas['Superior*Capital']=0\n",
    "frequencias_conjuntas['Superior*Interior']=0\n",
    "frequencias_conjuntas['Superior*Outra']=0\n",
    "\n",
    "for index, row in df.iterrows():\n",
    "    if row['Grau de Instrução']=='ensino fundamental':\n",
    "        if row['Região de Procedência']=='capital':\n",
    "            frequencias_conjuntas['Fundamental*Capital']+=1\n",
    "        if row['Região de Procedência']=='interior':\n",
    "            frequencias_conjuntas['Fundamental*Interior']+=1\n",
    "        if row['Região de Procedência']=='outra':\n",
    "            frequencias_conjuntas['Fundamental*Outra']+=1\n",
    "    if row['Grau de Instrução']=='ensino médio':\n",
    "        if row['Região de Procedência']=='capital':\n",
    "            frequencias_conjuntas['Médio*Capital']+=1\n",
    "        if row['Região de Procedência']=='interior':\n",
    "            frequencias_conjuntas['Médio*Interior']+=1\n",
    "        if row['Região de Procedência']=='outra':\n",
    "            frequencias_conjuntas['Médio*Outra']+=1\n",
    "    if row['Grau de Instrução']=='superior':\n",
    "        if row['Região de Procedência']=='capital':\n",
    "            frequencias_conjuntas['Superior*Capital']+=1\n",
    "        if row['Região de Procedência']=='interior':\n",
    "            frequencias_conjuntas['Superior*Interior']+=1\n",
    "        if row['Região de Procedência']=='outra':\n",
    "            frequencias_conjuntas['Superior*Outra']+=1\n",
    "\n",
    "df_frequencia_conjunta=pd.DataFrame(\n",
    "    data={\n",
    "        \"Fundamental\":[frequencias_conjuntas['Fundamental*Capital'],\n",
    "                       frequencias_conjuntas['Fundamental*Interior'],\n",
    "                       frequencias_conjuntas['Fundamental*Outra'],\n",
    "                       frequencias_conjuntas['Fundamental*Capital']+frequencias_conjuntas['Fundamental*Interior']+frequencias_conjuntas['Fundamental*Outra']\n",
    "                      ],\n",
    "        \"Médio\":[frequencias_conjuntas['Médio*Capital'],\n",
    "                 frequencias_conjuntas['Médio*Interior'],\n",
    "                 frequencias_conjuntas['Médio*Outra'],\n",
    "                 frequencias_conjuntas['Médio*Capital']+frequencias_conjuntas['Médio*Interior']+frequencias_conjuntas['Médio*Outra']\n",
    "                ],\n",
    "        \"Superior\":[frequencias_conjuntas['Superior*Capital'],\n",
    "                    frequencias_conjuntas['Superior*Interior'],\n",
    "                    frequencias_conjuntas['Superior*Outra'],\n",
    "                    frequencias_conjuntas['Superior*Capital']+frequencias_conjuntas['Superior*Interior']+frequencias_conjuntas['Superior*Outra']\n",
    "                ],\n",
    "        \"Total\":[frequencias_conjuntas['Fundamental*Capital']+frequencias_conjuntas['Médio*Capital']+frequencias_conjuntas['Superior*Capital'],\n",
    "                 frequencias_conjuntas['Fundamental*Interior']+frequencias_conjuntas['Médio*Interior']+frequencias_conjuntas['Superior*Interior'],\n",
    "                 frequencias_conjuntas['Fundamental*Outra']+frequencias_conjuntas['Médio*Outra']+frequencias_conjuntas['Superior*Outra'],\n",
    "                 len(df)\n",
    "                ]\n",
    "    },\n",
    "    index=['Capital','Interior','Outra','Total']\n",
    ")\n",
    "print('Distribuição de frequência conjunta:')\n",
    "df_frequencia_conjunta"
   ]
  },
  {
   "cell_type": "markdown",
   "id": "df4c77cb",
   "metadata": {},
   "source": [
    "##### (a) Qual será provavelmente o seu grau de instrução?"
   ]
  },
  {
   "cell_type": "markdown",
   "id": "a8b682b9",
   "metadata": {},
   "source": [
    "O grau de instrução provavelmente será Ensino Médio."
   ]
  },
  {
   "cell_type": "markdown",
   "id": "90fd2b8a",
   "metadata": {},
   "source": [
    "##### (b) E sua região de procedência?"
   ]
  },
  {
   "cell_type": "markdown",
   "id": "c65762f9",
   "metadata": {},
   "source": [
    "A região de procedência será Outra."
   ]
  },
  {
   "cell_type": "markdown",
   "id": "aba977e5",
   "metadata": {},
   "source": [
    "##### (c) Qual a probabilidade do sorteado ter nível superior?"
   ]
  },
  {
   "cell_type": "code",
   "execution_count": 3,
   "id": "df9ffcd4",
   "metadata": {},
   "outputs": [
    {
     "name": "stdout",
     "output_type": "stream",
     "text": [
      "Probabilidade do sorteado ter nível superior: 0.16666666666666666\n"
     ]
    }
   ],
   "source": [
    "proporcao_nivel_superior = df_frequencia_conjunta.at['Total','Superior'] / df_frequencia_conjunta.at['Total','Total']\n",
    "print('Probabilidade do sorteado ter nível superior:',proporcao_nivel_superior)"
   ]
  },
  {
   "cell_type": "markdown",
   "id": "af0df6eb",
   "metadata": {},
   "source": [
    "##### (d) Sabendo que o sorteado é do interior, qual a probabilidade de ele possuir nível superior?"
   ]
  },
  {
   "cell_type": "code",
   "execution_count": 4,
   "id": "44c06615",
   "metadata": {},
   "outputs": [
    {
     "name": "stdout",
     "output_type": "stream",
     "text": [
      "Probabilidade do sorteado ter nível superior sabendo que é do interior: 0.16666666666666666\n"
     ]
    }
   ],
   "source": [
    "superior_sabendo_que_interior = df_frequencia_conjunta.at['Interior','Superior'] / df_frequencia_conjunta.at['Interior','Total']\n",
    "print('Probabilidade do sorteado ter nível superior sabendo que é do interior:', superior_sabendo_que_interior)"
   ]
  },
  {
   "cell_type": "markdown",
   "id": "033d564a",
   "metadata": {},
   "source": [
    "##### (e) Sabendo que o sorteado é da capital, qual a probabilidade de ele possuir nível superior?"
   ]
  },
  {
   "cell_type": "code",
   "execution_count": 5,
   "id": "bc1fb6fa",
   "metadata": {},
   "outputs": [
    {
     "name": "stdout",
     "output_type": "stream",
     "text": [
      "Probabilidade do sorteado ter nível superior sabendo que é da capital: 0.18181818181818182\n"
     ]
    }
   ],
   "source": [
    "superior_sabendo_que_capital = df_frequencia_conjunta.at['Capital','Superior'] / df_frequencia_conjunta.at['Capital','Total']\n",
    "print('Probabilidade do sorteado ter nível superior sabendo que é da capital:', superior_sabendo_que_capital)"
   ]
  }
 ],
 "metadata": {
  "kernelspec": {
   "display_name": "Python 3 (ipykernel)",
   "language": "python",
   "name": "python3"
  },
  "language_info": {
   "codemirror_mode": {
    "name": "ipython",
    "version": 3
   },
   "file_extension": ".py",
   "mimetype": "text/x-python",
   "name": "python",
   "nbconvert_exporter": "python",
   "pygments_lexer": "ipython3",
   "version": "3.10.2"
  }
 },
 "nbformat": 4,
 "nbformat_minor": 5
}
