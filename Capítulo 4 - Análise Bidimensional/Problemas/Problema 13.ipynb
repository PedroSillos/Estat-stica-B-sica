{
 "cells": [
  {
   "cell_type": "markdown",
   "id": "662116c3",
   "metadata": {},
   "source": [
    "## Problema 13"
   ]
  },
  {
   "cell_type": "markdown",
   "id": "3fd50f50",
   "metadata": {},
   "source": [
    "### Quer se verificar a relação entre tempo de reação e o número de alternativas apresentadas a indivíduos acostumados a tomadas de decisão. Os dados estão abaixo."
   ]
  },
  {
   "cell_type": "code",
   "execution_count": 1,
   "id": "758dd4a3",
   "metadata": {},
   "outputs": [],
   "source": [
    "import pandas as pd\n",
    "import matplotlib.pyplot as plt\n",
    "import statistics as stat\n",
    "import math as math"
   ]
  },
  {
   "cell_type": "code",
   "execution_count": 2,
   "id": "e00cbd58",
   "metadata": {
    "scrolled": true
   },
   "outputs": [
    {
     "data": {
      "text/html": [
       "<div>\n",
       "<style scoped>\n",
       "    .dataframe tbody tr th:only-of-type {\n",
       "        vertical-align: middle;\n",
       "    }\n",
       "\n",
       "    .dataframe tbody tr th {\n",
       "        vertical-align: top;\n",
       "    }\n",
       "\n",
       "    .dataframe thead th {\n",
       "        text-align: right;\n",
       "    }\n",
       "</style>\n",
       "<table border=\"1\" class=\"dataframe\">\n",
       "  <thead>\n",
       "    <tr style=\"text-align: right;\">\n",
       "      <th></th>\n",
       "      <th>Observação</th>\n",
       "      <th>N° de objetos</th>\n",
       "      <th>Tempo de reação</th>\n",
       "    </tr>\n",
       "  </thead>\n",
       "  <tbody>\n",
       "    <tr>\n",
       "      <th>0</th>\n",
       "      <td>1</td>\n",
       "      <td>2</td>\n",
       "      <td>1</td>\n",
       "    </tr>\n",
       "    <tr>\n",
       "      <th>1</th>\n",
       "      <td>2</td>\n",
       "      <td>2</td>\n",
       "      <td>2</td>\n",
       "    </tr>\n",
       "    <tr>\n",
       "      <th>2</th>\n",
       "      <td>3</td>\n",
       "      <td>2</td>\n",
       "      <td>3</td>\n",
       "    </tr>\n",
       "    <tr>\n",
       "      <th>3</th>\n",
       "      <td>4</td>\n",
       "      <td>2</td>\n",
       "      <td>3</td>\n",
       "    </tr>\n",
       "    <tr>\n",
       "      <th>4</th>\n",
       "      <td>5</td>\n",
       "      <td>2</td>\n",
       "      <td>4</td>\n",
       "    </tr>\n",
       "    <tr>\n",
       "      <th>5</th>\n",
       "      <td>1</td>\n",
       "      <td>3</td>\n",
       "      <td>2</td>\n",
       "    </tr>\n",
       "    <tr>\n",
       "      <th>6</th>\n",
       "      <td>2</td>\n",
       "      <td>3</td>\n",
       "      <td>3</td>\n",
       "    </tr>\n",
       "    <tr>\n",
       "      <th>7</th>\n",
       "      <td>3</td>\n",
       "      <td>3</td>\n",
       "      <td>4</td>\n",
       "    </tr>\n",
       "    <tr>\n",
       "      <th>8</th>\n",
       "      <td>4</td>\n",
       "      <td>3</td>\n",
       "      <td>4</td>\n",
       "    </tr>\n",
       "    <tr>\n",
       "      <th>9</th>\n",
       "      <td>5</td>\n",
       "      <td>3</td>\n",
       "      <td>5</td>\n",
       "    </tr>\n",
       "    <tr>\n",
       "      <th>10</th>\n",
       "      <td>1</td>\n",
       "      <td>4</td>\n",
       "      <td>4</td>\n",
       "    </tr>\n",
       "    <tr>\n",
       "      <th>11</th>\n",
       "      <td>2</td>\n",
       "      <td>4</td>\n",
       "      <td>5</td>\n",
       "    </tr>\n",
       "    <tr>\n",
       "      <th>12</th>\n",
       "      <td>3</td>\n",
       "      <td>4</td>\n",
       "      <td>5</td>\n",
       "    </tr>\n",
       "    <tr>\n",
       "      <th>13</th>\n",
       "      <td>4</td>\n",
       "      <td>4</td>\n",
       "      <td>6</td>\n",
       "    </tr>\n",
       "    <tr>\n",
       "      <th>14</th>\n",
       "      <td>5</td>\n",
       "      <td>4</td>\n",
       "      <td>7</td>\n",
       "    </tr>\n",
       "  </tbody>\n",
       "</table>\n",
       "</div>"
      ],
      "text/plain": [
       "    Observação  N° de objetos  Tempo de reação\n",
       "0            1              2                1\n",
       "1            2              2                2\n",
       "2            3              2                3\n",
       "3            4              2                3\n",
       "4            5              2                4\n",
       "5            1              3                2\n",
       "6            2              3                3\n",
       "7            3              3                4\n",
       "8            4              3                4\n",
       "9            5              3                5\n",
       "10           1              4                4\n",
       "11           2              4                5\n",
       "12           3              4                5\n",
       "13           4              4                6\n",
       "14           5              4                7"
      ]
     },
     "execution_count": 2,
     "metadata": {},
     "output_type": "execute_result"
    }
   ],
   "source": [
    "df = pd.DataFrame(\n",
    "    data={\n",
    "        \"Observação\":[1,2,3,4,5,1,2,3,4,5,1,2,3,4,5],\n",
    "        \"N° de objetos\":[2,2,2,2,2,3,3,3,3,3,4,4,4,4,4],\n",
    "        \"Tempo de reação\":[1,2,3,3,4,2,3,4,4,5,4,5,5,6,7]\n",
    "    }\n",
    ")\n",
    "df"
   ]
  },
  {
   "cell_type": "markdown",
   "id": "054f35fd",
   "metadata": {},
   "source": [
    "##### (a) Faça o gráfico de dispersão das duas variáveis."
   ]
  },
  {
   "cell_type": "code",
   "execution_count": 3,
   "id": "8c045780",
   "metadata": {
    "scrolled": true
   },
   "outputs": [
    {
     "data": {
      "image/png": "[encoded data removed]",
      "text/plain": [
       "<Figure size 432x288 with 1 Axes>"
      ]
     },
     "metadata": {
      "needs_background": "light"
     },
     "output_type": "display_data"
    }
   ],
   "source": [
    "plt.scatter(df['N° de objetos'], df['Tempo de reação'], s=None, c='Orange')\n",
    "plt.xlim((1, 5))\n",
    "plt.ylim((0, 8))\n",
    "plt.show()"
   ]
  },
  {
   "cell_type": "markdown",
   "id": "a540a72d",
   "metadata": {},
   "source": [
    "##### (b) Qual o coeficiente de correlação entre elas?"
   ]
  },
  {
   "cell_type": "code",
   "execution_count": 4,
   "id": "11b9ef74",
   "metadata": {},
   "outputs": [
    {
     "name": "stdout",
     "output_type": "stream",
     "text": [
      "Coeficiente de correlação: 0.7406128966515282\n"
     ]
    }
   ],
   "source": [
    "numero_de_elementos = len(df)\n",
    "media_nro_objetos = stat.mean(df['N° de objetos'])\n",
    "media_tempo_reacao = stat.mean(df['Tempo de reação'])\n",
    "covariancia = 0\n",
    "\n",
    "for index, row in df.iterrows():\n",
    "    covariancia+= (row['N° de objetos']-media_nro_objetos)*(row['Tempo de reação']-media_tempo_reacao)\n",
    "    \n",
    "covariancia/=numero_de_elementos\n",
    "\n",
    "desvio_padrao_nro_objetos = stat.pstdev(df['N° de objetos'])\n",
    "desvio_padrao_tempo_reacao = stat.pstdev(df['Tempo de reação'])\n",
    "\n",
    "coeficiente_de_correlacao = covariancia / (desvio_padrao_nro_objetos*desvio_padrao_tempo_reacao)\n",
    "\n",
    "print('Coeficiente de correlação:', coeficiente_de_correlacao)"
   ]
  }
 ],
 "metadata": {
  "kernelspec": {
   "display_name": "Python 3 (ipykernel)",
   "language": "python",
   "name": "python3"
  },
  "language_info": {
   "codemirror_mode": {
    "name": "ipython",
    "version": 3
   },
   "file_extension": ".py",
   "mimetype": "text/x-python",
   "name": "python",
   "nbconvert_exporter": "python",
   "pygments_lexer": "ipython3",
   "version": "3.10.2"
  }
 },
 "nbformat": 4,
 "nbformat_minor": 5
}
