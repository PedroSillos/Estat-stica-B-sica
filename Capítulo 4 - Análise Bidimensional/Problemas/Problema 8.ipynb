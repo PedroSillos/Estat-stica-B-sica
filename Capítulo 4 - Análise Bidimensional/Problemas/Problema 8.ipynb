{
 "cells": [
  {
   "cell_type": "markdown",
   "id": "662116c3",
   "metadata": {},
   "source": [
    "## Problema 8"
   ]
  },
  {
   "cell_type": "markdown",
   "id": "3fd50f50",
   "metadata": {},
   "source": [
    "#### Qual o valor de X² e de C para os dados do Problema 3? E para o problema 6? Calcule T."
   ]
  },
  {
   "cell_type": "code",
   "execution_count": 1,
   "id": "30987c34",
   "metadata": {},
   "outputs": [],
   "source": [
    "import pandas as pd\n",
    "import statistics as stat\n",
    "import math"
   ]
  },
  {
   "cell_type": "code",
   "execution_count": 2,
   "id": "f8a0e2bc",
   "metadata": {},
   "outputs": [],
   "source": [
    "df=pd.DataFrame(\n",
    "    data={\n",
    "        \"X\":[1,3,2,3,2,2,3,1,2,3,2,3,1,2,3,4,1,2,2,2,2,3,4,1,2,3,4,1,4,3,2,1,4,2,4,3,1,3,2,2],\n",
    "        \"Y\":[6,2,4,1,4,1,3,5,2,2,5,2,6,6,2,2,5,5,1,1,4,2,1,5,4,2,1,5,4,3,2,1,1,6,2,1,4,2,3,5]\n",
    "    },\n",
    "    index=range(1,41)\n",
    ")"
   ]
  },
  {
   "cell_type": "code",
   "execution_count": 3,
   "id": "b1e523f0",
   "metadata": {},
   "outputs": [
    {
     "name": "stdout",
     "output_type": "stream",
     "text": [
      "Distribuição de frequência conjunta:\n"
     ]
    },
    {
     "data": {
      "text/html": [
       "<div>\n",
       "<style scoped>\n",
       "    .dataframe tbody tr th:only-of-type {\n",
       "        vertical-align: middle;\n",
       "    }\n",
       "\n",
       "    .dataframe tbody tr th {\n",
       "        vertical-align: top;\n",
       "    }\n",
       "\n",
       "    .dataframe thead th {\n",
       "        text-align: right;\n",
       "    }\n",
       "</style>\n",
       "<table border=\"1\" class=\"dataframe\">\n",
       "  <thead>\n",
       "    <tr style=\"text-align: right;\">\n",
       "      <th></th>\n",
       "      <th>Y alto</th>\n",
       "      <th>Y baixo</th>\n",
       "      <th>Total</th>\n",
       "    </tr>\n",
       "  </thead>\n",
       "  <tbody>\n",
       "    <tr>\n",
       "      <th>X alto</th>\n",
       "      <td>13</td>\n",
       "      <td>19</td>\n",
       "      <td>32</td>\n",
       "    </tr>\n",
       "    <tr>\n",
       "      <th>X baixo</th>\n",
       "      <td>7</td>\n",
       "      <td>1</td>\n",
       "      <td>8</td>\n",
       "    </tr>\n",
       "    <tr>\n",
       "      <th>Total</th>\n",
       "      <td>20</td>\n",
       "      <td>20</td>\n",
       "      <td>40</td>\n",
       "    </tr>\n",
       "  </tbody>\n",
       "</table>\n",
       "</div>"
      ],
      "text/plain": [
       "         Y alto  Y baixo  Total\n",
       "X alto       13       19     32\n",
       "X baixo       7        1      8\n",
       "Total        20       20     40"
      ]
     },
     "execution_count": 3,
     "metadata": {},
     "output_type": "execute_result"
    }
   ],
   "source": [
    "mediana_x = stat.median(df['X'])\n",
    "mediana_y = stat.median(df['Y'])\n",
    "\n",
    "frequencias_conjuntas = {}\n",
    "frequencias_conjuntas['x_alto_y_alto']=0\n",
    "frequencias_conjuntas['x_alto_y_baixo']=0\n",
    "frequencias_conjuntas['x_baixo_y_alto']=0\n",
    "frequencias_conjuntas['x_baixo_y_baixo']=0\n",
    "\n",
    "for index, row in df.iterrows():\n",
    "    if row['X'] >= mediana_x:\n",
    "        if row['Y'] >= mediana_y:\n",
    "            frequencias_conjuntas['x_alto_y_alto']+=1\n",
    "        else:\n",
    "            frequencias_conjuntas['x_alto_y_baixo']+=1\n",
    "    else:\n",
    "        if row['Y'] >= mediana_y:\n",
    "            frequencias_conjuntas['x_baixo_y_alto']+=1\n",
    "        else:\n",
    "            frequencias_conjuntas['x_baixo_y_baixo']+=1\n",
    "\n",
    "df_frequencia_conjunta=pd.DataFrame(\n",
    "    data = {\n",
    "        \"Y alto\":[\n",
    "            frequencias_conjuntas['x_alto_y_alto'],\n",
    "            frequencias_conjuntas['x_baixo_y_alto'],\n",
    "            frequencias_conjuntas['x_alto_y_alto']+frequencias_conjuntas['x_baixo_y_alto']\n",
    "        ],\n",
    "        \"Y baixo\":[\n",
    "            frequencias_conjuntas['x_alto_y_baixo'],\n",
    "            frequencias_conjuntas['x_baixo_y_baixo'],\n",
    "            frequencias_conjuntas['x_alto_y_baixo']+frequencias_conjuntas['x_baixo_y_baixo']\n",
    "        ],\n",
    "        \"Total\":[\n",
    "            frequencias_conjuntas['x_alto_y_alto']+frequencias_conjuntas['x_alto_y_baixo'],\n",
    "            frequencias_conjuntas['x_baixo_y_alto']+frequencias_conjuntas['x_baixo_y_baixo'],\n",
    "            len(df)\n",
    "        ]\n",
    "    },\n",
    "    index=['X alto','X baixo','Total']\n",
    ")\n",
    "print('Distribuição de frequência conjunta:')\n",
    "df_frequencia_conjunta"
   ]
  },
  {
   "cell_type": "code",
   "execution_count": 4,
   "id": "5dd0da18",
   "metadata": {},
   "outputs": [
    {
     "name": "stdout",
     "output_type": "stream",
     "text": [
      "Distribuição conjunta de frequência e proporções observadas:\n"
     ]
    },
    {
     "data": {
      "text/html": [
       "<div>\n",
       "<style scoped>\n",
       "    .dataframe tbody tr th:only-of-type {\n",
       "        vertical-align: middle;\n",
       "    }\n",
       "\n",
       "    .dataframe tbody tr th {\n",
       "        vertical-align: top;\n",
       "    }\n",
       "\n",
       "    .dataframe thead th {\n",
       "        text-align: right;\n",
       "    }\n",
       "</style>\n",
       "<table border=\"1\" class=\"dataframe\">\n",
       "  <thead>\n",
       "    <tr style=\"text-align: right;\">\n",
       "      <th></th>\n",
       "      <th>Y alto</th>\n",
       "      <th>Y baixo</th>\n",
       "      <th>Total</th>\n",
       "    </tr>\n",
       "  </thead>\n",
       "  <tbody>\n",
       "    <tr>\n",
       "      <th>X alto</th>\n",
       "      <td>[13, 0.40625]</td>\n",
       "      <td>[19, 0.59375]</td>\n",
       "      <td>[32, 1.0]</td>\n",
       "    </tr>\n",
       "    <tr>\n",
       "      <th>X baixo</th>\n",
       "      <td>[7, 0.875]</td>\n",
       "      <td>[1, 0.125]</td>\n",
       "      <td>[8, 1.0]</td>\n",
       "    </tr>\n",
       "    <tr>\n",
       "      <th>Total</th>\n",
       "      <td>[20, 0.5]</td>\n",
       "      <td>[20, 0.5]</td>\n",
       "      <td>[40, 1.0]</td>\n",
       "    </tr>\n",
       "  </tbody>\n",
       "</table>\n",
       "</div>"
      ],
      "text/plain": [
       "                Y alto        Y baixo      Total\n",
       "X alto   [13, 0.40625]  [19, 0.59375]  [32, 1.0]\n",
       "X baixo     [7, 0.875]     [1, 0.125]   [8, 1.0]\n",
       "Total        [20, 0.5]      [20, 0.5]  [40, 1.0]"
      ]
     },
     "execution_count": 4,
     "metadata": {},
     "output_type": "execute_result"
    }
   ],
   "source": [
    "df_frequencia_conjunta_proporcao_observada=pd.DataFrame(\n",
    "    data = {\n",
    "        \"Y alto\":[\n",
    "            [\n",
    "                df_frequencia_conjunta.at['X alto','Y alto'],\n",
    "                df_frequencia_conjunta.at['X alto','Y alto']/df_frequencia_conjunta.at['X alto','Total']\n",
    "            ],\n",
    "            [\n",
    "                df_frequencia_conjunta.at['X baixo','Y alto'],\n",
    "                df_frequencia_conjunta.at['X baixo','Y alto']/df_frequencia_conjunta.at['X baixo','Total']\n",
    "            ],\n",
    "            [\n",
    "                df_frequencia_conjunta.at['Total','Y alto'],\n",
    "                df_frequencia_conjunta.at['Total','Y alto']/df_frequencia_conjunta.at['Total','Total']\n",
    "            ]\n",
    "        ],\n",
    "        \"Y baixo\":[\n",
    "            [\n",
    "                df_frequencia_conjunta.at['X alto','Y baixo'],\n",
    "                df_frequencia_conjunta.at['X alto','Y baixo']/df_frequencia_conjunta.at['X alto','Total']\n",
    "            ],\n",
    "            [\n",
    "                df_frequencia_conjunta.at['X baixo','Y baixo'],\n",
    "                df_frequencia_conjunta.at['X baixo','Y baixo']/df_frequencia_conjunta.at['X baixo','Total']\n",
    "            ],\n",
    "            [\n",
    "                df_frequencia_conjunta.at['Total','Y baixo'],\n",
    "                df_frequencia_conjunta.at['Total','Y baixo']/df_frequencia_conjunta.at['Total','Total']\n",
    "            ]\n",
    "        ],\n",
    "        \"Total\":[\n",
    "            [\n",
    "                df_frequencia_conjunta.at['X alto','Total'],\n",
    "                df_frequencia_conjunta.at['X alto','Total']/df_frequencia_conjunta.at['X alto','Total']\n",
    "            ],\n",
    "            [\n",
    "                df_frequencia_conjunta.at['X baixo','Total'],\n",
    "                df_frequencia_conjunta.at['X baixo','Total']/df_frequencia_conjunta.at['X baixo','Total']\n",
    "            ],\n",
    "            [\n",
    "                df_frequencia_conjunta.at['Total','Total'],\n",
    "                df_frequencia_conjunta.at['Total','Total']/df_frequencia_conjunta.at['Total','Total']\n",
    "            ]\n",
    "        ]\n",
    "    },\n",
    "    index=['X alto','X baixo','Total']\n",
    ")\n",
    "print('Distribuição conjunta de frequência e proporções observadas:')\n",
    "df_frequencia_conjunta_proporcao_observada"
   ]
  },
  {
   "cell_type": "code",
   "execution_count": 17,
   "id": "79b2e6da",
   "metadata": {},
   "outputs": [
    {
     "name": "stdout",
     "output_type": "stream",
     "text": [
      "Distribuição conjunta de frequência e proporções esperadas:\n"
     ]
    },
    {
     "data": {
      "text/html": [
       "<div>\n",
       "<style scoped>\n",
       "    .dataframe tbody tr th:only-of-type {\n",
       "        vertical-align: middle;\n",
       "    }\n",
       "\n",
       "    .dataframe tbody tr th {\n",
       "        vertical-align: top;\n",
       "    }\n",
       "\n",
       "    .dataframe thead th {\n",
       "        text-align: right;\n",
       "    }\n",
       "</style>\n",
       "<table border=\"1\" class=\"dataframe\">\n",
       "  <thead>\n",
       "    <tr style=\"text-align: right;\">\n",
       "      <th></th>\n",
       "      <th>Y alto</th>\n",
       "      <th>Y baixo</th>\n",
       "      <th>Total</th>\n",
       "    </tr>\n",
       "  </thead>\n",
       "  <tbody>\n",
       "    <tr>\n",
       "      <th>X alto</th>\n",
       "      <td>[16.0, 0.5]</td>\n",
       "      <td>[16.0, 0.5]</td>\n",
       "      <td>[32, 1.0]</td>\n",
       "    </tr>\n",
       "    <tr>\n",
       "      <th>X baixo</th>\n",
       "      <td>[4.0, 0.5]</td>\n",
       "      <td>[4.0, 0.5]</td>\n",
       "      <td>[8, 1.0]</td>\n",
       "    </tr>\n",
       "    <tr>\n",
       "      <th>Total</th>\n",
       "      <td>[20, 0.5]</td>\n",
       "      <td>[20, 0.5]</td>\n",
       "      <td>[40, 1.0]</td>\n",
       "    </tr>\n",
       "  </tbody>\n",
       "</table>\n",
       "</div>"
      ],
      "text/plain": [
       "              Y alto      Y baixo      Total\n",
       "X alto   [16.0, 0.5]  [16.0, 0.5]  [32, 1.0]\n",
       "X baixo   [4.0, 0.5]   [4.0, 0.5]   [8, 1.0]\n",
       "Total      [20, 0.5]    [20, 0.5]  [40, 1.0]"
      ]
     },
     "execution_count": 17,
     "metadata": {},
     "output_type": "execute_result"
    }
   ],
   "source": [
    "df_frequencia_conjunta_proporcao_esperada=pd.DataFrame(\n",
    "    data = {\n",
    "        \"Y alto\":[\n",
    "            [\n",
    "                df_frequencia_conjunta.at['X alto','Total']*(df_frequencia_conjunta.at['Total','Y alto']/df_frequencia_conjunta.at['Total','Total']),\n",
    "                df_frequencia_conjunta.at['Total','Y alto']/df_frequencia_conjunta.at['Total','Total']\n",
    "            ],\n",
    "            [\n",
    "                df_frequencia_conjunta.at['X baixo','Total']*(df_frequencia_conjunta.at['Total','Y alto']/df_frequencia_conjunta.at['Total','Total']),\n",
    "                df_frequencia_conjunta.at['Total','Y alto']/df_frequencia_conjunta.at['Total','Total']\n",
    "            ],\n",
    "            [\n",
    "                df_frequencia_conjunta.at['Total','Y alto'],\n",
    "                df_frequencia_conjunta.at['Total','Y alto']/df_frequencia_conjunta.at['Total','Total']\n",
    "            ]\n",
    "        ],\n",
    "        \"Y baixo\":[\n",
    "            [\n",
    "                df_frequencia_conjunta.at['X alto','Total']*(df_frequencia_conjunta.at['Total','Y baixo']/df_frequencia_conjunta.at['Total','Total']),\n",
    "                df_frequencia_conjunta.at['Total','Y baixo']/df_frequencia_conjunta.at['Total','Total']\n",
    "            ],\n",
    "            [\n",
    "                df_frequencia_conjunta.at['X baixo','Total']*(df_frequencia_conjunta.at['Total','Y baixo']/df_frequencia_conjunta.at['Total','Total']),\n",
    "                df_frequencia_conjunta.at['Total','Y baixo']/df_frequencia_conjunta.at['Total','Total']\n",
    "            ],\n",
    "            [\n",
    "                df_frequencia_conjunta.at['Total','Y baixo'],\n",
    "                df_frequencia_conjunta.at['Total','Y baixo']/df_frequencia_conjunta.at['Total','Total']\n",
    "            ]\n",
    "        ],\n",
    "        \"Total\":[\n",
    "            [\n",
    "                df_frequencia_conjunta.at['X alto','Total'],\n",
    "                df_frequencia_conjunta.at['X alto','Total']/df_frequencia_conjunta.at['X alto','Total']\n",
    "            ],\n",
    "            [\n",
    "                df_frequencia_conjunta.at['X baixo','Total'],\n",
    "                df_frequencia_conjunta.at['X baixo','Total']/df_frequencia_conjunta.at['X baixo','Total']\n",
    "            ],\n",
    "            [\n",
    "                df_frequencia_conjunta.at['Total','Total'],\n",
    "                df_frequencia_conjunta.at['Total','Total']/df_frequencia_conjunta.at['Total','Total']\n",
    "            ]\n",
    "        ]\n",
    "    },\n",
    "    index=['X alto','X baixo','Total']\n",
    ")\n",
    "print('Distribuição conjunta de frequência e proporções esperadas:')\n",
    "df_frequencia_conjunta_proporcao_esperada"
   ]
  },
  {
   "cell_type": "code",
   "execution_count": 19,
   "id": "a49b26c6",
   "metadata": {},
   "outputs": [
    {
     "name": "stdout",
     "output_type": "stream",
     "text": [
      "X²: 5.625\n"
     ]
    }
   ],
   "source": [
    "qui_quadrado=0.0\n",
    "for index in ['X alto','X baixo']:\n",
    "    for column in ['Y alto','Y baixo']:\n",
    "        valor_esperado = df_frequencia_conjunta_proporcao_esperada.at[index, column][0]\n",
    "        valor_observado = df_frequencia_conjunta_proporcao_observada.at[index, column][0]\n",
    "        \n",
    "        observado_menos_esperado = valor_observado - valor_esperado\n",
    "        qui_quadrado += ( observado_menos_esperado**2 )/valor_esperado\n",
    "        \n",
    "print('X²:', qui_quadrado)"
   ]
  },
  {
   "cell_type": "code",
   "execution_count": 20,
   "id": "8acc5e5e",
   "metadata": {},
   "outputs": [
    {
     "name": "stdout",
     "output_type": "stream",
     "text": [
      "Coeficiente de contingência C: 0.3511234415883917\n"
     ]
    }
   ],
   "source": [
    "frequencia_total = df_frequencia_conjunta.at['Total','Total']\n",
    "coeficiente_contingencia_C = math.sqrt( qui_quadrado/(qui_quadrado+frequencia_total) )\n",
    "print('Coeficiente de contingência C:', coeficiente_contingencia_C)"
   ]
  },
  {
   "cell_type": "code",
   "execution_count": 22,
   "id": "387412c1",
   "metadata": {},
   "outputs": [
    {
     "name": "stdout",
     "output_type": "stream",
     "text": [
      "Coeficiente de contingência T: 0.375\n"
     ]
    }
   ],
   "source": [
    "frequencia_total = df_frequencia_conjunta.at['Total','Total']\n",
    "numero_linhas = len(['X alto','X baixo'])\n",
    "numero_colunas = len(['Y alto','Y baixo'])\n",
    "numerador = qui_quadrado\n",
    "denominador = frequencia_total * ( math.sqrt( (numero_linhas-1)*(numero_colunas-1) ) )\n",
    "coeficiente_contingencia_T = math.sqrt(numerador/denominador)\n",
    "print('Coeficiente de contingência T:', coeficiente_contingencia_T)"
   ]
  }
 ],
 "metadata": {
  "kernelspec": {
   "display_name": "Python 3 (ipykernel)",
   "language": "python",
   "name": "python3"
  },
  "language_info": {
   "codemirror_mode": {
    "name": "ipython",
    "version": 3
   },
   "file_extension": ".py",
   "mimetype": "text/x-python",
   "name": "python",
   "nbconvert_exporter": "python",
   "pygments_lexer": "ipython3",
   "version": "3.10.2"
  }
 },
 "nbformat": 4,
 "nbformat_minor": 5
}
