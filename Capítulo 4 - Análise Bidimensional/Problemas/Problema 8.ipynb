{
 "cells": [
  {
   "cell_type": "markdown",
   "id": "662116c3",
   "metadata": {},
   "source": [
    "## Problema 8"
   ]
  },
  {
   "cell_type": "markdown",
   "id": "3fd50f50",
   "metadata": {},
   "source": [
    "#### Qual o valor de X² e de C para os dados do Problema 3? E para o problema 6? Calcule T."
   ]
  },
  {
   "cell_type": "code",
   "execution_count": 1,
   "id": "30987c34",
   "metadata": {},
   "outputs": [],
   "source": [
    "import pandas as pd\n",
    "import statistics as stat\n",
    "import math"
   ]
  },
  {
   "cell_type": "code",
   "execution_count": 2,
   "id": "f8a0e2bc",
   "metadata": {},
   "outputs": [],
   "source": [
    "df=pd.DataFrame(\n",
    "    data={\n",
    "        \"X\":[1,3,2,3,2,2,3,1,2,3,2,3,1,2,3,4,1,2,2,2,2,3,4,1,2,3,4,1,4,3,2,1,4,2,4,3,1,3,2,2],\n",
    "        \"Y\":[6,2,4,1,4,1,3,5,2,2,5,2,6,6,2,2,5,5,1,1,4,2,1,5,4,2,1,5,4,3,2,1,1,6,2,1,4,2,3,5]\n",
    "    },\n",
    "    index=range(1,41)\n",
    ")"
   ]
  },
  {
   "cell_type": "code",
   "execution_count": 3,
   "id": "b1e523f0",
   "metadata": {},
   "outputs": [
    {
     "name": "stdout",
     "output_type": "stream",
     "text": [
      "Distribuição de frequência conjunta:\n"
     ]
    },
    {
     "data": {
      "text/html": [
       "<div>\n",
       "<style scoped>\n",
       "    .dataframe tbody tr th:only-of-type {\n",
       "        vertical-align: middle;\n",
       "    }\n",
       "\n",
       "    .dataframe tbody tr th {\n",
       "        vertical-align: top;\n",
       "    }\n",
       "\n",
       "    .dataframe thead th {\n",
       "        text-align: right;\n",
       "    }\n",
       "</style>\n",
       "<table border=\"1\" class=\"dataframe\">\n",
       "  <thead>\n",
       "    <tr style=\"text-align: right;\">\n",
       "      <th></th>\n",
       "      <th>Y alto</th>\n",
       "      <th>Y baixo</th>\n",
       "      <th>Total</th>\n",
       "    </tr>\n",
       "  </thead>\n",
       "  <tbody>\n",
       "    <tr>\n",
       "      <th>X alto</th>\n",
       "      <td>13</td>\n",
       "      <td>19</td>\n",
       "      <td>32</td>\n",
       "    </tr>\n",
       "    <tr>\n",
       "      <th>X baixo</th>\n",
       "      <td>7</td>\n",
       "      <td>1</td>\n",
       "      <td>8</td>\n",
       "    </tr>\n",
       "    <tr>\n",
       "      <th>Total</th>\n",
       "      <td>20</td>\n",
       "      <td>20</td>\n",
       "      <td>40</td>\n",
       "    </tr>\n",
       "  </tbody>\n",
       "</table>\n",
       "</div>"
      ],
      "text/plain": [
       "         Y alto  Y baixo  Total\n",
       "X alto       13       19     32\n",
       "X baixo       7        1      8\n",
       "Total        20       20     40"
      ]
     },
     "execution_count": 3,
     "metadata": {},
     "output_type": "execute_result"
    }
   ],
   "source": [
    "mediana_x = stat.median(df['X'])\n",
    "mediana_y = stat.median(df['Y'])\n",
    "\n",
    "frequencias_conjuntas = {}\n",
    "frequencias_conjuntas['x_alto_y_alto']=0\n",
    "frequencias_conjuntas['x_alto_y_baixo']=0\n",
    "frequencias_conjuntas['x_baixo_y_alto']=0\n",
    "frequencias_conjuntas['x_baixo_y_baixo']=0\n",
    "\n",
    "for index, row in df.iterrows():\n",
    "    if row['X'] >= mediana_x:\n",
    "        if row['Y'] >= mediana_y:\n",
    "            frequencias_conjuntas['x_alto_y_alto']+=1\n",
    "        else:\n",
    "            frequencias_conjuntas['x_alto_y_baixo']+=1\n",
    "    else:\n",
    "        if row['Y'] >= mediana_y:\n",
    "            frequencias_conjuntas['x_baixo_y_alto']+=1\n",
    "        else:\n",
    "            frequencias_conjuntas['x_baixo_y_baixo']+=1\n",
    "\n",
    "df_frequencia_conjunta=pd.DataFrame(\n",
    "    data = {\n",
    "        \"Y alto\":[\n",
    "            frequencias_conjuntas['x_alto_y_alto'],\n",
    "            frequencias_conjuntas['x_baixo_y_alto'],\n",
    "            frequencias_conjuntas['x_alto_y_alto']+frequencias_conjuntas['x_baixo_y_alto']\n",
    "        ],\n",
    "        \"Y baixo\":[\n",
    "            frequencias_conjuntas['x_alto_y_baixo'],\n",
    "            frequencias_conjuntas['x_baixo_y_baixo'],\n",
    "            frequencias_conjuntas['x_alto_y_baixo']+frequencias_conjuntas['x_baixo_y_baixo']\n",
    "        ],\n",
    "        \"Total\":[\n",
    "            frequencias_conjuntas['x_alto_y_alto']+frequencias_conjuntas['x_alto_y_baixo'],\n",
    "            frequencias_conjuntas['x_baixo_y_alto']+frequencias_conjuntas['x_baixo_y_baixo'],\n",
    "            len(df)\n",
    "        ]\n",
    "    },\n",
    "    index=['X alto','X baixo','Total']\n",
    ")\n",
    "print('Distribuição de frequência conjunta:')\n",
    "df_frequencia_conjunta"
   ]
  },
  {
   "cell_type": "code",
   "execution_count": 4,
   "id": "5dd0da18",
   "metadata": {},
   "outputs": [
    {
     "name": "stdout",
     "output_type": "stream",
     "text": [
      "Distribuição conjunta de frequência e proporções observadas:\n"
     ]
    },
    {
     "data": {
      "text/html": [
       "<div>\n",
       "<style scoped>\n",
       "    .dataframe tbody tr th:only-of-type {\n",
       "        vertical-align: middle;\n",
       "    }\n",
       "\n",
       "    .dataframe tbody tr th {\n",
       "        vertical-align: top;\n",
       "    }\n",
       "\n",
       "    .dataframe thead th {\n",
       "        text-align: right;\n",
       "    }\n",
       "</style>\n",
       "<table border=\"1\" class=\"dataframe\">\n",
       "  <thead>\n",
       "    <tr style=\"text-align: right;\">\n",
       "      <th></th>\n",
       "      <th>Y alto</th>\n",
       "      <th>Y baixo</th>\n",
       "      <th>Total</th>\n",
       "    </tr>\n",
       "  </thead>\n",
       "  <tbody>\n",
       "    <tr>\n",
       "      <th>X alto</th>\n",
       "      <td>[13, 0.40625]</td>\n",
       "      <td>[19, 0.59375]</td>\n",
       "      <td>[32, 1.0]</td>\n",
       "    </tr>\n",
       "    <tr>\n",
       "      <th>X baixo</th>\n",
       "      <td>[7, 0.875]</td>\n",
       "      <td>[1, 0.125]</td>\n",
       "      <td>[8, 1.0]</td>\n",
       "    </tr>\n",
       "    <tr>\n",
       "      <th>Total</th>\n",
       "      <td>[20, 0.5]</td>\n",
       "      <td>[20, 0.5]</td>\n",
       "      <td>[40, 1.0]</td>\n",
       "    </tr>\n",
       "  </tbody>\n",
       "</table>\n",
       "</div>"
      ],
      "text/plain": [
       "                Y alto        Y baixo      Total\n",
       "X alto   [13, 0.40625]  [19, 0.59375]  [32, 1.0]\n",
       "X baixo     [7, 0.875]     [1, 0.125]   [8, 1.0]\n",
       "Total        [20, 0.5]      [20, 0.5]  [40, 1.0]"
      ]
     },
     "execution_count": 4,
     "metadata": {},
     "output_type": "execute_result"
    }
   ],
   "source": [
    "df_frequencia_conjunta_proporcao_observada=pd.DataFrame(\n",
    "    data = {\n",
    "        \"Y alto\":[\n",
    "            [\n",
    "                df_frequencia_conjunta.at['X alto','Y alto'],\n",
    "                df_frequencia_conjunta.at['X alto','Y alto']/df_frequencia_conjunta.at['X alto','Total']\n",
    "            ],\n",
    "            [\n",
    "                df_frequencia_conjunta.at['X baixo','Y alto'],\n",
    "                df_frequencia_conjunta.at['X baixo','Y alto']/df_frequencia_conjunta.at['X baixo','Total']\n",
    "            ],\n",
    "            [\n",
    "                df_frequencia_conjunta.at['Total','Y alto'],\n",
    "                df_frequencia_conjunta.at['Total','Y alto']/df_frequencia_conjunta.at['Total','Total']\n",
    "            ]\n",
    "        ],\n",
    "        \"Y baixo\":[\n",
    "            [\n",
    "                df_frequencia_conjunta.at['X alto','Y baixo'],\n",
    "                df_frequencia_conjunta.at['X alto','Y baixo']/df_frequencia_conjunta.at['X alto','Total']\n",
    "            ],\n",
    "            [\n",
    "                df_frequencia_conjunta.at['X baixo','Y baixo'],\n",
    "                df_frequencia_conjunta.at['X baixo','Y baixo']/df_frequencia_conjunta.at['X baixo','Total']\n",
    "            ],\n",
    "            [\n",
    "                df_frequencia_conjunta.at['Total','Y baixo'],\n",
    "                df_frequencia_conjunta.at['Total','Y baixo']/df_frequencia_conjunta.at['Total','Total']\n",
    "            ]\n",
    "        ],\n",
    "        \"Total\":[\n",
    "            [\n",
    "                df_frequencia_conjunta.at['X alto','Total'],\n",
    "                df_frequencia_conjunta.at['X alto','Total']/df_frequencia_conjunta.at['X alto','Total']\n",
    "            ],\n",
    "            [\n",
    "                df_frequencia_conjunta.at['X baixo','Total'],\n",
    "                df_frequencia_conjunta.at['X baixo','Total']/df_frequencia_conjunta.at['X baixo','Total']\n",
    "            ],\n",
    "            [\n",
    "                df_frequencia_conjunta.at['Total','Total'],\n",
    "                df_frequencia_conjunta.at['Total','Total']/df_frequencia_conjunta.at['Total','Total']\n",
    "            ]\n",
    "        ]\n",
    "    },\n",
    "    index=['X alto','X baixo','Total']\n",
    ")\n",
    "print('Distribuição conjunta de frequência e proporções observadas:')\n",
    "df_frequencia_conjunta_proporcao_observada"
   ]
  },
  {
   "cell_type": "code",
   "execution_count": 5,
   "id": "79b2e6da",
   "metadata": {},
   "outputs": [
    {
     "name": "stdout",
     "output_type": "stream",
     "text": [
      "Distribuição conjunta de frequência e proporções esperadas:\n"
     ]
    },
    {
     "data": {
      "text/html": [
       "<div>\n",
       "<style scoped>\n",
       "    .dataframe tbody tr th:only-of-type {\n",
       "        vertical-align: middle;\n",
       "    }\n",
       "\n",
       "    .dataframe tbody tr th {\n",
       "        vertical-align: top;\n",
       "    }\n",
       "\n",
       "    .dataframe thead th {\n",
       "        text-align: right;\n",
       "    }\n",
       "</style>\n",
       "<table border=\"1\" class=\"dataframe\">\n",
       "  <thead>\n",
       "    <tr style=\"text-align: right;\">\n",
       "      <th></th>\n",
       "      <th>Y alto</th>\n",
       "      <th>Y baixo</th>\n",
       "      <th>Total</th>\n",
       "    </tr>\n",
       "  </thead>\n",
       "  <tbody>\n",
       "    <tr>\n",
       "      <th>X alto</th>\n",
       "      <td>[16.0, 0.5]</td>\n",
       "      <td>[16.0, 0.5]</td>\n",
       "      <td>[32, 1.0]</td>\n",
       "    </tr>\n",
       "    <tr>\n",
       "      <th>X baixo</th>\n",
       "      <td>[4.0, 0.5]</td>\n",
       "      <td>[4.0, 0.5]</td>\n",
       "      <td>[8, 1.0]</td>\n",
       "    </tr>\n",
       "    <tr>\n",
       "      <th>Total</th>\n",
       "      <td>[20, 0.5]</td>\n",
       "      <td>[20, 0.5]</td>\n",
       "      <td>[40, 1.0]</td>\n",
       "    </tr>\n",
       "  </tbody>\n",
       "</table>\n",
       "</div>"
      ],
      "text/plain": [
       "              Y alto      Y baixo      Total\n",
       "X alto   [16.0, 0.5]  [16.0, 0.5]  [32, 1.0]\n",
       "X baixo   [4.0, 0.5]   [4.0, 0.5]   [8, 1.0]\n",
       "Total      [20, 0.5]    [20, 0.5]  [40, 1.0]"
      ]
     },
     "execution_count": 5,
     "metadata": {},
     "output_type": "execute_result"
    }
   ],
   "source": [
    "df_frequencia_conjunta_proporcao_esperada=pd.DataFrame(\n",
    "    data = {\n",
    "        \"Y alto\":[\n",
    "            [\n",
    "                df_frequencia_conjunta.at['X alto','Total']*(df_frequencia_conjunta.at['Total','Y alto']/df_frequencia_conjunta.at['Total','Total']),\n",
    "                df_frequencia_conjunta.at['Total','Y alto']/df_frequencia_conjunta.at['Total','Total']\n",
    "            ],\n",
    "            [\n",
    "                df_frequencia_conjunta.at['X baixo','Total']*(df_frequencia_conjunta.at['Total','Y alto']/df_frequencia_conjunta.at['Total','Total']),\n",
    "                df_frequencia_conjunta.at['Total','Y alto']/df_frequencia_conjunta.at['Total','Total']\n",
    "            ],\n",
    "            [\n",
    "                df_frequencia_conjunta.at['Total','Y alto'],\n",
    "                df_frequencia_conjunta.at['Total','Y alto']/df_frequencia_conjunta.at['Total','Total']\n",
    "            ]\n",
    "        ],\n",
    "        \"Y baixo\":[\n",
    "            [\n",
    "                df_frequencia_conjunta.at['X alto','Total']*(df_frequencia_conjunta.at['Total','Y baixo']/df_frequencia_conjunta.at['Total','Total']),\n",
    "                df_frequencia_conjunta.at['Total','Y baixo']/df_frequencia_conjunta.at['Total','Total']\n",
    "            ],\n",
    "            [\n",
    "                df_frequencia_conjunta.at['X baixo','Total']*(df_frequencia_conjunta.at['Total','Y baixo']/df_frequencia_conjunta.at['Total','Total']),\n",
    "                df_frequencia_conjunta.at['Total','Y baixo']/df_frequencia_conjunta.at['Total','Total']\n",
    "            ],\n",
    "            [\n",
    "                df_frequencia_conjunta.at['Total','Y baixo'],\n",
    "                df_frequencia_conjunta.at['Total','Y baixo']/df_frequencia_conjunta.at['Total','Total']\n",
    "            ]\n",
    "        ],\n",
    "        \"Total\":[\n",
    "            [\n",
    "                df_frequencia_conjunta.at['X alto','Total'],\n",
    "                df_frequencia_conjunta.at['X alto','Total']/df_frequencia_conjunta.at['X alto','Total']\n",
    "            ],\n",
    "            [\n",
    "                df_frequencia_conjunta.at['X baixo','Total'],\n",
    "                df_frequencia_conjunta.at['X baixo','Total']/df_frequencia_conjunta.at['X baixo','Total']\n",
    "            ],\n",
    "            [\n",
    "                df_frequencia_conjunta.at['Total','Total'],\n",
    "                df_frequencia_conjunta.at['Total','Total']/df_frequencia_conjunta.at['Total','Total']\n",
    "            ]\n",
    "        ]\n",
    "    },\n",
    "    index=['X alto','X baixo','Total']\n",
    ")\n",
    "print('Distribuição conjunta de frequência e proporções esperadas:')\n",
    "df_frequencia_conjunta_proporcao_esperada"
   ]
  },
  {
   "cell_type": "code",
   "execution_count": 6,
   "id": "a49b26c6",
   "metadata": {},
   "outputs": [
    {
     "name": "stdout",
     "output_type": "stream",
     "text": [
      "X²: 5.625\n"
     ]
    }
   ],
   "source": [
    "qui_quadrado=0.0\n",
    "for index in ['X alto','X baixo']:\n",
    "    for column in ['Y alto','Y baixo']:\n",
    "        valor_esperado = df_frequencia_conjunta_proporcao_esperada.at[index, column][0]\n",
    "        valor_observado = df_frequencia_conjunta_proporcao_observada.at[index, column][0]\n",
    "        \n",
    "        observado_menos_esperado = valor_observado - valor_esperado\n",
    "        qui_quadrado += ( observado_menos_esperado**2 )/valor_esperado\n",
    "        \n",
    "print('X²:', qui_quadrado)"
   ]
  },
  {
   "cell_type": "code",
   "execution_count": 7,
   "id": "8acc5e5e",
   "metadata": {},
   "outputs": [
    {
     "name": "stdout",
     "output_type": "stream",
     "text": [
      "Coeficiente de contingência C: 0.3511234415883917\n"
     ]
    }
   ],
   "source": [
    "frequencia_total = df_frequencia_conjunta.at['Total','Total']\n",
    "coeficiente_contingencia_C = math.sqrt( qui_quadrado/(qui_quadrado+frequencia_total) )\n",
    "print('Coeficiente de contingência C:', coeficiente_contingencia_C)"
   ]
  },
  {
   "cell_type": "code",
   "execution_count": 8,
   "id": "387412c1",
   "metadata": {},
   "outputs": [
    {
     "name": "stdout",
     "output_type": "stream",
     "text": [
      "Coeficiente de contingência T: 0.375\n"
     ]
    }
   ],
   "source": [
    "frequencia_total = df_frequencia_conjunta.at['Total','Total']\n",
    "numero_linhas = len(['X alto','X baixo'])\n",
    "numero_colunas = len(['Y alto','Y baixo'])\n",
    "numerador = qui_quadrado\n",
    "denominador = frequencia_total * ( math.sqrt( (numero_linhas-1)*(numero_colunas-1) ) )\n",
    "coeficiente_contingencia_T = math.sqrt(numerador/denominador)\n",
    "print('Coeficiente de contingência T:', coeficiente_contingencia_T)"
   ]
  },
  {
   "cell_type": "code",
   "execution_count": 9,
   "id": "16f9f6a4",
   "metadata": {},
   "outputs": [
    {
     "name": "stdout",
     "output_type": "stream",
     "text": [
      "Distribuição de frequência conjunta:\n"
     ]
    },
    {
     "data": {
      "text/html": [
       "<div>\n",
       "<style scoped>\n",
       "    .dataframe tbody tr th:only-of-type {\n",
       "        vertical-align: middle;\n",
       "    }\n",
       "\n",
       "    .dataframe tbody tr th {\n",
       "        vertical-align: top;\n",
       "    }\n",
       "\n",
       "    .dataframe thead th {\n",
       "        text-align: right;\n",
       "    }\n",
       "</style>\n",
       "<table border=\"1\" class=\"dataframe\">\n",
       "  <thead>\n",
       "    <tr style=\"text-align: right;\">\n",
       "      <th></th>\n",
       "      <th>Homens</th>\n",
       "      <th>Mulheres</th>\n",
       "      <th>Total</th>\n",
       "    </tr>\n",
       "  </thead>\n",
       "  <tbody>\n",
       "    <tr>\n",
       "      <th>Usaram o hospital</th>\n",
       "      <td>100</td>\n",
       "      <td>150</td>\n",
       "      <td>250</td>\n",
       "    </tr>\n",
       "    <tr>\n",
       "      <th>Não usaram o hospital</th>\n",
       "      <td>900</td>\n",
       "      <td>850</td>\n",
       "      <td>1750</td>\n",
       "    </tr>\n",
       "    <tr>\n",
       "      <th>Total</th>\n",
       "      <td>1000</td>\n",
       "      <td>1000</td>\n",
       "      <td>2000</td>\n",
       "    </tr>\n",
       "  </tbody>\n",
       "</table>\n",
       "</div>"
      ],
      "text/plain": [
       "                       Homens  Mulheres  Total\n",
       "Usaram o hospital         100       150    250\n",
       "Não usaram o hospital     900       850   1750\n",
       "Total                    1000      1000   2000"
      ]
     },
     "execution_count": 9,
     "metadata": {},
     "output_type": "execute_result"
    }
   ],
   "source": [
    "df_problema_6=pd.DataFrame(\n",
    "    data={\n",
    "        \"Homens\":[100,900,1000],\n",
    "        \"Mulheres\":[150,850,1000],\n",
    "        \"Total\":[250,1750,2000]\n",
    "    },\n",
    "    index=['Usaram o hospital','Não usaram o hospital','Total']\n",
    ")\n",
    "print('Distribuição de frequência conjunta:')\n",
    "df_problema_6"
   ]
  },
  {
   "cell_type": "code",
   "execution_count": 10,
   "id": "481a90c8",
   "metadata": {},
   "outputs": [
    {
     "name": "stdout",
     "output_type": "stream",
     "text": [
      "Distribuição conjunta de frequência e proporções observadas:\n"
     ]
    },
    {
     "data": {
      "text/html": [
       "<div>\n",
       "<style scoped>\n",
       "    .dataframe tbody tr th:only-of-type {\n",
       "        vertical-align: middle;\n",
       "    }\n",
       "\n",
       "    .dataframe tbody tr th {\n",
       "        vertical-align: top;\n",
       "    }\n",
       "\n",
       "    .dataframe thead th {\n",
       "        text-align: right;\n",
       "    }\n",
       "</style>\n",
       "<table border=\"1\" class=\"dataframe\">\n",
       "  <thead>\n",
       "    <tr style=\"text-align: right;\">\n",
       "      <th></th>\n",
       "      <th>Homens</th>\n",
       "      <th>Mulheres</th>\n",
       "      <th>Total</th>\n",
       "    </tr>\n",
       "  </thead>\n",
       "  <tbody>\n",
       "    <tr>\n",
       "      <th>Usaram o hospital</th>\n",
       "      <td>[100, 0.4]</td>\n",
       "      <td>[150, 0.6]</td>\n",
       "      <td>[250, 1.0]</td>\n",
       "    </tr>\n",
       "    <tr>\n",
       "      <th>Não usaram o hospital</th>\n",
       "      <td>[900, 0.5142857142857142]</td>\n",
       "      <td>[850, 0.4857142857142857]</td>\n",
       "      <td>[1750, 1.0]</td>\n",
       "    </tr>\n",
       "    <tr>\n",
       "      <th>Total</th>\n",
       "      <td>[1000, 0.5]</td>\n",
       "      <td>[1000, 0.5]</td>\n",
       "      <td>[2000, 1.0]</td>\n",
       "    </tr>\n",
       "  </tbody>\n",
       "</table>\n",
       "</div>"
      ],
      "text/plain": [
       "                                          Homens                   Mulheres  \\\n",
       "Usaram o hospital                     [100, 0.4]                 [150, 0.6]   \n",
       "Não usaram o hospital  [900, 0.5142857142857142]  [850, 0.4857142857142857]   \n",
       "Total                                [1000, 0.5]                [1000, 0.5]   \n",
       "\n",
       "                             Total  \n",
       "Usaram o hospital       [250, 1.0]  \n",
       "Não usaram o hospital  [1750, 1.0]  \n",
       "Total                  [2000, 1.0]  "
      ]
     },
     "execution_count": 10,
     "metadata": {},
     "output_type": "execute_result"
    }
   ],
   "source": [
    "df_frequencia_conjunta_proporcao_observada_problema_6=pd.DataFrame(\n",
    "    data = {\n",
    "        \"Homens\":[\n",
    "            [\n",
    "                df_problema_6.at['Usaram o hospital','Homens'],\n",
    "                df_problema_6.at['Usaram o hospital','Homens']/df_problema_6.at['Usaram o hospital','Total']\n",
    "            ],\n",
    "            [\n",
    "                df_problema_6.at['Não usaram o hospital','Homens'],\n",
    "                df_problema_6.at['Não usaram o hospital','Homens']/df_problema_6.at['Não usaram o hospital','Total']\n",
    "            ],\n",
    "            [\n",
    "                df_problema_6.at['Total','Homens'],\n",
    "                df_problema_6.at['Total','Homens']/df_problema_6.at['Total','Total']\n",
    "            ]\n",
    "        ],\n",
    "        \"Mulheres\":[\n",
    "            [\n",
    "                df_problema_6.at['Usaram o hospital','Mulheres'],\n",
    "                df_problema_6.at['Usaram o hospital','Mulheres']/df_problema_6.at['Usaram o hospital','Total']\n",
    "            ],\n",
    "            [\n",
    "                df_problema_6.at['Não usaram o hospital','Mulheres'],\n",
    "                df_problema_6.at['Não usaram o hospital','Mulheres']/df_problema_6.at['Não usaram o hospital','Total']\n",
    "            ],\n",
    "            [\n",
    "                df_problema_6.at['Total','Mulheres'],\n",
    "                df_problema_6.at['Total','Mulheres']/df_problema_6.at['Total','Total']\n",
    "            ]\n",
    "        ],\n",
    "        \"Total\":[\n",
    "            [\n",
    "                df_problema_6.at['Usaram o hospital','Total'],\n",
    "                df_problema_6.at['Usaram o hospital','Total']/df_problema_6.at['Usaram o hospital','Total']\n",
    "            ],\n",
    "            [\n",
    "                df_problema_6.at['Não usaram o hospital','Total'],\n",
    "                df_problema_6.at['Não usaram o hospital','Total']/df_problema_6.at['Não usaram o hospital','Total']\n",
    "            ],\n",
    "            [\n",
    "                df_problema_6.at['Total','Total'],\n",
    "                df_problema_6.at['Total','Total']/df_problema_6.at['Total','Total']\n",
    "            ]\n",
    "        ]\n",
    "    },\n",
    "    index=['Usaram o hospital','Não usaram o hospital','Total']\n",
    ")\n",
    "print('Distribuição conjunta de frequência e proporções observadas:')\n",
    "df_frequencia_conjunta_proporcao_observada_problema_6"
   ]
  },
  {
   "cell_type": "code",
   "execution_count": 11,
   "id": "9042c72b",
   "metadata": {},
   "outputs": [
    {
     "name": "stdout",
     "output_type": "stream",
     "text": [
      "Distribuição conjunta de frequência e proporções esperadas:\n"
     ]
    },
    {
     "data": {
      "text/html": [
       "<div>\n",
       "<style scoped>\n",
       "    .dataframe tbody tr th:only-of-type {\n",
       "        vertical-align: middle;\n",
       "    }\n",
       "\n",
       "    .dataframe tbody tr th {\n",
       "        vertical-align: top;\n",
       "    }\n",
       "\n",
       "    .dataframe thead th {\n",
       "        text-align: right;\n",
       "    }\n",
       "</style>\n",
       "<table border=\"1\" class=\"dataframe\">\n",
       "  <thead>\n",
       "    <tr style=\"text-align: right;\">\n",
       "      <th></th>\n",
       "      <th>Homens</th>\n",
       "      <th>Mulheres</th>\n",
       "      <th>Total</th>\n",
       "    </tr>\n",
       "  </thead>\n",
       "  <tbody>\n",
       "    <tr>\n",
       "      <th>Usaram o hospital</th>\n",
       "      <td>[125.0, 0.5]</td>\n",
       "      <td>[125.0, 0.5]</td>\n",
       "      <td>[250, 1.0]</td>\n",
       "    </tr>\n",
       "    <tr>\n",
       "      <th>Não usaram o hospital</th>\n",
       "      <td>[875.0, 0.5]</td>\n",
       "      <td>[875.0, 0.5]</td>\n",
       "      <td>[1750, 1.0]</td>\n",
       "    </tr>\n",
       "    <tr>\n",
       "      <th>Total</th>\n",
       "      <td>[1000, 0.5]</td>\n",
       "      <td>[1000, 0.5]</td>\n",
       "      <td>[2000, 1.0]</td>\n",
       "    </tr>\n",
       "  </tbody>\n",
       "</table>\n",
       "</div>"
      ],
      "text/plain": [
       "                             Homens      Mulheres        Total\n",
       "Usaram o hospital      [125.0, 0.5]  [125.0, 0.5]   [250, 1.0]\n",
       "Não usaram o hospital  [875.0, 0.5]  [875.0, 0.5]  [1750, 1.0]\n",
       "Total                   [1000, 0.5]   [1000, 0.5]  [2000, 1.0]"
      ]
     },
     "execution_count": 11,
     "metadata": {},
     "output_type": "execute_result"
    }
   ],
   "source": [
    "df_frequencia_conjunta_proporcao_esperada_problema_6=pd.DataFrame(\n",
    "    data = {\n",
    "        \"Homens\":[\n",
    "            [\n",
    "                df_problema_6.at['Usaram o hospital','Total']*df_problema_6.at['Total','Homens']/df_problema_6.at['Total','Total'],\n",
    "                df_problema_6.at['Total','Homens']/df_problema_6.at['Total','Total']\n",
    "            ],\n",
    "            [\n",
    "                df_problema_6.at['Não usaram o hospital','Total']*df_problema_6.at['Total','Homens']/df_problema_6.at['Total','Total'],\n",
    "                df_problema_6.at['Total','Homens']/df_problema_6.at['Total','Total']\n",
    "            ],\n",
    "            [\n",
    "                df_problema_6.at['Total','Homens'],\n",
    "                df_problema_6.at['Total','Homens']/df_problema_6.at['Total','Total']\n",
    "            ]\n",
    "        ],\n",
    "        \"Mulheres\":[\n",
    "            [\n",
    "                df_problema_6.at['Usaram o hospital','Total']*df_problema_6.at['Total','Mulheres']/df_problema_6.at['Total','Total'],\n",
    "                df_problema_6.at['Total','Mulheres']/df_problema_6.at['Total','Total']\n",
    "            ],\n",
    "            [\n",
    "                df_problema_6.at['Não usaram o hospital','Total']*df_problema_6.at['Total','Mulheres']/df_problema_6.at['Total','Total'],\n",
    "                df_problema_6.at['Total','Mulheres']/df_problema_6.at['Total','Total']\n",
    "            ],\n",
    "            [\n",
    "                df_problema_6.at['Total','Mulheres'],\n",
    "                df_problema_6.at['Total','Mulheres']/df_problema_6.at['Total','Total']\n",
    "            ]\n",
    "        ],\n",
    "        \"Total\":[\n",
    "            [\n",
    "                df_problema_6.at['Usaram o hospital','Total'],\n",
    "                df_problema_6.at['Usaram o hospital','Total']/df_problema_6.at['Usaram o hospital','Total']\n",
    "            ],\n",
    "            [\n",
    "                df_problema_6.at['Não usaram o hospital','Total'],\n",
    "                df_problema_6.at['Não usaram o hospital','Total']/df_problema_6.at['Não usaram o hospital','Total']\n",
    "            ],\n",
    "            [\n",
    "                df_problema_6.at['Total','Total'],\n",
    "                df_problema_6.at['Total','Total']/df_problema_6.at['Total','Total']\n",
    "            ]\n",
    "        ]\n",
    "    },\n",
    "    index=['Usaram o hospital','Não usaram o hospital','Total']\n",
    ")\n",
    "print('Distribuição conjunta de frequência e proporções esperadas:')\n",
    "df_frequencia_conjunta_proporcao_esperada_problema_6"
   ]
  },
  {
   "cell_type": "code",
   "execution_count": 12,
   "id": "cb7f639c",
   "metadata": {},
   "outputs": [
    {
     "name": "stdout",
     "output_type": "stream",
     "text": [
      "X²: 11.428571428571427\n"
     ]
    }
   ],
   "source": [
    "qui_quadrado_problema_6=0.0\n",
    "for index in ['Usaram o hospital','Não usaram o hospital']:\n",
    "    for column in ['Homens','Mulheres']:\n",
    "        valor_esperado = df_frequencia_conjunta_proporcao_esperada_problema_6.at[index, column][0]\n",
    "        valor_observado = df_frequencia_conjunta_proporcao_observada_problema_6.at[index, column][0]\n",
    "        \n",
    "        observado_menos_esperado = valor_observado - valor_esperado\n",
    "        qui_quadrado_problema_6 += ( observado_menos_esperado**2 )/valor_esperado\n",
    "        \n",
    "print('X²:', qui_quadrado_problema_6)"
   ]
  },
  {
   "cell_type": "code",
   "execution_count": 13,
   "id": "e5230ac0",
   "metadata": {},
   "outputs": [
    {
     "name": "stdout",
     "output_type": "stream",
     "text": [
      "Coeficiente de contingência C: 0.07537783614444091\n"
     ]
    }
   ],
   "source": [
    "frequencia_total_problema_6 = df_problema_6.at['Total','Total']\n",
    "coeficiente_contingencia_C_6 = math.sqrt( qui_quadrado_problema_6/(qui_quadrado_problema_6+frequencia_total_problema_6) )\n",
    "print('Coeficiente de contingência C:', coeficiente_contingencia_C_6)"
   ]
  },
  {
   "cell_type": "code",
   "execution_count": 14,
   "id": "7379770d",
   "metadata": {},
   "outputs": [
    {
     "name": "stdout",
     "output_type": "stream",
     "text": [
      "Coeficiente de contingência T: 0.07559289460184544\n"
     ]
    }
   ],
   "source": [
    "frequencia_total_problema_6 = df_problema_6.at['Total','Total']\n",
    "numero_linhas = len(['Usaram o hospital','Não usaram o hospital'])\n",
    "numero_colunas = len(['Homens','Mulheres'])\n",
    "numerador = qui_quadrado_problema_6\n",
    "denominador = frequencia_total_problema_6 * ( math.sqrt( (numero_linhas-1)*(numero_colunas-1) ) )\n",
    "coeficiente_contingencia_T_problema_6 = math.sqrt(numerador/denominador)\n",
    "print('Coeficiente de contingência T:', coeficiente_contingencia_T_problema_6)"
   ]
  }
 ],
 "metadata": {
  "kernelspec": {
   "display_name": "Python 3 (ipykernel)",
   "language": "python",
   "name": "python3"
  },
  "language_info": {
   "codemirror_mode": {
    "name": "ipython",
    "version": 3
   },
   "file_extension": ".py",
   "mimetype": "text/x-python",
   "name": "python",
   "nbconvert_exporter": "python",
   "pygments_lexer": "ipython3",
   "version": "3.10.2"
  }
 },
 "nbformat": 4,
 "nbformat_minor": 5
}
