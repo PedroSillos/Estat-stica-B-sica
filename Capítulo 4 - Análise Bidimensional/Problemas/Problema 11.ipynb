{
 "cells": [
  {
   "cell_type": "markdown",
   "id": "662116c3",
   "metadata": {},
   "source": [
    "## Problema 11"
   ]
  },
  {
   "cell_type": "markdown",
   "id": "3fd50f50",
   "metadata": {},
   "source": [
    "#### Abaixo estão os dados referentes à porcentagem da população economicamente ativa empregada no setor primário e o respectivo índice de analfabetismo para algumas regiões metropolitanas brasileiras."
   ]
  },
  {
   "cell_type": "code",
   "execution_count": 1,
   "id": "c528acef",
   "metadata": {},
   "outputs": [],
   "source": [
    "import pandas as pd\n",
    "import statistics as stat\n",
    "import matplotlib.pyplot as plt\n",
    "import math as math"
   ]
  },
  {
   "cell_type": "code",
   "execution_count": 2,
   "id": "6ef6add3",
   "metadata": {},
   "outputs": [
    {
     "data": {
      "text/html": [
       "<div>\n",
       "<style scoped>\n",
       "    .dataframe tbody tr th:only-of-type {\n",
       "        vertical-align: middle;\n",
       "    }\n",
       "\n",
       "    .dataframe tbody tr th {\n",
       "        vertical-align: top;\n",
       "    }\n",
       "\n",
       "    .dataframe thead th {\n",
       "        text-align: right;\n",
       "    }\n",
       "</style>\n",
       "<table border=\"1\" class=\"dataframe\">\n",
       "  <thead>\n",
       "    <tr style=\"text-align: right;\">\n",
       "      <th></th>\n",
       "      <th>Regiões metropolitanas</th>\n",
       "      <th>Setor Primário</th>\n",
       "      <th>Índice de analfabatismo</th>\n",
       "    </tr>\n",
       "  </thead>\n",
       "  <tbody>\n",
       "    <tr>\n",
       "      <th>0</th>\n",
       "      <td>São Paulo</td>\n",
       "      <td>2.0</td>\n",
       "      <td>17.5</td>\n",
       "    </tr>\n",
       "    <tr>\n",
       "      <th>1</th>\n",
       "      <td>Rio de Janeiro</td>\n",
       "      <td>2.5</td>\n",
       "      <td>18.5</td>\n",
       "    </tr>\n",
       "    <tr>\n",
       "      <th>2</th>\n",
       "      <td>Belém</td>\n",
       "      <td>2.9</td>\n",
       "      <td>19.5</td>\n",
       "    </tr>\n",
       "    <tr>\n",
       "      <th>3</th>\n",
       "      <td>Belo Horizonte</td>\n",
       "      <td>3.3</td>\n",
       "      <td>22.2</td>\n",
       "    </tr>\n",
       "    <tr>\n",
       "      <th>4</th>\n",
       "      <td>Salvador</td>\n",
       "      <td>4.1</td>\n",
       "      <td>26.5</td>\n",
       "    </tr>\n",
       "    <tr>\n",
       "      <th>5</th>\n",
       "      <td>Porto Alegre</td>\n",
       "      <td>4.3</td>\n",
       "      <td>16.6</td>\n",
       "    </tr>\n",
       "    <tr>\n",
       "      <th>6</th>\n",
       "      <td>Recife</td>\n",
       "      <td>7.0</td>\n",
       "      <td>36.6</td>\n",
       "    </tr>\n",
       "    <tr>\n",
       "      <th>7</th>\n",
       "      <td>Fortaleza</td>\n",
       "      <td>13.0</td>\n",
       "      <td>38.4</td>\n",
       "    </tr>\n",
       "  </tbody>\n",
       "</table>\n",
       "</div>"
      ],
      "text/plain": [
       "  Regiões metropolitanas  Setor Primário  Índice de analfabatismo\n",
       "0              São Paulo             2.0                     17.5\n",
       "1         Rio de Janeiro             2.5                     18.5\n",
       "2                  Belém             2.9                     19.5\n",
       "3         Belo Horizonte             3.3                     22.2\n",
       "4               Salvador             4.1                     26.5\n",
       "5           Porto Alegre             4.3                     16.6\n",
       "6                 Recife             7.0                     36.6\n",
       "7              Fortaleza            13.0                     38.4"
      ]
     },
     "execution_count": 2,
     "metadata": {},
     "output_type": "execute_result"
    }
   ],
   "source": [
    "df_indicadores_sociais=pd.DataFrame(\n",
    "    data={\n",
    "        \"Regiões metropolitanas\":['São Paulo','Rio de Janeiro', 'Belém', 'Belo Horizonte', 'Salvador', 'Porto Alegre', 'Recife','Fortaleza'],\n",
    "        \"Setor Primário\":[2.0,2.5,2.9,3.3,4.1,4.3,7.0,13.0],\n",
    "        \"Índice de analfabatismo\":[17.5,18.5,19.5,22.2,26.5,16.6,36.6,38.4]\n",
    "    }\n",
    ")\n",
    "df_indicadores_sociais"
   ]
  },
  {
   "cell_type": "markdown",
   "id": "929ffcd2",
   "metadata": {},
   "source": [
    "##### (a) Faça o diagrama de dispersão."
   ]
  },
  {
   "cell_type": "code",
   "execution_count": 3,
   "id": "96054a06",
   "metadata": {},
   "outputs": [
    {
     "data": {
      "image/png": "[encoded data removed]",
      "text/plain": [
       "<Figure size 432x288 with 1 Axes>"
      ]
     },
     "metadata": {
      "needs_background": "light"
     },
     "output_type": "display_data"
    }
   ],
   "source": [
    "plt.scatter(df_indicadores_sociais['Setor Primário'], df_indicadores_sociais['Índice de analfabatismo'], s=50, c='Orange')\n",
    "plt.xlim([0, 15])\n",
    "plt.ylim([0, 40])\n",
    "plt.show()"
   ]
  },
  {
   "cell_type": "markdown",
   "id": "3b75714a",
   "metadata": {},
   "source": [
    "##### (b) Você acha que existe uma dependência linear entre as duas variáveis?"
   ]
  },
  {
   "cell_type": "markdown",
   "id": "9c80941f",
   "metadata": {},
   "source": [
    "Sim. Quanto mais gente economicamente ativa no setor primário, mais analfabetismo."
   ]
  },
  {
   "cell_type": "markdown",
   "id": "450147fc",
   "metadata": {},
   "source": [
    "##### (c) Calcule o coeficiênte de correlação."
   ]
  },
  {
   "cell_type": "code",
   "execution_count": 4,
   "id": "813510c0",
   "metadata": {},
   "outputs": [
    {
     "name": "stdout",
     "output_type": "stream",
     "text": [
      "Coeficiênte de correlação: 0.8665609813458788\n"
     ]
    }
   ],
   "source": [
    "numero_elementos = len(df_indicadores_sociais)\n",
    "media_setor_primario = stat.mean(df_indicadores_sociais['Setor Primário'])\n",
    "media_analfabetismo = stat.mean(df_indicadores_sociais['Índice de analfabatismo'])\n",
    "\n",
    "covariancia = 0\n",
    "for index, row in df_indicadores_sociais.iterrows():\n",
    "    covariancia += (row['Setor Primário']-media_setor_primario)*(row['Índice de analfabatismo']-media_analfabetismo)\n",
    "    \n",
    "covariancia = covariancia/numero_elementos\n",
    "\n",
    "desvio_padrao_setor_primario = stat.pstdev(df_indicadores_sociais['Setor Primário'])\n",
    "desvio_padrao_analfabetismo = stat.pstdev(df_indicadores_sociais['Índice de analfabatismo'])\n",
    "\n",
    "correlacao = covariancia / (desvio_padrao_setor_primario*desvio_padrao_analfabetismo)\n",
    "print('Coeficiênte de correlação:',correlacao)"
   ]
  },
  {
   "cell_type": "markdown",
   "id": "0a328f88",
   "metadata": {},
   "source": [
    "##### (d) Existe alguma região com comportamento diferente das demais? Se existe, elimine o valor correspondente e recalcule o coeficiente de correlação."
   ]
  },
  {
   "cell_type": "code",
   "execution_count": 5,
   "id": "84577c93",
   "metadata": {},
   "outputs": [
    {
     "name": "stdout",
     "output_type": "stream",
     "text": [
      "Coeficiênte de correlação 2: 0.9081914605921079\n"
     ]
    }
   ],
   "source": [
    "df_indicadores_sociais_2=pd.DataFrame(\n",
    "    data={\n",
    "        \"Regiões metropolitanas\":['São Paulo','Rio de Janeiro', 'Belém', 'Belo Horizonte', 'Salvador', 'Recife','Fortaleza'],\n",
    "        \"Setor Primário\":[2.0,2.5,2.9,3.3,4.1,7.0,13.0],\n",
    "        \"Índice de analfabatismo\":[17.5,18.5,19.5,22.2,26.5,36.6,38.4]\n",
    "    }\n",
    ")\n",
    "\n",
    "numero_elementos_2 = len(df_indicadores_sociais_2)\n",
    "media_setor_primario_2 = stat.mean(df_indicadores_sociais_2['Setor Primário'])\n",
    "media_analfabetismo_2 = stat.mean(df_indicadores_sociais_2['Índice de analfabatismo'])\n",
    "\n",
    "covariancia_2 = 0\n",
    "for index, row in df_indicadores_sociais_2.iterrows():\n",
    "    covariancia_2 += (row['Setor Primário']-media_setor_primario_2)*(row['Índice de analfabatismo']-media_analfabetismo_2)\n",
    "    \n",
    "covariancia_2 = covariancia_2/numero_elementos_2\n",
    "\n",
    "desvio_padrao_setor_primario_2 = stat.pstdev(df_indicadores_sociais_2['Setor Primário'])\n",
    "desvio_padrao_analfabetismo_2 = stat.pstdev(df_indicadores_sociais_2['Índice de analfabatismo'])\n",
    "\n",
    "correlacao_2 = covariancia_2 / (desvio_padrao_setor_primario_2*desvio_padrao_analfabetismo_2)\n",
    "print('Coeficiênte de correlação 2:',correlacao_2)"
   ]
  }
 ],
 "metadata": {
  "kernelspec": {
   "display_name": "Python 3 (ipykernel)",
   "language": "python",
   "name": "python3"
  },
  "language_info": {
   "codemirror_mode": {
    "name": "ipython",
    "version": 3
   },
   "file_extension": ".py",
   "mimetype": "text/x-python",
   "name": "python",
   "nbconvert_exporter": "python",
   "pygments_lexer": "ipython3",
   "version": "3.10.2"
  }
 },
 "nbformat": 4,
 "nbformat_minor": 5
}
