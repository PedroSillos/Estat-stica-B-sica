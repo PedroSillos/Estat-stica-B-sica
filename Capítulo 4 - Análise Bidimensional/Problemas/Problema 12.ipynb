{
 "cells": [
  {
   "cell_type": "markdown",
   "id": "662116c3",
   "metadata": {},
   "source": [
    "## Problema 12"
   ]
  },
  {
   "cell_type": "markdown",
   "id": "3fd50f50",
   "metadata": {},
   "source": [
    "#### Usando os dados do Problema 03:"
   ]
  },
  {
   "cell_type": "markdown",
   "id": "054f35fd",
   "metadata": {},
   "source": [
    "##### (a) Construa a tabela de frequências conjuntas para as variáveis X (número de empregos nos últimos dois anos) e Y (salário mais recente)."
   ]
  },
  {
   "cell_type": "code",
   "execution_count": 1,
   "id": "8c045780",
   "metadata": {},
   "outputs": [],
   "source": [
    "import pandas as pd\n",
    "import statistics as stat\n",
    "import matplotlib.pyplot as plt\n",
    "import math as math"
   ]
  },
  {
   "cell_type": "code",
   "execution_count": 2,
   "id": "d3949368",
   "metadata": {},
   "outputs": [],
   "source": [
    "df=pd.DataFrame(\n",
    "    data={\n",
    "        \"X\":[1,3,2,3,2,2,3,1,2,3,2,3,1,2,3,4,1,2,2,2,2,3,4,1,2,3,4,1,4,3,2,1,4,2,4,3,1,3,2,2],\n",
    "        \"Y\":[6,2,4,1,4,1,3,5,2,2,5,2,6,6,2,2,5,5,1,1,4,2,1,5,4,2,1,5,4,3,2,1,1,6,2,1,4,2,3,5]\n",
    "    },\n",
    "    index=range(1,41)\n",
    ")"
   ]
  },
  {
   "cell_type": "code",
   "execution_count": 3,
   "id": "7d35c2e4",
   "metadata": {},
   "outputs": [
    {
     "name": "stdout",
     "output_type": "stream",
     "text": [
      "Distribuição de frequência conjunta:\n"
     ]
    },
    {
     "data": {
      "text/html": [
       "<div>\n",
       "<style scoped>\n",
       "    .dataframe tbody tr th:only-of-type {\n",
       "        vertical-align: middle;\n",
       "    }\n",
       "\n",
       "    .dataframe tbody tr th {\n",
       "        vertical-align: top;\n",
       "    }\n",
       "\n",
       "    .dataframe thead th {\n",
       "        text-align: right;\n",
       "    }\n",
       "</style>\n",
       "<table border=\"1\" class=\"dataframe\">\n",
       "  <thead>\n",
       "    <tr style=\"text-align: right;\">\n",
       "      <th></th>\n",
       "      <th>Y alto</th>\n",
       "      <th>Y baixo</th>\n",
       "      <th>Total</th>\n",
       "    </tr>\n",
       "  </thead>\n",
       "  <tbody>\n",
       "    <tr>\n",
       "      <th>X alto</th>\n",
       "      <td>13</td>\n",
       "      <td>19</td>\n",
       "      <td>32</td>\n",
       "    </tr>\n",
       "    <tr>\n",
       "      <th>X baixo</th>\n",
       "      <td>7</td>\n",
       "      <td>1</td>\n",
       "      <td>8</td>\n",
       "    </tr>\n",
       "    <tr>\n",
       "      <th>Total</th>\n",
       "      <td>20</td>\n",
       "      <td>20</td>\n",
       "      <td>40</td>\n",
       "    </tr>\n",
       "  </tbody>\n",
       "</table>\n",
       "</div>"
      ],
      "text/plain": [
       "         Y alto  Y baixo  Total\n",
       "X alto       13       19     32\n",
       "X baixo       7        1      8\n",
       "Total        20       20     40"
      ]
     },
     "execution_count": 3,
     "metadata": {},
     "output_type": "execute_result"
    }
   ],
   "source": [
    "mediana_x = stat.median(df['X'])\n",
    "mediana_y = stat.median(df['Y'])\n",
    "\n",
    "frequencias_conjuntas = {}\n",
    "frequencias_conjuntas['x_alto_y_alto']=0\n",
    "frequencias_conjuntas['x_alto_y_baixo']=0\n",
    "frequencias_conjuntas['x_baixo_y_alto']=0\n",
    "frequencias_conjuntas['x_baixo_y_baixo']=0\n",
    "\n",
    "for index, row in df.iterrows():\n",
    "    if row['X'] >= mediana_x:\n",
    "        if row['Y'] >= mediana_y:\n",
    "            frequencias_conjuntas['x_alto_y_alto']+=1\n",
    "        else:\n",
    "            frequencias_conjuntas['x_alto_y_baixo']+=1\n",
    "    else:\n",
    "        if row['Y'] >= mediana_y:\n",
    "            frequencias_conjuntas['x_baixo_y_alto']+=1\n",
    "        else:\n",
    "            frequencias_conjuntas['x_baixo_y_baixo']+=1\n",
    "\n",
    "df_frequencia_conjunta=pd.DataFrame(\n",
    "    data = {\n",
    "        \"Y alto\":[\n",
    "            frequencias_conjuntas['x_alto_y_alto'],\n",
    "            frequencias_conjuntas['x_baixo_y_alto'],\n",
    "            frequencias_conjuntas['x_alto_y_alto']+frequencias_conjuntas['x_baixo_y_alto']\n",
    "        ],\n",
    "        \"Y baixo\":[\n",
    "            frequencias_conjuntas['x_alto_y_baixo'],\n",
    "            frequencias_conjuntas['x_baixo_y_baixo'],\n",
    "            frequencias_conjuntas['x_alto_y_baixo']+frequencias_conjuntas['x_baixo_y_baixo']\n",
    "        ],\n",
    "        \"Total\":[\n",
    "            frequencias_conjuntas['x_alto_y_alto']+frequencias_conjuntas['x_alto_y_baixo'],\n",
    "            frequencias_conjuntas['x_baixo_y_alto']+frequencias_conjuntas['x_baixo_y_baixo'],\n",
    "            len(df)\n",
    "        ]\n",
    "    },\n",
    "    index=['X alto','X baixo','Total']\n",
    ")\n",
    "print('Distribuição de frequência conjunta:')\n",
    "df_frequencia_conjunta"
   ]
  },
  {
   "cell_type": "markdown",
   "id": "a540a72d",
   "metadata": {},
   "source": [
    "##### (b) Como poderia ser feito o gráfico de dispersão desses dados?"
   ]
  },
  {
   "cell_type": "code",
   "execution_count": 4,
   "id": "d89f4e01",
   "metadata": {},
   "outputs": [
    {
     "data": {
      "image/png": "[encoded data removed]",
      "text/plain": [
       "<Figure size 432x288 with 1 Axes>"
      ]
     },
     "metadata": {
      "needs_background": "light"
     },
     "output_type": "display_data"
    }
   ],
   "source": [
    "plt.scatter(df['X'], df['Y'], s=None, c='Orange')\n",
    "plt.xlim((0, 5))\n",
    "plt.ylim((0, 7))\n",
    "plt.show()"
   ]
  },
  {
   "cell_type": "markdown",
   "id": "b015e04e",
   "metadata": {},
   "source": [
    "##### (c) Calcule o coeficiente de correlação. Baseado nesse número você diria que existe dependência entre as duas variáveis?"
   ]
  },
  {
   "cell_type": "code",
   "execution_count": 5,
   "id": "eb302159",
   "metadata": {},
   "outputs": [
    {
     "name": "stdout",
     "output_type": "stream",
     "text": [
      "Coeficiênte de correlação: -0.5922278299827967\n"
     ]
    }
   ],
   "source": [
    "numero_elementos = len(df)\n",
    "media_X = stat.mean(df['X'])\n",
    "media_Y = stat.mean(df['Y'])\n",
    "\n",
    "covariancia = 0\n",
    "for index, row in df.iterrows():\n",
    "    covariancia += (row['X']-media_X)*(row['Y']-media_Y)\n",
    "    \n",
    "covariancia = covariancia/numero_elementos\n",
    "\n",
    "desvio_padrao_X = stat.pstdev(df['X'])\n",
    "desvio_padrao_Y = stat.pstdev(df['Y'])\n",
    "\n",
    "correlacao = covariancia / (desvio_padrao_X*desvio_padrao_Y)\n",
    "print('Coeficiênte de correlação:',correlacao)"
   ]
  }
 ],
 "metadata": {
  "kernelspec": {
   "display_name": "Python 3 (ipykernel)",
   "language": "python",
   "name": "python3"
  },
  "language_info": {
   "codemirror_mode": {
    "name": "ipython",
    "version": 3
   },
   "file_extension": ".py",
   "mimetype": "text/x-python",
   "name": "python",
   "nbconvert_exporter": "python",
   "pygments_lexer": "ipython3",
   "version": "3.10.2"
  }
 },
 "nbformat": 4,
 "nbformat_minor": 5
}
