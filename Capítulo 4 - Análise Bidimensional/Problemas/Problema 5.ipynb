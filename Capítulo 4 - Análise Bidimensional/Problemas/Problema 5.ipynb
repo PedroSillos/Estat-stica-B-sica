{
 "cells": [
  {
   "cell_type": "markdown",
   "id": "662116c3",
   "metadata": {},
   "source": [
    "## Problema 5"
   ]
  },
  {
   "cell_type": "markdown",
   "id": "3fd50f50",
   "metadata": {},
   "source": [
    "#### Usando o Problema 3, verifique se há relações entre as variáveis rotatividade e salário."
   ]
  },
  {
   "cell_type": "code",
   "execution_count": 1,
   "id": "30987c34",
   "metadata": {},
   "outputs": [],
   "source": [
    "import pandas as pd\n",
    "import statistics as stat"
   ]
  },
  {
   "cell_type": "code",
   "execution_count": 2,
   "id": "ce403aa1",
   "metadata": {},
   "outputs": [],
   "source": [
    "df=pd.DataFrame(\n",
    "    data={\n",
    "        \"X\":[1,3,2,3,2,2,3,1,2,3,2,3,1,2,3,4,1,2,2,2,2,3,4,1,2,3,4,1,4,3,2,1,4,2,4,3,1,3,2,2],\n",
    "        \"Y\":[6,2,4,1,4,1,3,5,2,2,5,2,6,6,2,2,5,5,1,1,4,2,1,5,4,2,1,5,4,3,2,1,1,6,2,1,4,2,3,5]\n",
    "    },\n",
    "    index=range(1,41)\n",
    ")"
   ]
  },
  {
   "cell_type": "code",
   "execution_count": 3,
   "id": "363abacb",
   "metadata": {},
   "outputs": [
    {
     "name": "stdout",
     "output_type": "stream",
     "text": [
      "Distribuição de frequência conjunta:\n"
     ]
    },
    {
     "data": {
      "text/html": [
       "<div>\n",
       "<style scoped>\n",
       "    .dataframe tbody tr th:only-of-type {\n",
       "        vertical-align: middle;\n",
       "    }\n",
       "\n",
       "    .dataframe tbody tr th {\n",
       "        vertical-align: top;\n",
       "    }\n",
       "\n",
       "    .dataframe thead th {\n",
       "        text-align: right;\n",
       "    }\n",
       "</style>\n",
       "<table border=\"1\" class=\"dataframe\">\n",
       "  <thead>\n",
       "    <tr style=\"text-align: right;\">\n",
       "      <th></th>\n",
       "      <th>Y alto</th>\n",
       "      <th>Y baixo</th>\n",
       "      <th>Total</th>\n",
       "    </tr>\n",
       "  </thead>\n",
       "  <tbody>\n",
       "    <tr>\n",
       "      <th>X alto</th>\n",
       "      <td>13</td>\n",
       "      <td>19</td>\n",
       "      <td>32</td>\n",
       "    </tr>\n",
       "    <tr>\n",
       "      <th>X baixo</th>\n",
       "      <td>7</td>\n",
       "      <td>1</td>\n",
       "      <td>8</td>\n",
       "    </tr>\n",
       "    <tr>\n",
       "      <th>Total</th>\n",
       "      <td>20</td>\n",
       "      <td>20</td>\n",
       "      <td>40</td>\n",
       "    </tr>\n",
       "  </tbody>\n",
       "</table>\n",
       "</div>"
      ],
      "text/plain": [
       "         Y alto  Y baixo  Total\n",
       "X alto       13       19     32\n",
       "X baixo       7        1      8\n",
       "Total        20       20     40"
      ]
     },
     "execution_count": 3,
     "metadata": {},
     "output_type": "execute_result"
    }
   ],
   "source": [
    "mediana_x = stat.median(df['X'])\n",
    "mediana_y = stat.median(df['Y'])\n",
    "\n",
    "frequencias_conjuntas = {}\n",
    "frequencias_conjuntas['x_alto_y_alto']=0\n",
    "frequencias_conjuntas['x_alto_y_baixo']=0\n",
    "frequencias_conjuntas['x_baixo_y_alto']=0\n",
    "frequencias_conjuntas['x_baixo_y_baixo']=0\n",
    "\n",
    "for index, row in df.iterrows():\n",
    "    if row['X'] >= mediana_x:\n",
    "        if row['Y'] >= mediana_y:\n",
    "            frequencias_conjuntas['x_alto_y_alto']+=1\n",
    "        else:\n",
    "            frequencias_conjuntas['x_alto_y_baixo']+=1\n",
    "    else:\n",
    "        if row['Y'] >= mediana_y:\n",
    "            frequencias_conjuntas['x_baixo_y_alto']+=1\n",
    "        else:\n",
    "            frequencias_conjuntas['x_baixo_y_baixo']+=1\n",
    "\n",
    "df_frequencia_conjunta=pd.DataFrame(\n",
    "    data = {\n",
    "        \"Y alto\":[\n",
    "            frequencias_conjuntas['x_alto_y_alto'],\n",
    "            frequencias_conjuntas['x_baixo_y_alto'],\n",
    "            frequencias_conjuntas['x_alto_y_alto']+frequencias_conjuntas['x_baixo_y_alto']\n",
    "        ],\n",
    "        \"Y baixo\":[\n",
    "            frequencias_conjuntas['x_alto_y_baixo'],\n",
    "            frequencias_conjuntas['x_baixo_y_baixo'],\n",
    "            frequencias_conjuntas['x_alto_y_baixo']+frequencias_conjuntas['x_baixo_y_baixo']\n",
    "        ],\n",
    "        \"Total\":[\n",
    "            frequencias_conjuntas['x_alto_y_alto']+frequencias_conjuntas['x_alto_y_baixo'],\n",
    "            frequencias_conjuntas['x_baixo_y_alto']+frequencias_conjuntas['x_baixo_y_baixo'],\n",
    "            len(df)\n",
    "        ]\n",
    "    },\n",
    "    index=['X alto','X baixo','Total']\n",
    ")\n",
    "print('Distribuição de frequência conjunta:')\n",
    "df_frequencia_conjunta"
   ]
  },
  {
   "cell_type": "code",
   "execution_count": 4,
   "id": "2882f49a",
   "metadata": {},
   "outputs": [
    {
     "name": "stdout",
     "output_type": "stream",
     "text": [
      "Distribuição de proporção - rotatividade por salario:\n"
     ]
    },
    {
     "data": {
      "text/html": [
       "<div>\n",
       "<style scoped>\n",
       "    .dataframe tbody tr th:only-of-type {\n",
       "        vertical-align: middle;\n",
       "    }\n",
       "\n",
       "    .dataframe tbody tr th {\n",
       "        vertical-align: top;\n",
       "    }\n",
       "\n",
       "    .dataframe thead th {\n",
       "        text-align: right;\n",
       "    }\n",
       "</style>\n",
       "<table border=\"1\" class=\"dataframe\">\n",
       "  <thead>\n",
       "    <tr style=\"text-align: right;\">\n",
       "      <th></th>\n",
       "      <th>Y alto</th>\n",
       "      <th>Y baixo</th>\n",
       "      <th>Total</th>\n",
       "    </tr>\n",
       "  </thead>\n",
       "  <tbody>\n",
       "    <tr>\n",
       "      <th>X alto</th>\n",
       "      <td>[13, 0.40625]</td>\n",
       "      <td>[19, 0.59375]</td>\n",
       "      <td>[32, 1.0]</td>\n",
       "    </tr>\n",
       "    <tr>\n",
       "      <th>X baixo</th>\n",
       "      <td>[7, 0.875]</td>\n",
       "      <td>[1, 0.125]</td>\n",
       "      <td>[8, 1.0]</td>\n",
       "    </tr>\n",
       "    <tr>\n",
       "      <th>Total</th>\n",
       "      <td>[20, 0.5]</td>\n",
       "      <td>[20, 0.5]</td>\n",
       "      <td>[40, 1.0]</td>\n",
       "    </tr>\n",
       "  </tbody>\n",
       "</table>\n",
       "</div>"
      ],
      "text/plain": [
       "                Y alto        Y baixo      Total\n",
       "X alto   [13, 0.40625]  [19, 0.59375]  [32, 1.0]\n",
       "X baixo     [7, 0.875]     [1, 0.125]   [8, 1.0]\n",
       "Total        [20, 0.5]      [20, 0.5]  [40, 1.0]"
      ]
     },
     "execution_count": 4,
     "metadata": {},
     "output_type": "execute_result"
    }
   ],
   "source": [
    "df_distribuicao_de_proporcao_rotatividade_por_salario=pd.DataFrame(\n",
    "    data = {\n",
    "        \"Y alto\":[\n",
    "            [df_frequencia_conjunta.at['X alto','Y alto'], df_frequencia_conjunta.at['X alto','Y alto']/df_frequencia_conjunta.at['X alto','Total']],\n",
    "            [df_frequencia_conjunta.at['X baixo','Y alto'], df_frequencia_conjunta.at['X baixo','Y alto']/df_frequencia_conjunta.at['X baixo','Total']],\n",
    "            [df_frequencia_conjunta.at['Total','Y alto'], df_frequencia_conjunta.at['Total','Y alto']/df_frequencia_conjunta.at['Total','Total']]\n",
    "        ],\n",
    "        \"Y baixo\":[\n",
    "            [df_frequencia_conjunta.at['X alto','Y baixo'], df_frequencia_conjunta.at['X alto','Y baixo']/df_frequencia_conjunta.at['X alto','Total']],\n",
    "            [df_frequencia_conjunta.at['X baixo','Y baixo'], df_frequencia_conjunta.at['X baixo','Y baixo']/df_frequencia_conjunta.at['X baixo','Total']],\n",
    "            [df_frequencia_conjunta.at['Total','Y baixo'], df_frequencia_conjunta.at['Total','Y baixo']/df_frequencia_conjunta.at['Total','Total']]\n",
    "        ],\n",
    "        \"Total\":[\n",
    "            [df_frequencia_conjunta.at['X alto','Total'], df_frequencia_conjunta.at['X alto','Total']/df_frequencia_conjunta.at['X alto','Total']],\n",
    "            [df_frequencia_conjunta.at['X baixo','Total'], df_frequencia_conjunta.at['X baixo','Total']/df_frequencia_conjunta.at['X baixo','Total']],\n",
    "            [df_frequencia_conjunta.at['Total','Total'], df_frequencia_conjunta.at['Total','Total']/df_frequencia_conjunta.at['Total','Total']]\n",
    "        ]\n",
    "    },\n",
    "    index=['X alto','X baixo','Total']\n",
    ")\n",
    "print('Distribuição de proporção - rotatividade por salario:')\n",
    "df_distribuicao_de_proporcao_rotatividade_por_salario"
   ]
  },
  {
   "cell_type": "markdown",
   "id": "83df1218",
   "metadata": {},
   "source": [
    "As tabela acima indica existência de relação entre as variáveis rotatividade e salário, pois as\n",
    "proporções marginais não se repetem no interior da tabela. "
   ]
  }
 ],
 "metadata": {
  "kernelspec": {
   "display_name": "Python 3 (ipykernel)",
   "language": "python",
   "name": "python3"
  },
  "language_info": {
   "codemirror_mode": {
    "name": "ipython",
    "version": 3
   },
   "file_extension": ".py",
   "mimetype": "text/x-python",
   "name": "python",
   "nbconvert_exporter": "python",
   "pygments_lexer": "ipython3",
   "version": "3.10.2"
  }
 },
 "nbformat": 4,
 "nbformat_minor": 5
}
