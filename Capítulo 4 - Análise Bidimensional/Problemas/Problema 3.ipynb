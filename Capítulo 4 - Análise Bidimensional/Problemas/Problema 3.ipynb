{
 "cells": [
  {
   "cell_type": "markdown",
   "id": "662116c3",
   "metadata": {},
   "source": [
    "## Problema 3"
   ]
  },
  {
   "cell_type": "markdown",
   "id": "3fd50f50",
   "metadata": {},
   "source": [
    "#### Numa pesquisa sobre a rotatividade de mão de obra, para uma amostra de 40 pessoas foram observadas duas variáveis: número de empregos nos últimos 2 anos (X) e salário mais recente, em número de salários mínimos (Y). Os resultados foram:"
   ]
  },
  {
   "cell_type": "code",
   "execution_count": 1,
   "id": "30987c34",
   "metadata": {},
   "outputs": [],
   "source": [
    "import pandas as pd\n",
    "import statistics as stat\n",
    "import matplotlib.pyplot as plt"
   ]
  },
  {
   "cell_type": "code",
   "execution_count": 2,
   "id": "ce403aa1",
   "metadata": {},
   "outputs": [],
   "source": [
    "df=pd.DataFrame(\n",
    "    data={\n",
    "        \"X\":[1,3,2,3,2,2,3,1,2,3,2,3,1,2,3,4,1,2,2,2,2,3,4,1,2,3,4,1,4,3,2,1,4,2,4,3,1,3,2,2],\n",
    "        \"Y\":[6,2,4,1,4,1,3,5,2,2,5,2,6,6,2,2,5,5,1,1,4,2,1,5,4,2,1,5,4,3,2,1,1,6,2,1,4,2,3,5]\n",
    "    },\n",
    "    index=range(1,41)\n",
    ")"
   ]
  },
  {
   "cell_type": "markdown",
   "id": "f767485a",
   "metadata": {},
   "source": [
    "##### (a) Usando uma mediana classifique os indivíduos em dois níveis, alto e baixo, para cada uma das variáveis, e construa uma distribuição de frequências conjunta das duas classificações."
   ]
  },
  {
   "cell_type": "code",
   "execution_count": 3,
   "id": "363abacb",
   "metadata": {},
   "outputs": [
    {
     "name": "stdout",
     "output_type": "stream",
     "text": [
      "Distribuição de frequência conjunta:\n"
     ]
    },
    {
     "data": {
      "text/html": [
       "<div>\n",
       "<style scoped>\n",
       "    .dataframe tbody tr th:only-of-type {\n",
       "        vertical-align: middle;\n",
       "    }\n",
       "\n",
       "    .dataframe tbody tr th {\n",
       "        vertical-align: top;\n",
       "    }\n",
       "\n",
       "    .dataframe thead th {\n",
       "        text-align: right;\n",
       "    }\n",
       "</style>\n",
       "<table border=\"1\" class=\"dataframe\">\n",
       "  <thead>\n",
       "    <tr style=\"text-align: right;\">\n",
       "      <th></th>\n",
       "      <th>Y alto</th>\n",
       "      <th>Y baixo</th>\n",
       "      <th>Total</th>\n",
       "    </tr>\n",
       "  </thead>\n",
       "  <tbody>\n",
       "    <tr>\n",
       "      <th>X alto</th>\n",
       "      <td>13</td>\n",
       "      <td>19</td>\n",
       "      <td>32</td>\n",
       "    </tr>\n",
       "    <tr>\n",
       "      <th>X baixo</th>\n",
       "      <td>7</td>\n",
       "      <td>1</td>\n",
       "      <td>8</td>\n",
       "    </tr>\n",
       "    <tr>\n",
       "      <th>Total</th>\n",
       "      <td>20</td>\n",
       "      <td>20</td>\n",
       "      <td>40</td>\n",
       "    </tr>\n",
       "  </tbody>\n",
       "</table>\n",
       "</div>"
      ],
      "text/plain": [
       "         Y alto  Y baixo  Total\n",
       "X alto       13       19     32\n",
       "X baixo       7        1      8\n",
       "Total        20       20     40"
      ]
     },
     "execution_count": 3,
     "metadata": {},
     "output_type": "execute_result"
    }
   ],
   "source": [
    "mediana_x = stat.median(df['X'])\n",
    "mediana_y = stat.median(df['Y'])\n",
    "\n",
    "frequencias_conjuntas = {}\n",
    "frequencias_conjuntas['x_alto_y_alto']=0\n",
    "frequencias_conjuntas['x_alto_y_baixo']=0\n",
    "frequencias_conjuntas['x_baixo_y_alto']=0\n",
    "frequencias_conjuntas['x_baixo_y_baixo']=0\n",
    "\n",
    "for index, row in df.iterrows():\n",
    "    if row['X'] >= mediana_x:\n",
    "        if row['Y'] >= mediana_y:\n",
    "            frequencias_conjuntas['x_alto_y_alto']+=1\n",
    "        else:\n",
    "            frequencias_conjuntas['x_alto_y_baixo']+=1\n",
    "    else:\n",
    "        if row['Y'] >= mediana_y:\n",
    "            frequencias_conjuntas['x_baixo_y_alto']+=1\n",
    "        else:\n",
    "            frequencias_conjuntas['x_baixo_y_baixo']+=1\n",
    "\n",
    "df_frequencia_conjunta=pd.DataFrame(\n",
    "    data = {\n",
    "        \"Y alto\":[\n",
    "            frequencias_conjuntas['x_alto_y_alto'],\n",
    "            frequencias_conjuntas['x_baixo_y_alto'],\n",
    "            frequencias_conjuntas['x_alto_y_alto']+frequencias_conjuntas['x_baixo_y_alto']\n",
    "        ],\n",
    "        \"Y baixo\":[\n",
    "            frequencias_conjuntas['x_alto_y_baixo'],\n",
    "            frequencias_conjuntas['x_baixo_y_baixo'],\n",
    "            frequencias_conjuntas['x_alto_y_baixo']+frequencias_conjuntas['x_baixo_y_baixo']\n",
    "        ],\n",
    "        \"Total\":[\n",
    "            frequencias_conjuntas['x_alto_y_alto']+frequencias_conjuntas['x_alto_y_baixo'],\n",
    "            frequencias_conjuntas['x_baixo_y_alto']+frequencias_conjuntas['x_baixo_y_baixo'],\n",
    "            len(df)\n",
    "        ]\n",
    "    },\n",
    "    index=['X alto','X baixo','Total']\n",
    ")\n",
    "print('Distribuição de frequência conjunta:')\n",
    "df_frequencia_conjunta"
   ]
  },
  {
   "cell_type": "markdown",
   "id": "7ff13c40",
   "metadata": {},
   "source": [
    "##### (b) Qual a porcentagem das pessoas com baixa rotatividade e ganhando pouco?"
   ]
  },
  {
   "cell_type": "code",
   "execution_count": 5,
   "id": "ca286003",
   "metadata": {},
   "outputs": [
    {
     "name": "stdout",
     "output_type": "stream",
     "text": [
      "Porcentagem das pessoas com baixa rotatividade e ganhando pouco: 2.5 %\n"
     ]
    }
   ],
   "source": [
    "porcentagem_x_baixo_y_baixo = 100 * ( df_frequencia_conjunta.at['X baixo','Y baixo'] / df_frequencia_conjunta.at['Total','Total'] )\n",
    "print('Porcentagem das pessoas com baixa rotatividade e ganhando pouco:', porcentagem_x_baixo_y_baixo, '%')"
   ]
  },
  {
   "cell_type": "markdown",
   "id": "7d4bc006",
   "metadata": {},
   "source": [
    "##### (c) Qual a porcentagem das pessoas que ganham pouco?"
   ]
  },
  {
   "cell_type": "code",
   "execution_count": 6,
   "id": "55535f8c",
   "metadata": {},
   "outputs": [
    {
     "name": "stdout",
     "output_type": "stream",
     "text": [
      "Porcentagem das pessoas que ganham pouco: 50.0 %\n"
     ]
    }
   ],
   "source": [
    "porcentagem_y_baixo = 100 * ( df_frequencia_conjunta.at['Total','Y baixo'] / df_frequencia_conjunta.at['Total','Total'] )\n",
    "print('Porcentagem das pessoas que ganham pouco:', porcentagem_y_baixo, '%')"
   ]
  },
  {
   "cell_type": "markdown",
   "id": "49050c18",
   "metadata": {},
   "source": [
    "##### (d) Entre as pessoas com baixa rotatividade, qual a porcentagem das que ganham pouco?"
   ]
  },
  {
   "cell_type": "code",
   "execution_count": 11,
   "id": "8e0590f5",
   "metadata": {},
   "outputs": [
    {
     "name": "stdout",
     "output_type": "stream",
     "text": [
      "Entre as pessoas com baixa rotatividade 12.5 % ganham pouco.\n"
     ]
    }
   ],
   "source": [
    "porcentagem_ybaixo_se_xbaixo = 100 * ( df_frequencia_conjunta.at['X baixo','Y baixo'] / df_frequencia_conjunta.at['X baixo','Total'] )\n",
    "print('Entre as pessoas com baixa rotatividade', porcentagem_ybaixo_se_xbaixo, '% ganham pouco.')"
   ]
  },
  {
   "cell_type": "markdown",
   "id": "a00fb2cd",
   "metadata": {},
   "source": [
    "##### (e) A informação adicional dada em (d) mudou muito a porcentagem observada em (c)? O que isso signigica?"
   ]
  },
  {
   "cell_type": "markdown",
   "id": "eb4ae07d",
   "metadata": {},
   "source": [
    "A probabilidade em (c) foi bastante modificada. Isto indica que a maioria das pessoas\n",
    "que ganham pouco têm rotatividade alta."
   ]
  }
 ],
 "metadata": {
  "kernelspec": {
   "display_name": "Python 3 (ipykernel)",
   "language": "python",
   "name": "python3"
  },
  "language_info": {
   "codemirror_mode": {
    "name": "ipython",
    "version": 3
   },
   "file_extension": ".py",
   "mimetype": "text/x-python",
   "name": "python",
   "nbconvert_exporter": "python",
   "pygments_lexer": "ipython3",
   "version": "3.10.2"
  }
 },
 "nbformat": 4,
 "nbformat_minor": 5
}
