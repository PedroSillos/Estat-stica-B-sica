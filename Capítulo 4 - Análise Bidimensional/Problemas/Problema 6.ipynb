{
 "cells": [
  {
   "cell_type": "markdown",
   "id": "662116c3",
   "metadata": {},
   "source": [
    "## Problema 6"
   ]
  },
  {
   "cell_type": "markdown",
   "id": "3fd50f50",
   "metadata": {},
   "source": [
    "#### Uma companhia de seguros analisou a frequência com que os 2000 segurados (1000 e 1000 mulheres) usam o hospital. Os resultados foram:"
   ]
  },
  {
   "cell_type": "code",
   "execution_count": 2,
   "id": "30987c34",
   "metadata": {},
   "outputs": [],
   "source": [
    "import pandas as pd\n",
    "import statistics as stat"
   ]
  },
  {
   "cell_type": "code",
   "execution_count": 3,
   "id": "ce403aa1",
   "metadata": {},
   "outputs": [
    {
     "data": {
      "text/html": [
       "<div>\n",
       "<style scoped>\n",
       "    .dataframe tbody tr th:only-of-type {\n",
       "        vertical-align: middle;\n",
       "    }\n",
       "\n",
       "    .dataframe tbody tr th {\n",
       "        vertical-align: top;\n",
       "    }\n",
       "\n",
       "    .dataframe thead th {\n",
       "        text-align: right;\n",
       "    }\n",
       "</style>\n",
       "<table border=\"1\" class=\"dataframe\">\n",
       "  <thead>\n",
       "    <tr style=\"text-align: right;\">\n",
       "      <th></th>\n",
       "      <th>Homens</th>\n",
       "      <th>Mulheres</th>\n",
       "    </tr>\n",
       "  </thead>\n",
       "  <tbody>\n",
       "    <tr>\n",
       "      <th>Usaram o hospital</th>\n",
       "      <td>100</td>\n",
       "      <td>150</td>\n",
       "    </tr>\n",
       "    <tr>\n",
       "      <th>Não usaram o hospital</th>\n",
       "      <td>900</td>\n",
       "      <td>850</td>\n",
       "    </tr>\n",
       "  </tbody>\n",
       "</table>\n",
       "</div>"
      ],
      "text/plain": [
       "                       Homens  Mulheres\n",
       "Usaram o hospital         100       150\n",
       "Não usaram o hospital     900       850"
      ]
     },
     "execution_count": 3,
     "metadata": {},
     "output_type": "execute_result"
    }
   ],
   "source": [
    "df=pd.DataFrame(\n",
    "    data={\n",
    "        \"Homens\":[100,900],\n",
    "        \"Mulheres\":[150,850]\n",
    "    },\n",
    "    index=['Usaram o hospital','Não usaram o hospital']\n",
    ")\n",
    "df"
   ]
  },
  {
   "cell_type": "markdown",
   "id": "3a50d512",
   "metadata": {},
   "source": [
    "##### (a) Calcule a proporção de homens entre os indivíduos que usaram o hospital."
   ]
  },
  {
   "cell_type": "code",
   "execution_count": 7,
   "id": "21f9c87f",
   "metadata": {},
   "outputs": [
    {
     "name": "stdout",
     "output_type": "stream",
     "text": [
      "Proporção de homens entre os indivíduos que usaram o hospital: 0.4\n"
     ]
    }
   ],
   "source": [
    "proporcao_homens_usaram_hospital = df.at['Usaram o hospital','Homens'] / (df.at['Usaram o hospital','Homens']+df.at['Usaram o hospital','Mulheres'])\n",
    "print('Proporção de homens entre os indivíduos que usaram o hospital:', proporcao_homens_usaram_hospital)"
   ]
  },
  {
   "cell_type": "markdown",
   "id": "d0af5382",
   "metadata": {},
   "source": [
    "##### (b) Calcule a proporção de homens entre os indivíduos que não usaram o hospital."
   ]
  },
  {
   "cell_type": "code",
   "execution_count": 8,
   "id": "36a61b5b",
   "metadata": {},
   "outputs": [
    {
     "name": "stdout",
     "output_type": "stream",
     "text": [
      "Proporção de homens entre os indivíduos que não usaram o hospital: 0.5142857142857142\n"
     ]
    }
   ],
   "source": [
    "proporcao_homens_usaram_hospital = df.at['Não usaram o hospital','Homens'] / (df.at['Não usaram o hospital','Homens']+df.at['Não usaram o hospital','Mulheres'])\n",
    "print('Proporção de homens entre os indivíduos que não usaram o hospital:', proporcao_homens_usaram_hospital)"
   ]
  },
  {
   "cell_type": "markdown",
   "id": "2a6b709f",
   "metadata": {},
   "source": [
    "##### (c) O uso do hospital independe do sexo do segurado?"
   ]
  },
  {
   "cell_type": "markdown",
   "id": "0e6efe8b",
   "metadata": {},
   "source": [
    "Como podemos ver pelas proporções acima, a proporção de homens entra os indivíduos que não usaram o hospital é maior do que a de homens que usaram"
   ]
  }
 ],
 "metadata": {
  "kernelspec": {
   "display_name": "Python 3 (ipykernel)",
   "language": "python",
   "name": "python3"
  },
  "language_info": {
   "codemirror_mode": {
    "name": "ipython",
    "version": 3
   },
   "file_extension": ".py",
   "mimetype": "text/x-python",
   "name": "python",
   "nbconvert_exporter": "python",
   "pygments_lexer": "ipython3",
   "version": "3.10.2"
  }
 },
 "nbformat": 4,
 "nbformat_minor": 5
}
