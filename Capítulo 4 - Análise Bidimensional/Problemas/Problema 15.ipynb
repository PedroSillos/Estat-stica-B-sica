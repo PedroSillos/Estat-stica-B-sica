{
 "cells": [
  {
   "cell_type": "markdown",
   "id": "662116c3",
   "metadata": {},
   "source": [
    "## Problema 15"
   ]
  },
  {
   "cell_type": "markdown",
   "id": "3fd50f50",
   "metadata": {},
   "source": [
    "### Usando os dados do Problema 9 do Capítulo 2, calcule o grau de associação entre seção e notas em estatística."
   ]
  },
  {
   "cell_type": "code",
   "execution_count": 1,
   "id": "758dd4a3",
   "metadata": {},
   "outputs": [],
   "source": [
    "import pandas as pd\n",
    "import statistics as stat\n",
    "import math as math"
   ]
  },
  {
   "cell_type": "code",
   "execution_count": 2,
   "id": "f5fc9add",
   "metadata": {},
   "outputs": [
    {
     "data": {
      "text/html": [
       "<div>\n",
       "<style scoped>\n",
       "    .dataframe tbody tr th:only-of-type {\n",
       "        vertical-align: middle;\n",
       "    }\n",
       "\n",
       "    .dataframe tbody tr th {\n",
       "        vertical-align: top;\n",
       "    }\n",
       "\n",
       "    .dataframe thead th {\n",
       "        text-align: right;\n",
       "    }\n",
       "</style>\n",
       "<table border=\"1\" class=\"dataframe\">\n",
       "  <thead>\n",
       "    <tr style=\"text-align: right;\">\n",
       "      <th></th>\n",
       "      <th>Frequência</th>\n",
       "      <th>Média</th>\n",
       "      <th>Desvio padrão</th>\n",
       "      <th>Variância</th>\n",
       "      <th>Mín.</th>\n",
       "      <th>Q1</th>\n",
       "      <th>Q2</th>\n",
       "      <th>Q3</th>\n",
       "      <th>Máx.</th>\n",
       "    </tr>\n",
       "  </thead>\n",
       "  <tbody>\n",
       "    <tr>\n",
       "      <th>P</th>\n",
       "      <td>7</td>\n",
       "      <td>8.71</td>\n",
       "      <td>0.75</td>\n",
       "      <td>0.57</td>\n",
       "      <td>8</td>\n",
       "      <td>8.0</td>\n",
       "      <td>9</td>\n",
       "      <td>9</td>\n",
       "      <td>10</td>\n",
       "    </tr>\n",
       "    <tr>\n",
       "      <th>T</th>\n",
       "      <td>7</td>\n",
       "      <td>8.29</td>\n",
       "      <td>1.11</td>\n",
       "      <td>1.24</td>\n",
       "      <td>7</td>\n",
       "      <td>7.5</td>\n",
       "      <td>8</td>\n",
       "      <td>9</td>\n",
       "      <td>10</td>\n",
       "    </tr>\n",
       "    <tr>\n",
       "      <th>V</th>\n",
       "      <td>11</td>\n",
       "      <td>7.91</td>\n",
       "      <td>1.64</td>\n",
       "      <td>2.69</td>\n",
       "      <td>4</td>\n",
       "      <td>7.0</td>\n",
       "      <td>8</td>\n",
       "      <td>9</td>\n",
       "      <td>10</td>\n",
       "    </tr>\n",
       "    <tr>\n",
       "      <th>Total</th>\n",
       "      <td>25</td>\n",
       "      <td>8.24</td>\n",
       "      <td>1.30</td>\n",
       "      <td>1.69</td>\n",
       "      <td>4</td>\n",
       "      <td>8.0</td>\n",
       "      <td>8</td>\n",
       "      <td>9</td>\n",
       "      <td>10</td>\n",
       "    </tr>\n",
       "  </tbody>\n",
       "</table>\n",
       "</div>"
      ],
      "text/plain": [
       "       Frequência  Média  Desvio padrão  Variância  Mín.   Q1  Q2  Q3  Máx.\n",
       "P               7   8.71           0.75       0.57     8  8.0   9   9    10\n",
       "T               7   8.29           1.11       1.24     7  7.5   8   9    10\n",
       "V              11   7.91           1.64       2.69     4  7.0   8   9    10\n",
       "Total          25   8.24           1.30       1.69     4  8.0   8   9    10"
      ]
     },
     "execution_count": 2,
     "metadata": {},
     "output_type": "execute_result"
    }
   ],
   "source": [
    "df=pd.DataFrame(\n",
    "    data={\n",
    "        \"Frequência\":[7,7,11,25],\n",
    "        \"Média\":[8.71,8.29,7.91,8.24],\n",
    "        \"Desvio padrão\":[0.75,1.11,1.64,1.30],\n",
    "        \"Variância\":[0.57,1.24,2.69,1.69],\n",
    "        \"Mín.\":[8,7,4,4],\n",
    "        \"Q1\":[8,7.5,7,8],\n",
    "        \"Q2\":[9,8,8,8],\n",
    "        \"Q3\":[9,9,9,9],\n",
    "        \"Máx.\":[10,10,10,10]\n",
    "    },\n",
    "    index=['P','T','V','Total']\n",
    ")\n",
    "df"
   ]
  },
  {
   "cell_type": "code",
   "execution_count": 3,
   "id": "f3c4fba8",
   "metadata": {},
   "outputs": [
    {
     "name": "stdout",
     "output_type": "stream",
     "text": [
      "Média das variancias locais: 1.6904\n",
      "Grau de associação entre seção e notas em estatística: -0.0002366863905325367\n"
     ]
    }
   ],
   "source": [
    "media_das_variancias_locais=((df.at['V','Frequência']*df.at['V','Variância'])+(df.at['T','Frequência']*df.at['T','Variância'])+(df.at['P','Frequência']*df.at['P','Variância']))/(df.at['P','Frequência']+df.at['T','Frequência']+df.at['V','Frequência'])\n",
    "\n",
    "print('Média das variancias locais:', media_das_variancias_locais)\n",
    "\n",
    "grau_associacao_secao_e_estatística = 1 - ( media_das_variancias_locais / df.at['Total','Variância'] )\n",
    "print('Grau de associação entre seção e notas em estatística:', grau_associacao_secao_e_estatística)"
   ]
  }
 ],
 "metadata": {
  "kernelspec": {
   "display_name": "Python 3 (ipykernel)",
   "language": "python",
   "name": "python3"
  },
  "language_info": {
   "codemirror_mode": {
    "name": "ipython",
    "version": 3
   },
   "file_extension": ".py",
   "mimetype": "text/x-python",
   "name": "python",
   "nbconvert_exporter": "python",
   "pygments_lexer": "ipython3",
   "version": "3.10.2"
  }
 },
 "nbformat": 4,
 "nbformat_minor": 5
}
