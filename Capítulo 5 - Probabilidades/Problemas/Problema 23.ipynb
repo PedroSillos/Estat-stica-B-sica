{
 "cells": [
  {
   "cell_type": "markdown",
   "id": "2d336e78",
   "metadata": {},
   "source": [
    "### Problema 23"
   ]
  },
  {
   "cell_type": "markdown",
   "id": "d953d62f",
   "metadata": {},
   "source": [
    "#### Uma companhia produz circuitos em três fábricas, I, II e III.\n",
    "#### A fábrica I produz 40% dos circuitos, enquanto a II e a III produzem 30% cada. As probabilidades de que um circuito integrado produzido por essas fábricas não funcione são 0.01, 0.04 e 0.03, respectivamente.\n",
    "#### Escolhido um circuito da produção conjunta das três fábricas, qual a probabilidade de o mesmo não funcionar?"
   ]
  },
  {
   "cell_type": "code",
   "execution_count": 1,
   "id": "05185274",
   "metadata": {},
   "outputs": [
    {
     "name": "stdout",
     "output_type": "stream",
     "text": [
      "P(D) = ?\n",
      "\n",
      "P(I) = 0.40\n",
      "P(D|I) = 0.01\n",
      "\n",
      "P(II) = 0.30\n",
      "P(D|II) = 0.04\n",
      "\n",
      "P(III) = 0.30\n",
      "P(D|III) = 0.03\n",
      "\n",
      "P(D) = P(D|I)*P(I) + P(D|II)*P(II) + P(D|III)*P(III)\n",
      "P(D) =  0.01 *0.40 +   0.04 * 0.30 +   0.03  * 0.30\n",
      "P(D) = 0.025\n"
     ]
    }
   ],
   "source": [
    "print(\"P(D) = ?\")\n",
    "print()\n",
    "print(\"P(I) = 0.40\")\n",
    "print(\"P(D|I) = 0.01\")\n",
    "print()\n",
    "print(\"P(II) = 0.30\")\n",
    "print(\"P(D|II) = 0.04\")\n",
    "print()\n",
    "print(\"P(III) = 0.30\")\n",
    "print(\"P(D|III) = 0.03\")\n",
    "print()\n",
    "print(\"P(D) = P(D|I)*P(I) + P(D|II)*P(II) + P(D|III)*P(III)\")\n",
    "print(\"P(D) =  0.01 *0.40 +   0.04 * 0.30 +   0.03  * 0.30\")\n",
    "print(\"P(D) =\",0.01 *0.40 +   0.04 * 0.30 +   0.03  * 0.30)"
   ]
  }
 ],
 "metadata": {
  "kernelspec": {
   "display_name": "Python 3 (ipykernel)",
   "language": "python",
   "name": "python3"
  },
  "language_info": {
   "codemirror_mode": {
    "name": "ipython",
    "version": 3
   },
   "file_extension": ".py",
   "mimetype": "text/x-python",
   "name": "python",
   "nbconvert_exporter": "python",
   "pygments_lexer": "ipython3",
   "version": "3.10.2"
  }
 },
 "nbformat": 4,
 "nbformat_minor": 5
}
