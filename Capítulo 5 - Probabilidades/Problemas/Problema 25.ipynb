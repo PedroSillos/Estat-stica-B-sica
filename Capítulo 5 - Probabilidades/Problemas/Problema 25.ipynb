{
 "cells": [
  {
   "cell_type": "markdown",
   "id": "2d336e78",
   "metadata": {},
   "source": [
    "### Problema 25"
   ]
  },
  {
   "cell_type": "markdown",
   "id": "d953d62f",
   "metadata": {},
   "source": [
    "#### A urna I contém duas bolas pretas e três brancas, ao passo que a urna II contém três bolas pretas e três brancas.\n",
    "#### Escolhemos uma urna ao acaso e dela extraímos uma bola que tem cor branca.\n",
    "#### Se a bola é recolocada na urna, qual a probabilidade de se retirar novamente uma bola branca da mesma urna?"
   ]
  },
  {
   "cell_type": "code",
   "execution_count": 1,
   "id": "05185274",
   "metadata": {},
   "outputs": [
    {
     "name": "stdout",
     "output_type": "stream",
     "text": [
      "P(I) = 0.50\n",
      "P(P|I) = 2/5\n",
      "P(B|I) = 3/5\n",
      "\n",
      "P(II) = 0.50\n",
      "P(P|II) = 3/6\n",
      "P(B|II) = 3/6\n",
      "\n",
      "P(E) = P(B|I | B|I)*P(I) + P(B|II | B|II)*P(II)\n",
      "P(E) =  (3/5 * 3/5)*0.50 +  (3/6  *  3/6)*0.50\n",
      "P(E) = 0.305\n"
     ]
    }
   ],
   "source": [
    "print(\"P(I) = 0.50\")\n",
    "print(\"P(P|I) = 2/5\")\n",
    "print(\"P(B|I) = 3/5\")\n",
    "print()\n",
    "print(\"P(II) = 0.50\")\n",
    "print(\"P(P|II) = 3/6\")\n",
    "print(\"P(B|II) = 3/6\")\n",
    "print()\n",
    "print(\"P(E) = P(B|I | B|I)*P(I) + P(B|II | B|II)*P(II)\")\n",
    "print(\"P(E) =  (3/5 * 3/5)*0.50 +  (3/6  *  3/6)*0.50\")\n",
    "print(\"P(E) =\", (3/5*3/5)*0.50 + (3/6*3/6)*0.50)"
   ]
  }
 ],
 "metadata": {
  "kernelspec": {
   "display_name": "Python 3 (ipykernel)",
   "language": "python",
   "name": "python3"
  },
  "language_info": {
   "codemirror_mode": {
    "name": "ipython",
    "version": 3
   },
   "file_extension": ".py",
   "mimetype": "text/x-python",
   "name": "python",
   "nbconvert_exporter": "python",
   "pygments_lexer": "ipython3",
   "version": "3.10.2"
  }
 },
 "nbformat": 4,
 "nbformat_minor": 5
}
