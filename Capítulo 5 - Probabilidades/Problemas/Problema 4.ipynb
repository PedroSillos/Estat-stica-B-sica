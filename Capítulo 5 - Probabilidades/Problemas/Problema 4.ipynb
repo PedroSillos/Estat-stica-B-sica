{
 "cells": [
  {
   "cell_type": "markdown",
   "id": "2d336e78",
   "metadata": {},
   "source": [
    "### Problema 4"
   ]
  },
  {
   "cell_type": "markdown",
   "id": "d953d62f",
   "metadata": {},
   "source": [
    "#### Duas moedas são lançadas. Dê dois possíveis espaços amostrais para esse experimento. Represente ele como um produto cartesiano de dois outros espaços amostrais."
   ]
  },
  {
   "cell_type": "markdown",
   "id": "3298e6b9",
   "metadata": {},
   "source": [
    "Designando C para cara e R para coroa, temos um primeiro espaço amostral:\n",
    "**Ω = { (C, C), (C, R), (R, C), (R, R) }**\n",
    "\n",
    "Se cada ponto amostral ω representa o número de caras nos lançamentos, um outro espaço amostral é descrito por:\n",
    "**Ω = { 0, 1, 2 }**\n",
    "\n",
    "Podemos representar Ω como produto cartesiano da seguinte forma:\n",
    "**Ω = {C, R} × {C, R}**"
   ]
  }
 ],
 "metadata": {
  "kernelspec": {
   "display_name": "Python 3 (ipykernel)",
   "language": "python",
   "name": "python3"
  },
  "language_info": {
   "codemirror_mode": {
    "name": "ipython",
    "version": 3
   },
   "file_extension": ".py",
   "mimetype": "text/x-python",
   "name": "python",
   "nbconvert_exporter": "python",
   "pygments_lexer": "ipython3",
   "version": "3.10.2"
  }
 },
 "nbformat": 4,
 "nbformat_minor": 5
}
