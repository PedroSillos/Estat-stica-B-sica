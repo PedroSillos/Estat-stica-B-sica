{
 "cells": [
  {
   "cell_type": "markdown",
   "id": "2d336e78",
   "metadata": {},
   "source": [
    "### Problema 1"
   ]
  },
  {
   "cell_type": "markdown",
   "id": "d953d62f",
   "metadata": {},
   "source": [
    "#### Uma urna contém duas bolas brancas (B) e três bolas vermelhas (V). Retira-se uma bola ao acaso da urna. Se for branca, lança-se uma moeda; se for vermelha, ela é devolvida à urna e retira-se outra. Dê um espaço amostral para o experimento."
   ]
  },
  {
   "cell_type": "markdown",
   "id": "3298e6b9",
   "metadata": {},
   "source": [
    "Para os resultados da moeda temos cara (C) e coroa (R).\n",
    "\n",
    "Portanto o espaço amostral é:\n",
    "\n",
    "**Ω = { (B, C), (B, R), (V, B, C), (V, B, R), (V, V, B, C), (V, V, B, R), (V, V, V, B, C), (V, V, V, B, R), ... }**"
   ]
  }
 ],
 "metadata": {
  "kernelspec": {
   "display_name": "Python 3 (ipykernel)",
   "language": "python",
   "name": "python3"
  },
  "language_info": {
   "codemirror_mode": {
    "name": "ipython",
    "version": 3
   },
   "file_extension": ".py",
   "mimetype": "text/x-python",
   "name": "python",
   "nbconvert_exporter": "python",
   "pygments_lexer": "ipython3",
   "version": "3.10.2"
  }
 },
 "nbformat": 4,
 "nbformat_minor": 5
}
