{
 "cells": [
  {
   "cell_type": "markdown",
   "id": "2d336e78",
   "metadata": {},
   "source": [
    "### Problema 8"
   ]
  },
  {
   "cell_type": "markdown",
   "id": "d953d62f",
   "metadata": {},
   "source": [
    "#### Expresse em termos de operações entre eventos:"
   ]
  },
  {
   "cell_type": "markdown",
   "id": "3298e6b9",
   "metadata": {},
   "source": [
    "#### (a) A ocorre mas B não ocorre;"
   ]
  },
  {
   "cell_type": "markdown",
   "id": "6220511f",
   "metadata": {},
   "source": [
    "A ∩ B´"
   ]
  },
  {
   "cell_type": "markdown",
   "id": "e1c59883",
   "metadata": {},
   "source": [
    "#### (b) exatamente um dos eventos A e B ocorre;"
   ]
  },
  {
   "cell_type": "markdown",
   "id": "b8e7ba56",
   "metadata": {},
   "source": [
    "(A ∩ B´) U (A´ ∩ B)"
   ]
  },
  {
   "cell_type": "markdown",
   "id": "91bcec5c",
   "metadata": {},
   "source": [
    "#### (c) nenhum dos dois eventos A e B ocorre."
   ]
  },
  {
   "cell_type": "markdown",
   "id": "3551cb1b",
   "metadata": {},
   "source": [
    "(A U B)´ = A´ ∩ B´"
   ]
  }
 ],
 "metadata": {
  "kernelspec": {
   "display_name": "Python 3 (ipykernel)",
   "language": "python",
   "name": "python3"
  },
  "language_info": {
   "codemirror_mode": {
    "name": "ipython",
    "version": 3
   },
   "file_extension": ".py",
   "mimetype": "text/x-python",
   "name": "python",
   "nbconvert_exporter": "python",
   "pygments_lexer": "ipython3",
   "version": "3.10.2"
  }
 },
 "nbformat": 4,
 "nbformat_minor": 5
}
