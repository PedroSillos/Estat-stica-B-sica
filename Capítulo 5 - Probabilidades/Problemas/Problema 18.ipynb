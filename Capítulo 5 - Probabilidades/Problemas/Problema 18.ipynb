{
 "cells": [
  {
   "cell_type": "markdown",
   "id": "2d336e78",
   "metadata": {},
   "source": [
    "### Problema 18"
   ]
  },
  {
   "cell_type": "markdown",
   "id": "d953d62f",
   "metadata": {},
   "source": [
    "#### Um dado é viciado, de tal forma que a probabilidade sair um certo ponto é proporcional ao seu valor (6 é três vezes mais provável de sair do que 2). Calcular:"
   ]
  },
  {
   "cell_type": "markdown",
   "id": "26b31d31",
   "metadata": {},
   "source": [
    "Probabilidade de sair 1: 1/1+2+3+4+5+6 = 1/21\n",
    "\n",
    "Probabilidade de sair 2: 2/21\n",
    "\n",
    "Probabilidade de sair 3: 3/21\n",
    "\n",
    "Probabilidade de sair 4: 4/21\n",
    "\n",
    "Probabilidade de sair 5: 5/21\n",
    "\n",
    "Probabilidade de sair 6: 6/21"
   ]
  },
  {
   "cell_type": "markdown",
   "id": "255a138d",
   "metadata": {},
   "source": [
    "#### (a) a probabilidade de sair 5, sabendo-se que o ponto que saiu é impar;"
   ]
  },
  {
   "cell_type": "code",
   "execution_count": 1,
   "id": "d7e61b42",
   "metadata": {
    "scrolled": true
   },
   "outputs": [
    {
     "name": "stdout",
     "output_type": "stream",
     "text": [
      "Probabilidade de sair 5 = (5/21) /( (1/21) + (3/21) + (5/21) ) = 0.5555555555555556\n"
     ]
    }
   ],
   "source": [
    "print('Probabilidade de sair 5 = (5/21) /( (1/21) + (3/21) + (5/21) ) =', (5/21) /( (1/21) + (3/21) + (5/21) ))"
   ]
  },
  {
   "cell_type": "markdown",
   "id": "d394bb14",
   "metadata": {},
   "source": [
    "#### (b) a probabilidade de tirar um número par, sabendo-se que saiu um número maior que 3."
   ]
  },
  {
   "cell_type": "code",
   "execution_count": 2,
   "id": "24d24b3f",
   "metadata": {
    "scrolled": true
   },
   "outputs": [
    {
     "name": "stdout",
     "output_type": "stream",
     "text": [
      "Probabilidade de sair par = (4/21) + (6/21) /( (4/21) + (5/21) + (6/21) ) = 0.6666666666666667\n"
     ]
    }
   ],
   "source": [
    "print('Probabilidade de sair par = (4/21) + (6/21) /( (4/21) + (5/21) + (6/21) ) =', ((4/21) + (6/21)) /((4/21) + (5/21) + (6/21)) )"
   ]
  }
 ],
 "metadata": {
  "kernelspec": {
   "display_name": "Python 3 (ipykernel)",
   "language": "python",
   "name": "python3"
  },
  "language_info": {
   "codemirror_mode": {
    "name": "ipython",
    "version": 3
   },
   "file_extension": ".py",
   "mimetype": "text/x-python",
   "name": "python",
   "nbconvert_exporter": "python",
   "pygments_lexer": "ipython3",
   "version": "3.10.2"
  }
 },
 "nbformat": 4,
 "nbformat_minor": 5
}
