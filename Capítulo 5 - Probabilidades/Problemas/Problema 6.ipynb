{
 "cells": [
  {
   "cell_type": "markdown",
   "id": "2d336e78",
   "metadata": {},
   "source": [
    "### Problema 6"
   ]
  },
  {
   "cell_type": "markdown",
   "id": "d953d62f",
   "metadata": {},
   "source": [
    "#### Defina um espaço amostral para cada um dos seguintes experimentos aleatórios:"
   ]
  },
  {
   "cell_type": "markdown",
   "id": "9b590bf4",
   "metadata": {},
   "source": [
    "#### (a) Lançamento de dois dados; anota-se a configuração obtida."
   ]
  },
  {
   "cell_type": "markdown",
   "id": "3298e6b9",
   "metadata": {},
   "source": [
    "Espaço amostral do experimento:\n",
    "**Ω = { (1, 1), (1, 2), (1, 3), (1, 4), (1, 5), (1, 6), (2, 1), (2, 2), (2, 3), (2, 4), (2, 5), (2, 6), ... }**\n",
    "\n",
    "Podemos representar Ω como produto cartesiano da seguinte forma:\n",
    "**Ω = {1, 2, 3, 4, 5, 6} × {1, 2, 3, 4, 5, 6}**"
   ]
  },
  {
   "cell_type": "markdown",
   "id": "0a4d1744",
   "metadata": {},
   "source": [
    "#### Numa linha de produção conta-se o número de peças defeituosas num intervalo de uma hora."
   ]
  },
  {
   "cell_type": "markdown",
   "id": "40f30cfa",
   "metadata": {},
   "source": [
    "Espaço amostral do experimento:\n",
    "**Ω = { 0, 1, 2, 3, 4, 5, 6, 7, 8, 9, 10, ..., n }**\n",
    "\n",
    "Podemos representar Ω da seguinte forma:\n",
    "**Ω = { d ∈ Z+ } / { 0 <= d <= n }**"
   ]
  },
  {
   "cell_type": "markdown",
   "id": "9d6bb141",
   "metadata": {},
   "source": [
    "#### (c) Investigam-se famílias com três crianças, anotando-se a configuração segundo o sexo biológico das crianças."
   ]
  },
  {
   "cell_type": "markdown",
   "id": "19fbce63",
   "metadata": {},
   "source": [
    "Espaço amostral do experimento:\n",
    "**Ω = { (M, M, M), (M, M, F), (M, F, M), (F, M, M), (F, F, M), (F, M, F), (M, F, F), (F, F, F) }**\n",
    "\n",
    "Podemos representar Ω como produto cartesiano da seguinte forma:\n",
    "**Ω = {M, F} × {M, F} × {M, F}**"
   ]
  },
  {
   "cell_type": "markdown",
   "id": "bdf5a983",
   "metadata": {},
   "source": [
    "#### (d) Numa entrevista telefônica com 250 assinantes, anota-se se o proprietário tem ou não máquina de secar roupa."
   ]
  },
  {
   "cell_type": "markdown",
   "id": "9fbb5905",
   "metadata": {},
   "source": [
    "Espaço amostral do experimento:\n",
    "**Ω = { (S, S, S, ..., S), (S, S, S, ..., N), ... (N, N, N, ..., N) }**\n",
    "\n",
    "Podemos representar Ω como produto cartesiano da seguinte forma:\n",
    "**Ω = {S, N} × {S, N} × ... × {S, N}**"
   ]
  },
  {
   "cell_type": "markdown",
   "id": "e5cba82d",
   "metadata": {},
   "source": [
    "#### (e) Mede-se a duração de lâmpadas, deixando-as acesas até que se queimem."
   ]
  },
  {
   "cell_type": "markdown",
   "id": "b1f6634c",
   "metadata": {},
   "source": [
    "**Ω = { d ∈ R } / { 0 <= d }**"
   ]
  },
  {
   "cell_type": "markdown",
   "id": "5601028d",
   "metadata": {},
   "source": [
    "#### (f) Um fichário com dez nomes contém três nomes de mulheres. Seleciona-se ficha após ficha, até o último nome de mulher ser selecionado, e anota-se o número de fichas selecionadas."
   ]
  },
  {
   "cell_type": "markdown",
   "id": "6c48cc0b",
   "metadata": {},
   "source": [
    "**Ω = { 3, 4, 5, 6, 7, 8, 9, 10}**"
   ]
  }
 ],
 "metadata": {
  "kernelspec": {
   "display_name": "Python 3 (ipykernel)",
   "language": "python",
   "name": "python3"
  },
  "language_info": {
   "codemirror_mode": {
    "name": "ipython",
    "version": 3
   },
   "file_extension": ".py",
   "mimetype": "text/x-python",
   "name": "python",
   "nbconvert_exporter": "python",
   "pygments_lexer": "ipython3",
   "version": "3.10.2"
  }
 },
 "nbformat": 4,
 "nbformat_minor": 5
}
