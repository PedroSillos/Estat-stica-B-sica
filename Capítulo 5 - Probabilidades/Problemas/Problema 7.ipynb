{
 "cells": [
  {
   "cell_type": "markdown",
   "id": "2d336e78",
   "metadata": {},
   "source": [
    "### Problema 7"
   ]
  },
  {
   "cell_type": "markdown",
   "id": "d953d62f",
   "metadata": {},
   "source": [
    "#### No Problema 4, liste os eventos:"
   ]
  },
  {
   "cell_type": "markdown",
   "id": "3298e6b9",
   "metadata": {},
   "source": [
    "#### (a) pelo menos uma cara;"
   ]
  },
  {
   "cell_type": "markdown",
   "id": "6220511f",
   "metadata": {},
   "source": [
    "C1 = {CC, CR, RC}"
   ]
  },
  {
   "cell_type": "markdown",
   "id": "e1c59883",
   "metadata": {},
   "source": [
    "#### (b) duas caras;"
   ]
  },
  {
   "cell_type": "markdown",
   "id": "b8e7ba56",
   "metadata": {},
   "source": [
    "C2 = {CC}"
   ]
  },
  {
   "cell_type": "markdown",
   "id": "91bcec5c",
   "metadata": {},
   "source": [
    "#### (c) o complementar do evento em b."
   ]
  },
  {
   "cell_type": "markdown",
   "id": "3551cb1b",
   "metadata": {},
   "source": [
    "Cb = {CR, RC, RR}"
   ]
  }
 ],
 "metadata": {
  "kernelspec": {
   "display_name": "Python 3 (ipykernel)",
   "language": "python",
   "name": "python3"
  },
  "language_info": {
   "codemirror_mode": {
    "name": "ipython",
    "version": 3
   },
   "file_extension": ".py",
   "mimetype": "text/x-python",
   "name": "python",
   "nbconvert_exporter": "python",
   "pygments_lexer": "ipython3",
   "version": "3.10.2"
  }
 },
 "nbformat": 4,
 "nbformat_minor": 5
}
