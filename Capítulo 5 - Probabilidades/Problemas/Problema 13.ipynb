{
 "cells": [
  {
   "cell_type": "markdown",
   "id": "2d336e78",
   "metadata": {},
   "source": [
    "### Problema 13"
   ]
  },
  {
   "cell_type": "markdown",
   "id": "d953d62f",
   "metadata": {},
   "source": [
    "#### Obtenha as probabilidades dos eventos que aparecem nos Problemas 7 e 12."
   ]
  },
  {
   "cell_type": "markdown",
   "id": "a0554bd8",
   "metadata": {},
   "source": [
    "Problema 7\n",
    "\n",
    "P(C1) = 3/4\n",
    "\n",
    "P(C2) = 1/4\n",
    "\n",
    "P(Cb) = 3/4"
   ]
  },
  {
   "cell_type": "markdown",
   "id": "bcc57ea0",
   "metadata": {},
   "source": [
    "Problema 12\n",
    "\n",
    "P(A) = 4/36\n",
    "\n",
    "P(B) = 18/36\n",
    "\n",
    "P(A U B) = 19/36\n",
    "\n",
    "P(A ∩ B) = 3/36\n",
    "\n",
    "P(A´) = 1 - 4/36 = 32/36"
   ]
  }
 ],
 "metadata": {
  "kernelspec": {
   "display_name": "Python 3 (ipykernel)",
   "language": "python",
   "name": "python3"
  },
  "language_info": {
   "codemirror_mode": {
    "name": "ipython",
    "version": 3
   },
   "file_extension": ".py",
   "mimetype": "text/x-python",
   "name": "python",
   "nbconvert_exporter": "python",
   "pygments_lexer": "ipython3",
   "version": "3.10.2"
  }
 },
 "nbformat": 4,
 "nbformat_minor": 5
}
