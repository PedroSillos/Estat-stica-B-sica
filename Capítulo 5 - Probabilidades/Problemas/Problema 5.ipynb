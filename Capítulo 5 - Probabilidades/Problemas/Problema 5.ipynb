{
 "cells": [
  {
   "cell_type": "markdown",
   "id": "2d336e78",
   "metadata": {},
   "source": [
    "### Problema 5"
   ]
  },
  {
   "cell_type": "markdown",
   "id": "d953d62f",
   "metadata": {},
   "source": [
    "#### Uma moeda e um dado são lançados. Dê um espaço amostral do experimento e depois represente-o como produto cartesiano dos dois espaos amostrais, correspondente aos experimentos considerados individualmente."
   ]
  },
  {
   "cell_type": "markdown",
   "id": "3298e6b9",
   "metadata": {},
   "source": [
    "Espaço amostral do experimento:\n",
    "**Ω = { (C, 1), (C, 2), (C, 3), (C, 4), (C, 5), (C, 6), (R, 1), (R, 2), (R, 3), (R, 4), (R, 5), (R, 6) }**\n",
    "\n",
    "Podemos representar Ω como produto cartesiano da seguinte forma:\n",
    "**Ω = {C, R} × {1, 2, 3, 4, 5, 6}**"
   ]
  }
 ],
 "metadata": {
  "kernelspec": {
   "display_name": "Python 3 (ipykernel)",
   "language": "python",
   "name": "python3"
  },
  "language_info": {
   "codemirror_mode": {
    "name": "ipython",
    "version": 3
   },
   "file_extension": ".py",
   "mimetype": "text/x-python",
   "name": "python",
   "nbconvert_exporter": "python",
   "pygments_lexer": "ipython3",
   "version": "3.10.2"
  }
 },
 "nbformat": 4,
 "nbformat_minor": 5
}
