{
 "cells": [
  {
   "cell_type": "markdown",
   "id": "2d336e78",
   "metadata": {},
   "source": [
    "### Problema 14"
   ]
  },
  {
   "cell_type": "markdown",
   "id": "d953d62f",
   "metadata": {},
   "source": [
    "#### Que suposições devem ser feitas para que os resultados dos experimentos abaixo possam ser considerados equiprováveis?"
   ]
  },
  {
   "cell_type": "markdown",
   "id": "a0554bd8",
   "metadata": {},
   "source": [
    "#### (a) Lançamento de um dado."
   ]
  },
  {
   "cell_type": "markdown",
   "id": "167317f3",
   "metadata": {},
   "source": [
    "O dado não deve ser viciado, ou seja, todas as faces estão equilibradas."
   ]
  },
  {
   "cell_type": "markdown",
   "id": "bcc57ea0",
   "metadata": {},
   "source": [
    "#### (b) Opinião de moradores de uma cidade sobre um projeto governamental."
   ]
  },
  {
   "cell_type": "markdown",
   "id": "c95b879a",
   "metadata": {},
   "source": [
    "Devemos ter para cada alternativa de resposta a mesma quantidade de opiniões de\n",
    "moradores, por exemplo, 50% a favor e 50% contra se existirem apenas duas\n",
    "alternativas. "
   ]
  },
  {
   "cell_type": "markdown",
   "id": "1eaad6c8",
   "metadata": {},
   "source": [
    "#### (c) Preço de uma ação no fim da próxima semana."
   ]
  },
  {
   "cell_type": "markdown",
   "id": "1a9cdbe7",
   "metadata": {},
   "source": [
    "Precisamos ter a mesma probabilidade para cada centavo no intervalo [0, )"
   ]
  }
 ],
 "metadata": {
  "kernelspec": {
   "display_name": "Python 3 (ipykernel)",
   "language": "python",
   "name": "python3"
  },
  "language_info": {
   "codemirror_mode": {
    "name": "ipython",
    "version": 3
   },
   "file_extension": ".py",
   "mimetype": "text/x-python",
   "name": "python",
   "nbconvert_exporter": "python",
   "pygments_lexer": "ipython3",
   "version": "3.10.2"
  }
 },
 "nbformat": 4,
 "nbformat_minor": 5
}
