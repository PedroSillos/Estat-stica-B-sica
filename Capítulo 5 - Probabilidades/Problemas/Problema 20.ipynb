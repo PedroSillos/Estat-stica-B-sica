{
 "cells": [
  {
   "cell_type": "markdown",
   "id": "2d336e78",
   "metadata": {},
   "source": [
    "### Problema 20"
   ]
  },
  {
   "cell_type": "markdown",
   "id": "d953d62f",
   "metadata": {},
   "source": [
    "#### Na figura abaixo, temos um sistemas com 3 componentes funcionando independentemente, com confiabilidades p1, p2 e p3.\n",
    "#### Obtenha a confiabilidade do sistema."
   ]
  },
  {
   "cell_type": "markdown",
   "id": "9b339a35",
   "metadata": {
    "scrolled": true
   },
   "source": [
    "Confiabilidade = P( A1 ∩ (A2 U A3) )\n",
    "\n",
    "Como são independentes, A2 U A3 = p2 + p3 - (p2 * p3)\n",
    "\n",
    "Logo, Confiabilidade = **p1 * ( p2 + p3 - (p2 * p3) )**"
   ]
  }
 ],
 "metadata": {
  "kernelspec": {
   "display_name": "Python 3 (ipykernel)",
   "language": "python",
   "name": "python3"
  },
  "language_info": {
   "codemirror_mode": {
    "name": "ipython",
    "version": 3
   },
   "file_extension": ".py",
   "mimetype": "text/x-python",
   "name": "python",
   "nbconvert_exporter": "python",
   "pygments_lexer": "ipython3",
   "version": "3.10.2"
  }
 },
 "nbformat": 4,
 "nbformat_minor": 5
}
