{
 "cells": [
  {
   "cell_type": "markdown",
   "id": "2d336e78",
   "metadata": {},
   "source": [
    "### Problema 17"
   ]
  },
  {
   "cell_type": "markdown",
   "id": "d953d62f",
   "metadata": {},
   "source": [
    "#### A probabilidade de que A resolva (R) um problema é de 2/3, e a probabilidade de que B o resolva (R) é de 3/4.\n",
    "\n",
    "#### Se ambos tentarem independentemente, qual a probabilidade de o problema ser resovido?"
   ]
  },
  {
   "cell_type": "code",
   "execution_count": 1,
   "id": "dbb9bd05",
   "metadata": {},
   "outputs": [
    {
     "name": "stdout",
     "output_type": "stream",
     "text": [
      "P(A U B) = P(A) + P(B) - P(A ∩ B): = (2/3) + (3/4) - ( (2/3)*(3/4) ) = 0.9166666666666665\n"
     ]
    }
   ],
   "source": [
    "print(\"P(A U B) = P(A) + P(B) - P(A ∩ B): = (2/3) + (3/4) - ( (2/3)*(3/4) ) =\", (2/3) + (3/4) - ( (2/3)*(3/4) ) )"
   ]
  }
 ],
 "metadata": {
  "kernelspec": {
   "display_name": "Python 3 (ipykernel)",
   "language": "python",
   "name": "python3"
  },
  "language_info": {
   "codemirror_mode": {
    "name": "ipython",
    "version": 3
   },
   "file_extension": ".py",
   "mimetype": "text/x-python",
   "name": "python",
   "nbconvert_exporter": "python",
   "pygments_lexer": "ipython3",
   "version": "3.10.2"
  }
 },
 "nbformat": 4,
 "nbformat_minor": 5
}
