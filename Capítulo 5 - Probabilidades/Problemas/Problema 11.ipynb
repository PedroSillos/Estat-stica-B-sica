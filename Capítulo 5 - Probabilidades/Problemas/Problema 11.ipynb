{
 "cells": [
  {
   "cell_type": "markdown",
   "id": "2d336e78",
   "metadata": {},
   "source": [
    "### Problema 11"
   ]
  },
  {
   "cell_type": "markdown",
   "id": "d953d62f",
   "metadata": {},
   "source": [
    "#### Dentre seis números positivos e oito negativos, dois números são escolhidos ao acaso (sem reposição) e multiplicados. Qual a probabilidade de que o produto seja positivo?"
   ]
  },
  {
   "cell_type": "markdown",
   "id": "007404f6",
   "metadata": {},
   "source": [
    "Para que o produto seja positivo, podemos ter PxP e NxN. Portanto, temos:"
   ]
  },
  {
   "cell_type": "code",
   "execution_count": 2,
   "id": "b74d4a9f",
   "metadata": {},
   "outputs": [
    {
     "name": "stdout",
     "output_type": "stream",
     "text": [
      "Probabilidade de que o produto seja positivo: 0.4725274725274725\n"
     ]
    }
   ],
   "source": [
    "p_x_p=(6/14)*(5/13)\n",
    "n_x_n=(8/14)*(7/13)\n",
    "\n",
    "print('Probabilidade de que o produto seja positivo:', p_x_p + n_x_n)"
   ]
  }
 ],
 "metadata": {
  "kernelspec": {
   "display_name": "Python 3 (ipykernel)",
   "language": "python",
   "name": "python3"
  },
  "language_info": {
   "codemirror_mode": {
    "name": "ipython",
    "version": 3
   },
   "file_extension": ".py",
   "mimetype": "text/x-python",
   "name": "python",
   "nbconvert_exporter": "python",
   "pygments_lexer": "ipython3",
   "version": "3.10.2"
  }
 },
 "nbformat": 4,
 "nbformat_minor": 5
}
