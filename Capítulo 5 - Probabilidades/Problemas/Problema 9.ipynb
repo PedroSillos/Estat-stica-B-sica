{
 "cells": [
  {
   "cell_type": "markdown",
   "id": "2d336e78",
   "metadata": {},
   "source": [
    "### Problema 9"
   ]
  },
  {
   "cell_type": "markdown",
   "id": "d953d62f",
   "metadata": {},
   "source": [
    "#### No espaço amostral do Problema 3, atribua a cada ponto contendo k letras a probabilidade 1/2^k (assim, AA tem probabiolidade 1/4)."
   ]
  },
  {
   "cell_type": "markdown",
   "id": "3298e6b9",
   "metadata": {},
   "source": [
    "#### (a) Mostre que a soma das probabilidades dos pontos do espaço amostral é 1."
   ]
  },
  {
   "attachments": {
    "image.png": {
     "image/png": "[encoded data removed]"
    }
   },
   "cell_type": "markdown",
   "id": "6220511f",
   "metadata": {},
   "source": [
    "![image.png](attachment:image.png)"
   ]
  },
  {
   "cell_type": "markdown",
   "id": "e1c59883",
   "metadata": {},
   "source": [
    "#### (b) Calcule a probabilidade de que A vença (um jogador vence quando ganha duas partidas seguidas). Em seguida, calcule a probabilidade de que B vença."
   ]
  },
  {
   "cell_type": "markdown",
   "id": "b8e7ba56",
   "metadata": {},
   "source": [
    "A vence: P( (A, A) U (B, C, A, A) ) = 1/4 + 1/16 = 5/16\n",
    "\n",
    "B vence: P( (B, B) U (A, C, B, B) ) =  1/4 + 1/16 = 5/16"
   ]
  },
  {
   "cell_type": "markdown",
   "id": "91bcec5c",
   "metadata": {},
   "source": [
    "#### (c) Qual a probabilidade de que não haja decisão?"
   ]
  },
  {
   "cell_type": "markdown",
   "id": "3551cb1b",
   "metadata": {},
   "source": [
    "Não há decisão: P( (A, C, B, A) U (B, C, A, B) ) = 1/16 + 1/16 = 2/16 = 1/8"
   ]
  }
 ],
 "metadata": {
  "kernelspec": {
   "display_name": "Python 3 (ipykernel)",
   "language": "python",
   "name": "python3"
  },
  "language_info": {
   "codemirror_mode": {
    "name": "ipython",
    "version": 3
   },
   "file_extension": ".py",
   "mimetype": "text/x-python",
   "name": "python",
   "nbconvert_exporter": "python",
   "pygments_lexer": "ipython3",
   "version": "3.10.2"
  }
 },
 "nbformat": 4,
 "nbformat_minor": 5
}
