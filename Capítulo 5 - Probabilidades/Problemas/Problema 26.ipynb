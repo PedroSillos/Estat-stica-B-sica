{
 "cells": [
  {
   "cell_type": "markdown",
   "id": "2d336e78",
   "metadata": {},
   "source": [
    "### Problema 26"
   ]
  },
  {
   "cell_type": "markdown",
   "id": "d953d62f",
   "metadata": {},
   "source": [
    "#### Um restaurante popular apresenta apenas dois tipos de refeições: salada completa ou um prato à base de carne.\n",
    "#### Considere que 20% dos fregueses do sexo masculino preferem a salada, 30% das mulheres escolhem carne, 75% dos fregueses são homens e os seguintes eventos:\n",
    "\n",
    "H: freguês é homem\n",
    "\n",
    "M: fregués é mulher\n",
    "\n",
    "A: fregués prefere salada\n",
    "\n",
    "B: fregués prefere carne\n",
    "\n",
    "#### Calcular:"
   ]
  },
  {
   "cell_type": "markdown",
   "id": "63e17aea",
   "metadata": {},
   "source": [
    "#### (a) P(H), P(A|H), P(B|M)"
   ]
  },
  {
   "cell_type": "code",
   "execution_count": 1,
   "id": "42b213b0",
   "metadata": {},
   "outputs": [
    {
     "name": "stdout",
     "output_type": "stream",
     "text": [
      "P(H) = 0.75\n",
      "\n",
      "P(A|H) = 0.2\n",
      "\n",
      "P(B|M) = 0.3\n"
     ]
    }
   ],
   "source": [
    "print(\"P(H) =\", 75/100)\n",
    "print()\n",
    "print(\"P(A|H) =\", 20/100)\n",
    "print()\n",
    "print(\"P(B|M) =\", 30/100)"
   ]
  },
  {
   "cell_type": "markdown",
   "id": "5539c2f8",
   "metadata": {},
   "source": [
    "#### (b) P(A ∩ H), P(A U H)"
   ]
  },
  {
   "cell_type": "code",
   "execution_count": 2,
   "id": "312425ae",
   "metadata": {},
   "outputs": [
    {
     "name": "stdout",
     "output_type": "stream",
     "text": [
      "P(A ∩ H) = P(A|H) * P(H) = 0.15000000000000002\n",
      "\n",
      "P(A ∩ M) = P(A|M) * P(M) = 0.175\n",
      "\n",
      "P(A) = P(A ∩ H) * P(A ∩ M) = 0.325\n",
      "\n",
      "P(A U H) = P(A) + P(H) - P(A ∩ H) = 0.9249999999999999\n"
     ]
    }
   ],
   "source": [
    "print(\"P(A ∩ H) = P(A|H) * P(H) =\", (0.2)*(0.75) )\n",
    "print()\n",
    "print(\"P(A ∩ M) = P(A|M) * P(M) =\", (0.7)*(0.25) )\n",
    "print()\n",
    "print(\"P(A) = P(A ∩ H) * P(A ∩ M) =\", (0.2)*(0.75) + (0.7)*(0.25) )\n",
    "print()\n",
    "print(\"P(A U H) = P(A) + P(H) - P(A ∩ H) =\", 0.325 + 0.75 - (0.2)*(0.75))"
   ]
  },
  {
   "cell_type": "markdown",
   "id": "5307b824",
   "metadata": {},
   "source": [
    "#### (c) P(M|A)"
   ]
  },
  {
   "cell_type": "code",
   "execution_count": 3,
   "id": "b71db707",
   "metadata": {},
   "outputs": [
    {
     "name": "stdout",
     "output_type": "stream",
     "text": [
      "P(M|A) = P(M ∩ A) / P(A)\n",
      "\n",
      "P(M|A) = P(A|M) * P(M) / P(A)\n",
      "\n",
      "P(M|A) = 0.5384615384615384\n"
     ]
    }
   ],
   "source": [
    "print(\"P(M|A) = P(M ∩ A) / P(A)\")\n",
    "print()\n",
    "print(\"P(M|A) = P(A|M) * P(M) / P(A)\")\n",
    "print()\n",
    "print(\"P(M|A) =\", 0.7 * 0.25 / 0.325)"
   ]
  }
 ],
 "metadata": {
  "kernelspec": {
   "display_name": "Python 3 (ipykernel)",
   "language": "python",
   "name": "python3"
  },
  "language_info": {
   "codemirror_mode": {
    "name": "ipython",
    "version": 3
   },
   "file_extension": ".py",
   "mimetype": "text/x-python",
   "name": "python",
   "nbconvert_exporter": "python",
   "pygments_lexer": "ipython3",
   "version": "3.10.2"
  }
 },
 "nbformat": 4,
 "nbformat_minor": 5
}
