{
 "cells": [
  {
   "cell_type": "markdown",
   "id": "2d336e78",
   "metadata": {},
   "source": [
    "### Problema 21"
   ]
  },
  {
   "cell_type": "markdown",
   "id": "d953d62f",
   "metadata": {},
   "source": [
    "#### Na tabela abaixo, os números que aparecem são probabilidades relacionadas com a ocorrência de A, B, A ∩ B, etc. Assim, P(A) = 0.10, enquanto P(A ∩ B) = 0.04."
   ]
  },
  {
   "cell_type": "code",
   "execution_count": 1,
   "id": "8d9ae8b3",
   "metadata": {},
   "outputs": [
    {
     "data": {
      "text/html": [
       "<div>\n",
       "<style scoped>\n",
       "    .dataframe tbody tr th:only-of-type {\n",
       "        vertical-align: middle;\n",
       "    }\n",
       "\n",
       "    .dataframe tbody tr th {\n",
       "        vertical-align: top;\n",
       "    }\n",
       "\n",
       "    .dataframe thead th {\n",
       "        text-align: right;\n",
       "    }\n",
       "</style>\n",
       "<table border=\"1\" class=\"dataframe\">\n",
       "  <thead>\n",
       "    <tr style=\"text-align: right;\">\n",
       "      <th></th>\n",
       "      <th>B</th>\n",
       "      <th>B'</th>\n",
       "      <th>Total</th>\n",
       "    </tr>\n",
       "  </thead>\n",
       "  <tbody>\n",
       "    <tr>\n",
       "      <th>A</th>\n",
       "      <td>0.04</td>\n",
       "      <td>0.06</td>\n",
       "      <td>0.1</td>\n",
       "    </tr>\n",
       "    <tr>\n",
       "      <th>A'</th>\n",
       "      <td>0.08</td>\n",
       "      <td>0.82</td>\n",
       "      <td>0.9</td>\n",
       "    </tr>\n",
       "    <tr>\n",
       "      <th>Total</th>\n",
       "      <td>0.12</td>\n",
       "      <td>0.88</td>\n",
       "      <td>1.0</td>\n",
       "    </tr>\n",
       "  </tbody>\n",
       "</table>\n",
       "</div>"
      ],
      "text/plain": [
       "          B    B'  Total\n",
       "A      0.04  0.06    0.1\n",
       "A'     0.08  0.82    0.9\n",
       "Total  0.12  0.88    1.0"
      ]
     },
     "execution_count": 1,
     "metadata": {},
     "output_type": "execute_result"
    }
   ],
   "source": [
    "import pandas as pd\n",
    "\n",
    "df = pd.DataFrame(\n",
    "    data={\n",
    "        'B': [0.04, 0.08, 0.12],\n",
    "        \"B'\": [0.06, 0.82, 0.88],\n",
    "        'Total': [0.10, 0.90, 1]\n",
    "    },\n",
    "    index=['A', \"A'\", 'Total'])\n",
    "df"
   ]
  },
  {
   "cell_type": "markdown",
   "id": "8078ca97",
   "metadata": {},
   "source": [
    "#### Verifique se A e B são independentes."
   ]
  },
  {
   "cell_type": "code",
   "execution_count": 2,
   "id": "c42d25e1",
   "metadata": {},
   "outputs": [
    {
     "name": "stdout",
     "output_type": "stream",
     "text": [
      "A e B são independentes se P(A)*P(B) = P(A ∩ B)\n",
      "P(A) = 0.1\n",
      "P(B) = 0.12\n",
      "P(A) = 0.1\n",
      "\n",
      "P(A)*P(B) = 0.012\n",
      "P(A ∩ B) = 0.04\n",
      "\n",
      "A e B não são independentes.\n"
     ]
    }
   ],
   "source": [
    "print(\"A e B são independentes se P(A)*P(B) = P(A ∩ B)\")\n",
    "print(\"P(A) =\",df.at['A','Total'])\n",
    "print(\"P(B) =\",df.at['Total','B'])\n",
    "print(\"P(A) =\",df.at['A','Total'])\n",
    "print(\"\\nP(A)*P(B) =\",df.at['A','Total']*df.at['Total','B'])\n",
    "print(\"P(A ∩ B) =\",df.at['A','B'])\n",
    "      \n",
    "resposta = 'não'\n",
    "if (df.at['A','Total']*df.at['Total','B']) == df.at['A','B'] :\n",
    "    resposta = ''\n",
    "      \n",
    "print(\"\\nA e B\", resposta ,\"são independentes.\")"
   ]
  }
 ],
 "metadata": {
  "kernelspec": {
   "display_name": "Python 3 (ipykernel)",
   "language": "python",
   "name": "python3"
  },
  "language_info": {
   "codemirror_mode": {
    "name": "ipython",
    "version": 3
   },
   "file_extension": ".py",
   "mimetype": "text/x-python",
   "name": "python",
   "nbconvert_exporter": "python",
   "pygments_lexer": "ipython3",
   "version": "3.10.2"
  }
 },
 "nbformat": 4,
 "nbformat_minor": 5
}
