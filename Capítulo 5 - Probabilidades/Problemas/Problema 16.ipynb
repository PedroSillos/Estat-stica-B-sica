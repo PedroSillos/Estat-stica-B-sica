{
 "cells": [
  {
   "cell_type": "markdown",
   "id": "2d336e78",
   "metadata": {},
   "source": [
    "### Problema 16"
   ]
  },
  {
   "cell_type": "markdown",
   "id": "d953d62f",
   "metadata": {},
   "source": [
    "#### Considere uma urna contendo três bolas pretas (R) e cinco bolas vermelhas (V). Retire duas bolas da urna, sem reposição."
   ]
  },
  {
   "cell_type": "markdown",
   "id": "a0554bd8",
   "metadata": {},
   "source": [
    "#### (a) Obtenha os resultados possíveis e as respectivas probabilidades."
   ]
  },
  {
   "cell_type": "code",
   "execution_count": 1,
   "id": "dbb9bd05",
   "metadata": {},
   "outputs": [
    {
     "name": "stdout",
     "output_type": "stream",
     "text": [
      "Ω = { (R,R), (R,V), (V,R), (V,V) }\n",
      "P(R,R) = 3/8 * 2/7 = 0.10714285714285714\n",
      "P(R,V) = 3/8 * 5/7 = 0.26785714285714285\n",
      "P(V,R) = 5/8 * 3/7 = 0.26785714285714285\n",
      "P(V,V) = 5/8 * 4/7 = 0.35714285714285715\n",
      "P(Ω) = 1.0\n"
     ]
    }
   ],
   "source": [
    "print(\"Ω = { (R,R), (R,V), (V,R), (V,V) }\")\n",
    "\n",
    "print(\"P(R,R) = 3/8 * 2/7 =\", 6/56)\n",
    "\n",
    "print(\"P(R,V) = 3/8 * 5/7 =\", 15/56)\n",
    "\n",
    "print(\"P(V,R) = 5/8 * 3/7 =\", 15/56)\n",
    "\n",
    "print(\"P(V,V) = 5/8 * 4/7 =\", 20/56)\n",
    "\n",
    "print(\"P(Ω) =\", 6/56 + 15/56 + 15/56 + 20/56)"
   ]
  },
  {
   "cell_type": "markdown",
   "id": "bcc57ea0",
   "metadata": {},
   "source": [
    "#### (b) Mesmo problema, com reposição."
   ]
  },
  {
   "cell_type": "code",
   "execution_count": 2,
   "id": "554ee48b",
   "metadata": {},
   "outputs": [
    {
     "name": "stdout",
     "output_type": "stream",
     "text": [
      "Ω = { (R,R), (R,V), (V,R), (V,V) }\n",
      "P(R,R) = 3/8 * 3/8 = 0.140625\n",
      "P(R,V) = 3/8 * 5/8 = 0.234375\n",
      "P(V,R) = 5/8 * 3/8 = 0.234375\n",
      "P(V,V) = 5/8 * 5/8 = 0.390625\n",
      "P(Ω) = 1.0\n"
     ]
    }
   ],
   "source": [
    "print(\"Ω = { (R,R), (R,V), (V,R), (V,V) }\")\n",
    "\n",
    "print(\"P(R,R) = 3/8 * 3/8 =\", 9/64)\n",
    "\n",
    "print(\"P(R,V) = 3/8 * 5/8 =\", 15/64)\n",
    "\n",
    "print(\"P(V,R) = 5/8 * 3/8 =\", 15/64)\n",
    "\n",
    "print(\"P(V,V) = 5/8 * 5/8 =\", 25/64)\n",
    "\n",
    "print(\"P(Ω) =\", 9/64 + 15/64 + 15/64 + 25/64)"
   ]
  },
  {
   "cell_type": "markdown",
   "id": "4c41e070",
   "metadata": {},
   "source": [
    "#### No problema anterior, calcule as probabilidades dos eventos."
   ]
  },
  {
   "cell_type": "markdown",
   "id": "1bd07bdf",
   "metadata": {},
   "source": [
    "#### (a) Bola preta na primeira e segunda extrações."
   ]
  },
  {
   "cell_type": "code",
   "execution_count": 3,
   "id": "a0b2f4b6",
   "metadata": {},
   "outputs": [
    {
     "name": "stdout",
     "output_type": "stream",
     "text": [
      "Sem reposição: 0.10714285714285714\n",
      "Com reposição: 0.140625\n"
     ]
    }
   ],
   "source": [
    "print('Sem reposição:', 6/56)\n",
    "print('Com reposição:', 9/64)"
   ]
  },
  {
   "cell_type": "markdown",
   "id": "d1b1b1b8",
   "metadata": {},
   "source": [
    "#### (b) Bola preta na segunda extração."
   ]
  },
  {
   "cell_type": "code",
   "execution_count": 4,
   "id": "a80fb2e6",
   "metadata": {
    "scrolled": false
   },
   "outputs": [
    {
     "name": "stdout",
     "output_type": "stream",
     "text": [
      "Sem reposição: 0.375\n",
      "Com reposição: 0.375\n"
     ]
    }
   ],
   "source": [
    "print('Sem reposição:', 6/56 + 15/56)\n",
    "print('Com reposição:', 9/64 + 15/64)"
   ]
  },
  {
   "cell_type": "markdown",
   "id": "a1988d5a",
   "metadata": {},
   "source": [
    "#### (b) Bola vermelha na primeira extração."
   ]
  },
  {
   "cell_type": "code",
   "execution_count": 5,
   "id": "c6b2f05d",
   "metadata": {},
   "outputs": [
    {
     "name": "stdout",
     "output_type": "stream",
     "text": [
      "Sem reposição: 0.625\n",
      "Com reposição: 0.625\n"
     ]
    }
   ],
   "source": [
    "print('Sem reposição:', 15/56 + 20/56)\n",
    "print('Com reposição:', 15/64 + 25/64)"
   ]
  }
 ],
 "metadata": {
  "kernelspec": {
   "display_name": "Python 3 (ipykernel)",
   "language": "python",
   "name": "python3"
  },
  "language_info": {
   "codemirror_mode": {
    "name": "ipython",
    "version": 3
   },
   "file_extension": ".py",
   "mimetype": "text/x-python",
   "name": "python",
   "nbconvert_exporter": "python",
   "pygments_lexer": "ipython3",
   "version": "3.10.2"
  }
 },
 "nbformat": 4,
 "nbformat_minor": 5
}
