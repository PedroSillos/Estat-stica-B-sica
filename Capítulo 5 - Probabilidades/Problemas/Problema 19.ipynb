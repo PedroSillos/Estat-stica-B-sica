{
 "cells": [
  {
   "cell_type": "markdown",
   "id": "2d336e78",
   "metadata": {},
   "source": [
    "### Problema 19"
   ]
  },
  {
   "cell_type": "markdown",
   "id": "d953d62f",
   "metadata": {},
   "source": [
    "#### As probabilidades de que dois eventos independentes ocorram são p e q, respectivamente. Qual a probabilidade:"
   ]
  },
  {
   "cell_type": "markdown",
   "id": "255a138d",
   "metadata": {},
   "source": [
    "#### (a) de que nenhum desses eventos ocorra?"
   ]
  },
  {
   "cell_type": "markdown",
   "id": "d5b7628a",
   "metadata": {
    "scrolled": true
   },
   "source": [
    "(1 - p) * (1 - q), pois se A e B são independentes, seus complementos também são independentes."
   ]
  },
  {
   "cell_type": "markdown",
   "id": "d394bb14",
   "metadata": {},
   "source": [
    "#### (b) de que pelo menos um desses eventos ocorra?"
   ]
  },
  {
   "cell_type": "markdown",
   "id": "9b339a35",
   "metadata": {
    "scrolled": true
   },
   "source": [
    "Se são independentes, a probabilidade da intersecção deles é igual ao produto das probabilidades.\n",
    "\n",
    "A probabilidade da união é:\n",
    "\n",
    "**p + q - (p * q)**"
   ]
  }
 ],
 "metadata": {
  "kernelspec": {
   "display_name": "Python 3 (ipykernel)",
   "language": "python",
   "name": "python3"
  },
  "language_info": {
   "codemirror_mode": {
    "name": "ipython",
    "version": 3
   },
   "file_extension": ".py",
   "mimetype": "text/x-python",
   "name": "python",
   "nbconvert_exporter": "python",
   "pygments_lexer": "ipython3",
   "version": "3.10.2"
  }
 },
 "nbformat": 4,
 "nbformat_minor": 5
}
